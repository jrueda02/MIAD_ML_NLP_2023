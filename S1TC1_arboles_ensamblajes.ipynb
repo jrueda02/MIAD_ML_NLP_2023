{
  "cells": [
    {
      "cell_type": "markdown",
      "metadata": {
        "id": "HdS79OR0AiYs"
      },
      "source": [
        "![image info](https://raw.githubusercontent.com/albahnsen/MIAD_ML_and_NLP/main/images/banner_1.png)"
      ]
    },
    {
      "cell_type": "markdown",
      "metadata": {
        "id": "DElb8JoXAiYt"
      },
      "source": [
        "# Taller: Construcción e implementación de árboles de decisión y métodos de ensamblaje\n",
        "\n",
        "En este taller podrá poner en práctica los sus conocimientos sobre construcción e implementación de árboles de decisión y métodos de ensamblajes. El taller está constituido por 9 puntos, 5 relacionados con árboles de decisión (parte A) y 4 con métodos de ensamblaje (parte B)."
      ]
    },
    {
      "cell_type": "markdown",
      "metadata": {
        "id": "rgjAV8F_AiYu"
      },
      "source": [
        "## Parte A - Árboles de decisión\n",
        "\n",
        "En esta parte del taller se usará el conjunto de datos de Capital Bikeshare de Kaggle, donde cada observación representa el alquiler de bicicletas durante una hora y día determinado. Para más detalles puede visitar los siguientes enlaces: [datos](https://archive.ics.uci.edu/ml/machine-learning-databases/00275/Bike-Sharing-Dataset.zip), [dicccionario de datos](https://archive.ics.uci.edu/ml/datasets/Bike+Sharing+Dataset#)."
      ]
    },
    {
      "cell_type": "markdown",
      "metadata": {
        "id": "uA_n9LPVAiYu"
      },
      "source": [
        "### Datos prestamo de bicicletas"
      ]
    },
    {
      "cell_type": "code",
      "execution_count": 1,
      "metadata": {
        "id": "QVpiLTUNAiYu"
      },
      "outputs": [],
      "source": [
        "import warnings\n",
        "warnings.filterwarnings('ignore')"
      ]
    },
    {
      "cell_type": "code",
      "execution_count": 2,
      "metadata": {
        "id": "Vs_sGfGBAiYv"
      },
      "outputs": [],
      "source": [
        "# Importación de librerías\n",
        "%matplotlib inline\n",
        "import pandas as pd\n",
        "import numpy as np\n",
        "from sklearn.model_selection import cross_val_score\n",
        "from sklearn.linear_model import LinearRegression\n",
        "from sklearn.tree import DecisionTreeRegressor, export_graphviz\n",
        "import matplotlib.pyplot as plt\n",
        "from sklearn.metrics import accuracy_score\n",
        "from sklearn.metrics import precision_score\n",
        "from sklearn.metrics import confusion_matrix\n",
        "from sklearn import metrics\n",
        "from sklearn.metrics import f1_score"
      ]
    },
    {
      "cell_type": "code",
      "execution_count": 3,
      "metadata": {
        "id": "qqxIdFbyAiYv",
        "outputId": "fe84c10b-911f-4c00-940a-21662e03b80c",
        "colab": {
          "base_uri": "https://localhost:8080/",
          "height": 238
        }
      },
      "outputs": [
        {
          "output_type": "execute_result",
          "data": {
            "text/plain": [
              "                     season  holiday  workingday  weather  temp   atemp  \\\n",
              "datetime                                                                  \n",
              "2011-01-01 00:00:00       1        0           0        1  9.84  14.395   \n",
              "2011-01-01 01:00:00       1        0           0        1  9.02  13.635   \n",
              "2011-01-01 02:00:00       1        0           0        1  9.02  13.635   \n",
              "2011-01-01 03:00:00       1        0           0        1  9.84  14.395   \n",
              "2011-01-01 04:00:00       1        0           0        1  9.84  14.395   \n",
              "\n",
              "                     humidity  windspeed  casual  registered  total  hour  \n",
              "datetime                                                                   \n",
              "2011-01-01 00:00:00        81        0.0       3          13     16     0  \n",
              "2011-01-01 01:00:00        80        0.0       8          32     40     1  \n",
              "2011-01-01 02:00:00        80        0.0       5          27     32     2  \n",
              "2011-01-01 03:00:00        75        0.0       3          10     13     3  \n",
              "2011-01-01 04:00:00        75        0.0       0           1      1     4  "
            ],
            "text/html": [
              "\n",
              "  <div id=\"df-92c3b525-4f6d-40ac-82f3-b1b053c48a74\">\n",
              "    <div class=\"colab-df-container\">\n",
              "      <div>\n",
              "<style scoped>\n",
              "    .dataframe tbody tr th:only-of-type {\n",
              "        vertical-align: middle;\n",
              "    }\n",
              "\n",
              "    .dataframe tbody tr th {\n",
              "        vertical-align: top;\n",
              "    }\n",
              "\n",
              "    .dataframe thead th {\n",
              "        text-align: right;\n",
              "    }\n",
              "</style>\n",
              "<table border=\"1\" class=\"dataframe\">\n",
              "  <thead>\n",
              "    <tr style=\"text-align: right;\">\n",
              "      <th></th>\n",
              "      <th>season</th>\n",
              "      <th>holiday</th>\n",
              "      <th>workingday</th>\n",
              "      <th>weather</th>\n",
              "      <th>temp</th>\n",
              "      <th>atemp</th>\n",
              "      <th>humidity</th>\n",
              "      <th>windspeed</th>\n",
              "      <th>casual</th>\n",
              "      <th>registered</th>\n",
              "      <th>total</th>\n",
              "      <th>hour</th>\n",
              "    </tr>\n",
              "    <tr>\n",
              "      <th>datetime</th>\n",
              "      <th></th>\n",
              "      <th></th>\n",
              "      <th></th>\n",
              "      <th></th>\n",
              "      <th></th>\n",
              "      <th></th>\n",
              "      <th></th>\n",
              "      <th></th>\n",
              "      <th></th>\n",
              "      <th></th>\n",
              "      <th></th>\n",
              "      <th></th>\n",
              "    </tr>\n",
              "  </thead>\n",
              "  <tbody>\n",
              "    <tr>\n",
              "      <th>2011-01-01 00:00:00</th>\n",
              "      <td>1</td>\n",
              "      <td>0</td>\n",
              "      <td>0</td>\n",
              "      <td>1</td>\n",
              "      <td>9.84</td>\n",
              "      <td>14.395</td>\n",
              "      <td>81</td>\n",
              "      <td>0.0</td>\n",
              "      <td>3</td>\n",
              "      <td>13</td>\n",
              "      <td>16</td>\n",
              "      <td>0</td>\n",
              "    </tr>\n",
              "    <tr>\n",
              "      <th>2011-01-01 01:00:00</th>\n",
              "      <td>1</td>\n",
              "      <td>0</td>\n",
              "      <td>0</td>\n",
              "      <td>1</td>\n",
              "      <td>9.02</td>\n",
              "      <td>13.635</td>\n",
              "      <td>80</td>\n",
              "      <td>0.0</td>\n",
              "      <td>8</td>\n",
              "      <td>32</td>\n",
              "      <td>40</td>\n",
              "      <td>1</td>\n",
              "    </tr>\n",
              "    <tr>\n",
              "      <th>2011-01-01 02:00:00</th>\n",
              "      <td>1</td>\n",
              "      <td>0</td>\n",
              "      <td>0</td>\n",
              "      <td>1</td>\n",
              "      <td>9.02</td>\n",
              "      <td>13.635</td>\n",
              "      <td>80</td>\n",
              "      <td>0.0</td>\n",
              "      <td>5</td>\n",
              "      <td>27</td>\n",
              "      <td>32</td>\n",
              "      <td>2</td>\n",
              "    </tr>\n",
              "    <tr>\n",
              "      <th>2011-01-01 03:00:00</th>\n",
              "      <td>1</td>\n",
              "      <td>0</td>\n",
              "      <td>0</td>\n",
              "      <td>1</td>\n",
              "      <td>9.84</td>\n",
              "      <td>14.395</td>\n",
              "      <td>75</td>\n",
              "      <td>0.0</td>\n",
              "      <td>3</td>\n",
              "      <td>10</td>\n",
              "      <td>13</td>\n",
              "      <td>3</td>\n",
              "    </tr>\n",
              "    <tr>\n",
              "      <th>2011-01-01 04:00:00</th>\n",
              "      <td>1</td>\n",
              "      <td>0</td>\n",
              "      <td>0</td>\n",
              "      <td>1</td>\n",
              "      <td>9.84</td>\n",
              "      <td>14.395</td>\n",
              "      <td>75</td>\n",
              "      <td>0.0</td>\n",
              "      <td>0</td>\n",
              "      <td>1</td>\n",
              "      <td>1</td>\n",
              "      <td>4</td>\n",
              "    </tr>\n",
              "  </tbody>\n",
              "</table>\n",
              "</div>\n",
              "      <button class=\"colab-df-convert\" onclick=\"convertToInteractive('df-92c3b525-4f6d-40ac-82f3-b1b053c48a74')\"\n",
              "              title=\"Convert this dataframe to an interactive table.\"\n",
              "              style=\"display:none;\">\n",
              "        \n",
              "  <svg xmlns=\"http://www.w3.org/2000/svg\" height=\"24px\"viewBox=\"0 0 24 24\"\n",
              "       width=\"24px\">\n",
              "    <path d=\"M0 0h24v24H0V0z\" fill=\"none\"/>\n",
              "    <path d=\"M18.56 5.44l.94 2.06.94-2.06 2.06-.94-2.06-.94-.94-2.06-.94 2.06-2.06.94zm-11 1L8.5 8.5l.94-2.06 2.06-.94-2.06-.94L8.5 2.5l-.94 2.06-2.06.94zm10 10l.94 2.06.94-2.06 2.06-.94-2.06-.94-.94-2.06-.94 2.06-2.06.94z\"/><path d=\"M17.41 7.96l-1.37-1.37c-.4-.4-.92-.59-1.43-.59-.52 0-1.04.2-1.43.59L10.3 9.45l-7.72 7.72c-.78.78-.78 2.05 0 2.83L4 21.41c.39.39.9.59 1.41.59.51 0 1.02-.2 1.41-.59l7.78-7.78 2.81-2.81c.8-.78.8-2.07 0-2.86zM5.41 20L4 18.59l7.72-7.72 1.47 1.35L5.41 20z\"/>\n",
              "  </svg>\n",
              "      </button>\n",
              "      \n",
              "  <style>\n",
              "    .colab-df-container {\n",
              "      display:flex;\n",
              "      flex-wrap:wrap;\n",
              "      gap: 12px;\n",
              "    }\n",
              "\n",
              "    .colab-df-convert {\n",
              "      background-color: #E8F0FE;\n",
              "      border: none;\n",
              "      border-radius: 50%;\n",
              "      cursor: pointer;\n",
              "      display: none;\n",
              "      fill: #1967D2;\n",
              "      height: 32px;\n",
              "      padding: 0 0 0 0;\n",
              "      width: 32px;\n",
              "    }\n",
              "\n",
              "    .colab-df-convert:hover {\n",
              "      background-color: #E2EBFA;\n",
              "      box-shadow: 0px 1px 2px rgba(60, 64, 67, 0.3), 0px 1px 3px 1px rgba(60, 64, 67, 0.15);\n",
              "      fill: #174EA6;\n",
              "    }\n",
              "\n",
              "    [theme=dark] .colab-df-convert {\n",
              "      background-color: #3B4455;\n",
              "      fill: #D2E3FC;\n",
              "    }\n",
              "\n",
              "    [theme=dark] .colab-df-convert:hover {\n",
              "      background-color: #434B5C;\n",
              "      box-shadow: 0px 1px 3px 1px rgba(0, 0, 0, 0.15);\n",
              "      filter: drop-shadow(0px 1px 2px rgba(0, 0, 0, 0.3));\n",
              "      fill: #FFFFFF;\n",
              "    }\n",
              "  </style>\n",
              "\n",
              "      <script>\n",
              "        const buttonEl =\n",
              "          document.querySelector('#df-92c3b525-4f6d-40ac-82f3-b1b053c48a74 button.colab-df-convert');\n",
              "        buttonEl.style.display =\n",
              "          google.colab.kernel.accessAllowed ? 'block' : 'none';\n",
              "\n",
              "        async function convertToInteractive(key) {\n",
              "          const element = document.querySelector('#df-92c3b525-4f6d-40ac-82f3-b1b053c48a74');\n",
              "          const dataTable =\n",
              "            await google.colab.kernel.invokeFunction('convertToInteractive',\n",
              "                                                     [key], {});\n",
              "          if (!dataTable) return;\n",
              "\n",
              "          const docLinkHtml = 'Like what you see? Visit the ' +\n",
              "            '<a target=\"_blank\" href=https://colab.research.google.com/notebooks/data_table.ipynb>data table notebook</a>'\n",
              "            + ' to learn more about interactive tables.';\n",
              "          element.innerHTML = '';\n",
              "          dataTable['output_type'] = 'display_data';\n",
              "          await google.colab.output.renderOutput(dataTable, element);\n",
              "          const docLink = document.createElement('div');\n",
              "          docLink.innerHTML = docLinkHtml;\n",
              "          element.appendChild(docLink);\n",
              "        }\n",
              "      </script>\n",
              "    </div>\n",
              "  </div>\n",
              "  "
            ]
          },
          "metadata": {},
          "execution_count": 3
        }
      ],
      "source": [
        "# Lectura de la información de archivo .csv\n",
        "bikes = pd.read_csv('https://raw.githubusercontent.com/davidzarruk/MIAD_ML_NLP_2023/main/datasets/bikeshare.csv', index_col='datetime', parse_dates=True)\n",
        "\n",
        "# Renombrar variable \"count\" a \"total\"\n",
        "bikes.rename(columns={'count':'total'}, inplace=True)\n",
        "\n",
        "# Crear la hora como una variable \n",
        "bikes['hour'] = bikes.index.hour\n",
        "\n",
        "# Visualización de los datos\n",
        "bikes.head()"
      ]
    },
    {
      "cell_type": "markdown",
      "metadata": {
        "id": "obzLJBgkAiYv"
      },
      "source": [
        "### Punto 1 - Análisis descriptivo\n",
        "\n",
        "Ejecute las celdas 1.1 y 1.2. A partir de los resultados realice un análisis descriptivo sobre las variables \"season\" y \"hour\", escriba sus inferencias sobre los datos. Para complementar su análisis puede usar métricas como máximo, mínimo, percentiles entre otros."
      ]
    },
    {
      "cell_type": "code",
      "execution_count": 4,
      "metadata": {
        "id": "PBKAsMD5AiYw",
        "outputId": "6e262d43-d431-4f76-924f-0eeb3d28fdb7",
        "colab": {
          "base_uri": "https://localhost:8080/"
        }
      },
      "outputs": [
        {
          "output_type": "execute_result",
          "data": {
            "text/plain": [
              "season\n",
              "1    116.343261\n",
              "2    215.251372\n",
              "3    234.417124\n",
              "4    198.988296\n",
              "Name: total, dtype: float64"
            ]
          },
          "metadata": {},
          "execution_count": 4
        }
      ],
      "source": [
        "# Celda 1.1\n",
        "bikes.groupby('season').total.mean()"
      ]
    },
    {
      "cell_type": "code",
      "execution_count": 5,
      "metadata": {
        "scrolled": true,
        "id": "jVhppSGsAiYw",
        "outputId": "d676a430-c7e4-4c3b-d7b0-26052e6e4789",
        "colab": {
          "base_uri": "https://localhost:8080/"
        }
      },
      "outputs": [
        {
          "output_type": "execute_result",
          "data": {
            "text/plain": [
              "hour\n",
              "0      55.138462\n",
              "1      33.859031\n",
              "2      22.899554\n",
              "3      11.757506\n",
              "4       6.407240\n",
              "5      19.767699\n",
              "6      76.259341\n",
              "7     213.116484\n",
              "8     362.769231\n",
              "9     221.780220\n",
              "10    175.092308\n",
              "11    210.674725\n",
              "12    256.508772\n",
              "13    257.787281\n",
              "14    243.442982\n",
              "15    254.298246\n",
              "16    316.372807\n",
              "17    468.765351\n",
              "18    430.859649\n",
              "19    315.278509\n",
              "20    228.517544\n",
              "21    173.370614\n",
              "22    133.576754\n",
              "23     89.508772\n",
              "Name: total, dtype: float64"
            ]
          },
          "metadata": {},
          "execution_count": 5
        }
      ],
      "source": [
        "# Celda 1.2\n",
        "bikes.groupby('hour').total.mean()"
      ]
    },
    {
      "cell_type": "code",
      "source": [
        "bikes.groupby('hour').total.describe()"
      ],
      "metadata": {
        "colab": {
          "base_uri": "https://localhost:8080/",
          "height": 833
        },
        "id": "41j6He9pQyJh",
        "outputId": "c2a59f6f-a1ff-493d-c6ac-910557235bc5"
      },
      "execution_count": 6,
      "outputs": [
        {
          "output_type": "execute_result",
          "data": {
            "text/plain": [
              "      count        mean         std   min     25%    50%     75%    max\n",
              "hour                                                                   \n",
              "0     455.0   55.138462   43.620012   2.0   24.00   41.0   74.50  283.0\n",
              "1     454.0   33.859031   34.112105   1.0   11.00   19.0   46.00  168.0\n",
              "2     448.0   22.899554   26.110267   1.0    5.00   11.0   32.00  119.0\n",
              "3     433.0   11.757506   12.666442   1.0    3.00    6.0   15.00   66.0\n",
              "4     442.0    6.407240    4.217633   1.0    3.00    6.0    9.00   28.0\n",
              "5     452.0   19.767699   12.784293   1.0    8.00   19.0   29.00   57.0\n",
              "6     455.0   76.259341   54.745333   1.0   24.50   75.0  118.00  213.0\n",
              "7     455.0  213.116484  159.207044   1.0   63.00  208.0  334.00  596.0\n",
              "8     455.0  362.769231  231.723065   8.0  133.50  392.0  563.50  839.0\n",
              "9     455.0  221.780220   92.099209  14.0  161.00  217.0  294.50  414.0\n",
              "10    455.0  175.092308  101.807629  17.0  106.00  149.0  218.50  539.0\n",
              "11    455.0  210.674725  127.444294  10.0  123.00  183.0  265.50  647.0\n",
              "12    456.0  256.508772  143.881880   3.0  157.00  234.5  332.00  757.0\n",
              "13    456.0  257.787281  149.167185  11.0  154.00  226.5  329.00  729.0\n",
              "14    456.0  243.442982  147.563199  12.0  144.00  212.0  311.25  730.0\n",
              "15    456.0  254.298246  144.235670   7.0  154.00  232.0  331.00  724.0\n",
              "16    456.0  316.372807  145.664786  11.0  211.75  309.5  421.00  783.0\n",
              "17    456.0  468.765351  223.775485  15.0  277.00  480.5  608.50  970.0\n",
              "18    456.0  430.859649  219.908138  23.0  240.75  422.5  564.00  977.0\n",
              "19    456.0  315.278509  156.641732  11.0  190.00  312.5  416.00  743.0\n",
              "20    456.0  228.517544  116.411565  11.0  136.75  224.0  302.00  551.0\n",
              "21    456.0  173.370614   87.629319   6.0  103.50  171.5  230.00  584.0\n",
              "22    456.0  133.576754   69.844495   9.0   80.00  129.0  175.00  502.0\n",
              "23    456.0   89.508772   51.638004   4.0   52.75   80.0  123.00  256.0"
            ],
            "text/html": [
              "\n",
              "  <div id=\"df-496b9aff-69f8-4e29-a8f1-731176246faa\">\n",
              "    <div class=\"colab-df-container\">\n",
              "      <div>\n",
              "<style scoped>\n",
              "    .dataframe tbody tr th:only-of-type {\n",
              "        vertical-align: middle;\n",
              "    }\n",
              "\n",
              "    .dataframe tbody tr th {\n",
              "        vertical-align: top;\n",
              "    }\n",
              "\n",
              "    .dataframe thead th {\n",
              "        text-align: right;\n",
              "    }\n",
              "</style>\n",
              "<table border=\"1\" class=\"dataframe\">\n",
              "  <thead>\n",
              "    <tr style=\"text-align: right;\">\n",
              "      <th></th>\n",
              "      <th>count</th>\n",
              "      <th>mean</th>\n",
              "      <th>std</th>\n",
              "      <th>min</th>\n",
              "      <th>25%</th>\n",
              "      <th>50%</th>\n",
              "      <th>75%</th>\n",
              "      <th>max</th>\n",
              "    </tr>\n",
              "    <tr>\n",
              "      <th>hour</th>\n",
              "      <th></th>\n",
              "      <th></th>\n",
              "      <th></th>\n",
              "      <th></th>\n",
              "      <th></th>\n",
              "      <th></th>\n",
              "      <th></th>\n",
              "      <th></th>\n",
              "    </tr>\n",
              "  </thead>\n",
              "  <tbody>\n",
              "    <tr>\n",
              "      <th>0</th>\n",
              "      <td>455.0</td>\n",
              "      <td>55.138462</td>\n",
              "      <td>43.620012</td>\n",
              "      <td>2.0</td>\n",
              "      <td>24.00</td>\n",
              "      <td>41.0</td>\n",
              "      <td>74.50</td>\n",
              "      <td>283.0</td>\n",
              "    </tr>\n",
              "    <tr>\n",
              "      <th>1</th>\n",
              "      <td>454.0</td>\n",
              "      <td>33.859031</td>\n",
              "      <td>34.112105</td>\n",
              "      <td>1.0</td>\n",
              "      <td>11.00</td>\n",
              "      <td>19.0</td>\n",
              "      <td>46.00</td>\n",
              "      <td>168.0</td>\n",
              "    </tr>\n",
              "    <tr>\n",
              "      <th>2</th>\n",
              "      <td>448.0</td>\n",
              "      <td>22.899554</td>\n",
              "      <td>26.110267</td>\n",
              "      <td>1.0</td>\n",
              "      <td>5.00</td>\n",
              "      <td>11.0</td>\n",
              "      <td>32.00</td>\n",
              "      <td>119.0</td>\n",
              "    </tr>\n",
              "    <tr>\n",
              "      <th>3</th>\n",
              "      <td>433.0</td>\n",
              "      <td>11.757506</td>\n",
              "      <td>12.666442</td>\n",
              "      <td>1.0</td>\n",
              "      <td>3.00</td>\n",
              "      <td>6.0</td>\n",
              "      <td>15.00</td>\n",
              "      <td>66.0</td>\n",
              "    </tr>\n",
              "    <tr>\n",
              "      <th>4</th>\n",
              "      <td>442.0</td>\n",
              "      <td>6.407240</td>\n",
              "      <td>4.217633</td>\n",
              "      <td>1.0</td>\n",
              "      <td>3.00</td>\n",
              "      <td>6.0</td>\n",
              "      <td>9.00</td>\n",
              "      <td>28.0</td>\n",
              "    </tr>\n",
              "    <tr>\n",
              "      <th>5</th>\n",
              "      <td>452.0</td>\n",
              "      <td>19.767699</td>\n",
              "      <td>12.784293</td>\n",
              "      <td>1.0</td>\n",
              "      <td>8.00</td>\n",
              "      <td>19.0</td>\n",
              "      <td>29.00</td>\n",
              "      <td>57.0</td>\n",
              "    </tr>\n",
              "    <tr>\n",
              "      <th>6</th>\n",
              "      <td>455.0</td>\n",
              "      <td>76.259341</td>\n",
              "      <td>54.745333</td>\n",
              "      <td>1.0</td>\n",
              "      <td>24.50</td>\n",
              "      <td>75.0</td>\n",
              "      <td>118.00</td>\n",
              "      <td>213.0</td>\n",
              "    </tr>\n",
              "    <tr>\n",
              "      <th>7</th>\n",
              "      <td>455.0</td>\n",
              "      <td>213.116484</td>\n",
              "      <td>159.207044</td>\n",
              "      <td>1.0</td>\n",
              "      <td>63.00</td>\n",
              "      <td>208.0</td>\n",
              "      <td>334.00</td>\n",
              "      <td>596.0</td>\n",
              "    </tr>\n",
              "    <tr>\n",
              "      <th>8</th>\n",
              "      <td>455.0</td>\n",
              "      <td>362.769231</td>\n",
              "      <td>231.723065</td>\n",
              "      <td>8.0</td>\n",
              "      <td>133.50</td>\n",
              "      <td>392.0</td>\n",
              "      <td>563.50</td>\n",
              "      <td>839.0</td>\n",
              "    </tr>\n",
              "    <tr>\n",
              "      <th>9</th>\n",
              "      <td>455.0</td>\n",
              "      <td>221.780220</td>\n",
              "      <td>92.099209</td>\n",
              "      <td>14.0</td>\n",
              "      <td>161.00</td>\n",
              "      <td>217.0</td>\n",
              "      <td>294.50</td>\n",
              "      <td>414.0</td>\n",
              "    </tr>\n",
              "    <tr>\n",
              "      <th>10</th>\n",
              "      <td>455.0</td>\n",
              "      <td>175.092308</td>\n",
              "      <td>101.807629</td>\n",
              "      <td>17.0</td>\n",
              "      <td>106.00</td>\n",
              "      <td>149.0</td>\n",
              "      <td>218.50</td>\n",
              "      <td>539.0</td>\n",
              "    </tr>\n",
              "    <tr>\n",
              "      <th>11</th>\n",
              "      <td>455.0</td>\n",
              "      <td>210.674725</td>\n",
              "      <td>127.444294</td>\n",
              "      <td>10.0</td>\n",
              "      <td>123.00</td>\n",
              "      <td>183.0</td>\n",
              "      <td>265.50</td>\n",
              "      <td>647.0</td>\n",
              "    </tr>\n",
              "    <tr>\n",
              "      <th>12</th>\n",
              "      <td>456.0</td>\n",
              "      <td>256.508772</td>\n",
              "      <td>143.881880</td>\n",
              "      <td>3.0</td>\n",
              "      <td>157.00</td>\n",
              "      <td>234.5</td>\n",
              "      <td>332.00</td>\n",
              "      <td>757.0</td>\n",
              "    </tr>\n",
              "    <tr>\n",
              "      <th>13</th>\n",
              "      <td>456.0</td>\n",
              "      <td>257.787281</td>\n",
              "      <td>149.167185</td>\n",
              "      <td>11.0</td>\n",
              "      <td>154.00</td>\n",
              "      <td>226.5</td>\n",
              "      <td>329.00</td>\n",
              "      <td>729.0</td>\n",
              "    </tr>\n",
              "    <tr>\n",
              "      <th>14</th>\n",
              "      <td>456.0</td>\n",
              "      <td>243.442982</td>\n",
              "      <td>147.563199</td>\n",
              "      <td>12.0</td>\n",
              "      <td>144.00</td>\n",
              "      <td>212.0</td>\n",
              "      <td>311.25</td>\n",
              "      <td>730.0</td>\n",
              "    </tr>\n",
              "    <tr>\n",
              "      <th>15</th>\n",
              "      <td>456.0</td>\n",
              "      <td>254.298246</td>\n",
              "      <td>144.235670</td>\n",
              "      <td>7.0</td>\n",
              "      <td>154.00</td>\n",
              "      <td>232.0</td>\n",
              "      <td>331.00</td>\n",
              "      <td>724.0</td>\n",
              "    </tr>\n",
              "    <tr>\n",
              "      <th>16</th>\n",
              "      <td>456.0</td>\n",
              "      <td>316.372807</td>\n",
              "      <td>145.664786</td>\n",
              "      <td>11.0</td>\n",
              "      <td>211.75</td>\n",
              "      <td>309.5</td>\n",
              "      <td>421.00</td>\n",
              "      <td>783.0</td>\n",
              "    </tr>\n",
              "    <tr>\n",
              "      <th>17</th>\n",
              "      <td>456.0</td>\n",
              "      <td>468.765351</td>\n",
              "      <td>223.775485</td>\n",
              "      <td>15.0</td>\n",
              "      <td>277.00</td>\n",
              "      <td>480.5</td>\n",
              "      <td>608.50</td>\n",
              "      <td>970.0</td>\n",
              "    </tr>\n",
              "    <tr>\n",
              "      <th>18</th>\n",
              "      <td>456.0</td>\n",
              "      <td>430.859649</td>\n",
              "      <td>219.908138</td>\n",
              "      <td>23.0</td>\n",
              "      <td>240.75</td>\n",
              "      <td>422.5</td>\n",
              "      <td>564.00</td>\n",
              "      <td>977.0</td>\n",
              "    </tr>\n",
              "    <tr>\n",
              "      <th>19</th>\n",
              "      <td>456.0</td>\n",
              "      <td>315.278509</td>\n",
              "      <td>156.641732</td>\n",
              "      <td>11.0</td>\n",
              "      <td>190.00</td>\n",
              "      <td>312.5</td>\n",
              "      <td>416.00</td>\n",
              "      <td>743.0</td>\n",
              "    </tr>\n",
              "    <tr>\n",
              "      <th>20</th>\n",
              "      <td>456.0</td>\n",
              "      <td>228.517544</td>\n",
              "      <td>116.411565</td>\n",
              "      <td>11.0</td>\n",
              "      <td>136.75</td>\n",
              "      <td>224.0</td>\n",
              "      <td>302.00</td>\n",
              "      <td>551.0</td>\n",
              "    </tr>\n",
              "    <tr>\n",
              "      <th>21</th>\n",
              "      <td>456.0</td>\n",
              "      <td>173.370614</td>\n",
              "      <td>87.629319</td>\n",
              "      <td>6.0</td>\n",
              "      <td>103.50</td>\n",
              "      <td>171.5</td>\n",
              "      <td>230.00</td>\n",
              "      <td>584.0</td>\n",
              "    </tr>\n",
              "    <tr>\n",
              "      <th>22</th>\n",
              "      <td>456.0</td>\n",
              "      <td>133.576754</td>\n",
              "      <td>69.844495</td>\n",
              "      <td>9.0</td>\n",
              "      <td>80.00</td>\n",
              "      <td>129.0</td>\n",
              "      <td>175.00</td>\n",
              "      <td>502.0</td>\n",
              "    </tr>\n",
              "    <tr>\n",
              "      <th>23</th>\n",
              "      <td>456.0</td>\n",
              "      <td>89.508772</td>\n",
              "      <td>51.638004</td>\n",
              "      <td>4.0</td>\n",
              "      <td>52.75</td>\n",
              "      <td>80.0</td>\n",
              "      <td>123.00</td>\n",
              "      <td>256.0</td>\n",
              "    </tr>\n",
              "  </tbody>\n",
              "</table>\n",
              "</div>\n",
              "      <button class=\"colab-df-convert\" onclick=\"convertToInteractive('df-496b9aff-69f8-4e29-a8f1-731176246faa')\"\n",
              "              title=\"Convert this dataframe to an interactive table.\"\n",
              "              style=\"display:none;\">\n",
              "        \n",
              "  <svg xmlns=\"http://www.w3.org/2000/svg\" height=\"24px\"viewBox=\"0 0 24 24\"\n",
              "       width=\"24px\">\n",
              "    <path d=\"M0 0h24v24H0V0z\" fill=\"none\"/>\n",
              "    <path d=\"M18.56 5.44l.94 2.06.94-2.06 2.06-.94-2.06-.94-.94-2.06-.94 2.06-2.06.94zm-11 1L8.5 8.5l.94-2.06 2.06-.94-2.06-.94L8.5 2.5l-.94 2.06-2.06.94zm10 10l.94 2.06.94-2.06 2.06-.94-2.06-.94-.94-2.06-.94 2.06-2.06.94z\"/><path d=\"M17.41 7.96l-1.37-1.37c-.4-.4-.92-.59-1.43-.59-.52 0-1.04.2-1.43.59L10.3 9.45l-7.72 7.72c-.78.78-.78 2.05 0 2.83L4 21.41c.39.39.9.59 1.41.59.51 0 1.02-.2 1.41-.59l7.78-7.78 2.81-2.81c.8-.78.8-2.07 0-2.86zM5.41 20L4 18.59l7.72-7.72 1.47 1.35L5.41 20z\"/>\n",
              "  </svg>\n",
              "      </button>\n",
              "      \n",
              "  <style>\n",
              "    .colab-df-container {\n",
              "      display:flex;\n",
              "      flex-wrap:wrap;\n",
              "      gap: 12px;\n",
              "    }\n",
              "\n",
              "    .colab-df-convert {\n",
              "      background-color: #E8F0FE;\n",
              "      border: none;\n",
              "      border-radius: 50%;\n",
              "      cursor: pointer;\n",
              "      display: none;\n",
              "      fill: #1967D2;\n",
              "      height: 32px;\n",
              "      padding: 0 0 0 0;\n",
              "      width: 32px;\n",
              "    }\n",
              "\n",
              "    .colab-df-convert:hover {\n",
              "      background-color: #E2EBFA;\n",
              "      box-shadow: 0px 1px 2px rgba(60, 64, 67, 0.3), 0px 1px 3px 1px rgba(60, 64, 67, 0.15);\n",
              "      fill: #174EA6;\n",
              "    }\n",
              "\n",
              "    [theme=dark] .colab-df-convert {\n",
              "      background-color: #3B4455;\n",
              "      fill: #D2E3FC;\n",
              "    }\n",
              "\n",
              "    [theme=dark] .colab-df-convert:hover {\n",
              "      background-color: #434B5C;\n",
              "      box-shadow: 0px 1px 3px 1px rgba(0, 0, 0, 0.15);\n",
              "      filter: drop-shadow(0px 1px 2px rgba(0, 0, 0, 0.3));\n",
              "      fill: #FFFFFF;\n",
              "    }\n",
              "  </style>\n",
              "\n",
              "      <script>\n",
              "        const buttonEl =\n",
              "          document.querySelector('#df-496b9aff-69f8-4e29-a8f1-731176246faa button.colab-df-convert');\n",
              "        buttonEl.style.display =\n",
              "          google.colab.kernel.accessAllowed ? 'block' : 'none';\n",
              "\n",
              "        async function convertToInteractive(key) {\n",
              "          const element = document.querySelector('#df-496b9aff-69f8-4e29-a8f1-731176246faa');\n",
              "          const dataTable =\n",
              "            await google.colab.kernel.invokeFunction('convertToInteractive',\n",
              "                                                     [key], {});\n",
              "          if (!dataTable) return;\n",
              "\n",
              "          const docLinkHtml = 'Like what you see? Visit the ' +\n",
              "            '<a target=\"_blank\" href=https://colab.research.google.com/notebooks/data_table.ipynb>data table notebook</a>'\n",
              "            + ' to learn more about interactive tables.';\n",
              "          element.innerHTML = '';\n",
              "          dataTable['output_type'] = 'display_data';\n",
              "          await google.colab.output.renderOutput(dataTable, element);\n",
              "          const docLink = document.createElement('div');\n",
              "          docLink.innerHTML = docLinkHtml;\n",
              "          element.appendChild(docLink);\n",
              "        }\n",
              "      </script>\n",
              "    </div>\n",
              "  </div>\n",
              "  "
            ]
          },
          "metadata": {},
          "execution_count": 6
        }
      ]
    },
    {
      "cell_type": "code",
      "source": [
        "bikes.hour.describe()"
      ],
      "metadata": {
        "colab": {
          "base_uri": "https://localhost:8080/"
        },
        "id": "G94oDi-2Mu20",
        "outputId": "fc8e926f-2d66-49a3-e10b-90267d828763"
      },
      "execution_count": 7,
      "outputs": [
        {
          "output_type": "execute_result",
          "data": {
            "text/plain": [
              "count    10886.000000\n",
              "mean        11.541613\n",
              "std          6.915838\n",
              "min          0.000000\n",
              "25%          6.000000\n",
              "50%         12.000000\n",
              "75%         18.000000\n",
              "max         23.000000\n",
              "Name: hour, dtype: float64"
            ]
          },
          "metadata": {},
          "execution_count": 7
        }
      ]
    },
    {
      "cell_type": "markdown",
      "source": [
        "Para la variable hour, encontramos que en total son 10886 obsertvaciones contenidas, de las cuales su promedio o media es de 11.54m con una desviacion estandar de 6.915, sin embargo cundo lo Nlizamos no en un total si no por hora del dia vamos a encontrar una distribucion totalmente diferente por cada una de las horas del dia, por ejemplo las 5 de la tarde dodne vemos que tiene un total de 456 observaciones con una desviacio  de 223,77 el minimo es de 15 y su maximo es de 970, finalmente sus quartiles estan ubicados como 25% 277 y su 75% como 608.5."
      ],
      "metadata": {
        "id": "NABa9wnFNBOf"
      }
    },
    {
      "cell_type": "code",
      "source": [
        "bikes.groupby('season').total.describe()"
      ],
      "metadata": {
        "colab": {
          "base_uri": "https://localhost:8080/",
          "height": 206
        },
        "id": "7c7O2r_1QyOG",
        "outputId": "8a57c33c-ea04-4a32-ab59-d2dc9314c782"
      },
      "execution_count": 8,
      "outputs": [
        {
          "output_type": "execute_result",
          "data": {
            "text/plain": [
              "         count        mean         std  min   25%    50%    75%    max\n",
              "season                                                                \n",
              "1       2686.0  116.343261  125.273974  1.0  24.0   78.0  164.0  801.0\n",
              "2       2733.0  215.251372  192.007843  1.0  49.0  172.0  321.0  873.0\n",
              "3       2733.0  234.417124  197.151001  1.0  68.0  195.0  347.0  977.0\n",
              "4       2734.0  198.988296  177.622409  1.0  51.0  161.0  294.0  948.0"
            ],
            "text/html": [
              "\n",
              "  <div id=\"df-a3989615-f27b-4f7e-b3bf-8e5b6e85ff7d\">\n",
              "    <div class=\"colab-df-container\">\n",
              "      <div>\n",
              "<style scoped>\n",
              "    .dataframe tbody tr th:only-of-type {\n",
              "        vertical-align: middle;\n",
              "    }\n",
              "\n",
              "    .dataframe tbody tr th {\n",
              "        vertical-align: top;\n",
              "    }\n",
              "\n",
              "    .dataframe thead th {\n",
              "        text-align: right;\n",
              "    }\n",
              "</style>\n",
              "<table border=\"1\" class=\"dataframe\">\n",
              "  <thead>\n",
              "    <tr style=\"text-align: right;\">\n",
              "      <th></th>\n",
              "      <th>count</th>\n",
              "      <th>mean</th>\n",
              "      <th>std</th>\n",
              "      <th>min</th>\n",
              "      <th>25%</th>\n",
              "      <th>50%</th>\n",
              "      <th>75%</th>\n",
              "      <th>max</th>\n",
              "    </tr>\n",
              "    <tr>\n",
              "      <th>season</th>\n",
              "      <th></th>\n",
              "      <th></th>\n",
              "      <th></th>\n",
              "      <th></th>\n",
              "      <th></th>\n",
              "      <th></th>\n",
              "      <th></th>\n",
              "      <th></th>\n",
              "    </tr>\n",
              "  </thead>\n",
              "  <tbody>\n",
              "    <tr>\n",
              "      <th>1</th>\n",
              "      <td>2686.0</td>\n",
              "      <td>116.343261</td>\n",
              "      <td>125.273974</td>\n",
              "      <td>1.0</td>\n",
              "      <td>24.0</td>\n",
              "      <td>78.0</td>\n",
              "      <td>164.0</td>\n",
              "      <td>801.0</td>\n",
              "    </tr>\n",
              "    <tr>\n",
              "      <th>2</th>\n",
              "      <td>2733.0</td>\n",
              "      <td>215.251372</td>\n",
              "      <td>192.007843</td>\n",
              "      <td>1.0</td>\n",
              "      <td>49.0</td>\n",
              "      <td>172.0</td>\n",
              "      <td>321.0</td>\n",
              "      <td>873.0</td>\n",
              "    </tr>\n",
              "    <tr>\n",
              "      <th>3</th>\n",
              "      <td>2733.0</td>\n",
              "      <td>234.417124</td>\n",
              "      <td>197.151001</td>\n",
              "      <td>1.0</td>\n",
              "      <td>68.0</td>\n",
              "      <td>195.0</td>\n",
              "      <td>347.0</td>\n",
              "      <td>977.0</td>\n",
              "    </tr>\n",
              "    <tr>\n",
              "      <th>4</th>\n",
              "      <td>2734.0</td>\n",
              "      <td>198.988296</td>\n",
              "      <td>177.622409</td>\n",
              "      <td>1.0</td>\n",
              "      <td>51.0</td>\n",
              "      <td>161.0</td>\n",
              "      <td>294.0</td>\n",
              "      <td>948.0</td>\n",
              "    </tr>\n",
              "  </tbody>\n",
              "</table>\n",
              "</div>\n",
              "      <button class=\"colab-df-convert\" onclick=\"convertToInteractive('df-a3989615-f27b-4f7e-b3bf-8e5b6e85ff7d')\"\n",
              "              title=\"Convert this dataframe to an interactive table.\"\n",
              "              style=\"display:none;\">\n",
              "        \n",
              "  <svg xmlns=\"http://www.w3.org/2000/svg\" height=\"24px\"viewBox=\"0 0 24 24\"\n",
              "       width=\"24px\">\n",
              "    <path d=\"M0 0h24v24H0V0z\" fill=\"none\"/>\n",
              "    <path d=\"M18.56 5.44l.94 2.06.94-2.06 2.06-.94-2.06-.94-.94-2.06-.94 2.06-2.06.94zm-11 1L8.5 8.5l.94-2.06 2.06-.94-2.06-.94L8.5 2.5l-.94 2.06-2.06.94zm10 10l.94 2.06.94-2.06 2.06-.94-2.06-.94-.94-2.06-.94 2.06-2.06.94z\"/><path d=\"M17.41 7.96l-1.37-1.37c-.4-.4-.92-.59-1.43-.59-.52 0-1.04.2-1.43.59L10.3 9.45l-7.72 7.72c-.78.78-.78 2.05 0 2.83L4 21.41c.39.39.9.59 1.41.59.51 0 1.02-.2 1.41-.59l7.78-7.78 2.81-2.81c.8-.78.8-2.07 0-2.86zM5.41 20L4 18.59l7.72-7.72 1.47 1.35L5.41 20z\"/>\n",
              "  </svg>\n",
              "      </button>\n",
              "      \n",
              "  <style>\n",
              "    .colab-df-container {\n",
              "      display:flex;\n",
              "      flex-wrap:wrap;\n",
              "      gap: 12px;\n",
              "    }\n",
              "\n",
              "    .colab-df-convert {\n",
              "      background-color: #E8F0FE;\n",
              "      border: none;\n",
              "      border-radius: 50%;\n",
              "      cursor: pointer;\n",
              "      display: none;\n",
              "      fill: #1967D2;\n",
              "      height: 32px;\n",
              "      padding: 0 0 0 0;\n",
              "      width: 32px;\n",
              "    }\n",
              "\n",
              "    .colab-df-convert:hover {\n",
              "      background-color: #E2EBFA;\n",
              "      box-shadow: 0px 1px 2px rgba(60, 64, 67, 0.3), 0px 1px 3px 1px rgba(60, 64, 67, 0.15);\n",
              "      fill: #174EA6;\n",
              "    }\n",
              "\n",
              "    [theme=dark] .colab-df-convert {\n",
              "      background-color: #3B4455;\n",
              "      fill: #D2E3FC;\n",
              "    }\n",
              "\n",
              "    [theme=dark] .colab-df-convert:hover {\n",
              "      background-color: #434B5C;\n",
              "      box-shadow: 0px 1px 3px 1px rgba(0, 0, 0, 0.15);\n",
              "      filter: drop-shadow(0px 1px 2px rgba(0, 0, 0, 0.3));\n",
              "      fill: #FFFFFF;\n",
              "    }\n",
              "  </style>\n",
              "\n",
              "      <script>\n",
              "        const buttonEl =\n",
              "          document.querySelector('#df-a3989615-f27b-4f7e-b3bf-8e5b6e85ff7d button.colab-df-convert');\n",
              "        buttonEl.style.display =\n",
              "          google.colab.kernel.accessAllowed ? 'block' : 'none';\n",
              "\n",
              "        async function convertToInteractive(key) {\n",
              "          const element = document.querySelector('#df-a3989615-f27b-4f7e-b3bf-8e5b6e85ff7d');\n",
              "          const dataTable =\n",
              "            await google.colab.kernel.invokeFunction('convertToInteractive',\n",
              "                                                     [key], {});\n",
              "          if (!dataTable) return;\n",
              "\n",
              "          const docLinkHtml = 'Like what you see? Visit the ' +\n",
              "            '<a target=\"_blank\" href=https://colab.research.google.com/notebooks/data_table.ipynb>data table notebook</a>'\n",
              "            + ' to learn more about interactive tables.';\n",
              "          element.innerHTML = '';\n",
              "          dataTable['output_type'] = 'display_data';\n",
              "          await google.colab.output.renderOutput(dataTable, element);\n",
              "          const docLink = document.createElement('div');\n",
              "          docLink.innerHTML = docLinkHtml;\n",
              "          element.appendChild(docLink);\n",
              "        }\n",
              "      </script>\n",
              "    </div>\n",
              "  </div>\n",
              "  "
            ]
          },
          "metadata": {},
          "execution_count": 8
        }
      ]
    },
    {
      "cell_type": "markdown",
      "source": [
        "Para la variable temporada o estacion, encontramos que solo son cuatro que la que tiene una media mayor es la season 3, con una media de 234.4, una desviacion de 197.12, para todas el minimo fue uno pero para la 3 su maxomo es 977, asi su 25% es de 68, mientras que el 75% se ubica en 347"
      ],
      "metadata": {
        "id": "LSdMzuxyN5nv"
      }
    },
    {
      "cell_type": "markdown",
      "metadata": {
        "id": "usnaeKwvAiYw"
      },
      "source": [
        "### Punto 2 - Análisis de gráficos\n",
        "\n",
        "Primero ejecute la celda 2.1 y asegúrese de comprender el código y el resultado. Luego, en cada una de celdas 2.2 y 2.3 escriba un código que genere una gráfica del número de bicicletas rentadas promedio para cada valor de la variable \"hour\" (hora) cuando la variable \"season\" es igual a 1 (invierno) e igual a 3 (verano), respectivamente. Analice y escriba sus hallazgos."
      ]
    },
    {
      "cell_type": "code",
      "execution_count": 9,
      "metadata": {
        "id": "Ret_F1X4AiYw",
        "colab": {
          "base_uri": "https://localhost:8080/",
          "height": 466
        },
        "outputId": "8aedaf25-ac33-48ac-c51e-bcc9c39ce59b"
      },
      "outputs": [
        {
          "output_type": "execute_result",
          "data": {
            "text/plain": [
              "<Axes: xlabel='hour'>"
            ]
          },
          "metadata": {},
          "execution_count": 9
        },
        {
          "output_type": "display_data",
          "data": {
            "text/plain": [
              "<Figure size 640x480 with 1 Axes>"
            ],
            "image/png": "[encoded data removed]"
          },
          "metadata": {}
        }
      ],
      "source": [
        "# Celda 2.1 - rentas promedio para cada valor de la variable \"hour\"\n",
        "bikes.groupby('hour').total.mean().plot()"
      ]
    },
    {
      "cell_type": "code",
      "execution_count": 10,
      "metadata": {
        "id": "ymThRY8TAiYw",
        "colab": {
          "base_uri": "https://localhost:8080/",
          "height": 472
        },
        "outputId": "74a3bb9d-4a53-42c9-a4c9-01e049204a91"
      },
      "outputs": [
        {
          "output_type": "display_data",
          "data": {
            "text/plain": [
              "<Figure size 640x480 with 1 Axes>"
            ],
            "image/png": "[encoded data removed]"
          },
          "metadata": {}
        }
      ],
      "source": [
        "# Celda 2.2 - \"season\"=1 escriba su código y hallazgos \n",
        "bikes_season1 = bikes[bikes.season == 1]\n",
        "\n",
        "\n",
        "bikes_season1.groupby('hour').total.mean().plot(label='Season1')\n",
        "\n",
        "\n",
        "plt.xlabel('Hour of Day')\n",
        "plt.ylabel('Average Number of Bikes Rented')\n",
        "plt.title('Average Number of Bikes Rented by Hour of Day and Season')\n",
        "plt.legend()\n",
        "plt.show()"
      ]
    },
    {
      "cell_type": "code",
      "execution_count": 11,
      "metadata": {
        "id": "cs52XD_jAiYx",
        "colab": {
          "base_uri": "https://localhost:8080/",
          "height": 472
        },
        "outputId": "72ef724e-6b54-4c39-ae70-64c33559eba0"
      },
      "outputs": [
        {
          "output_type": "display_data",
          "data": {
            "text/plain": [
              "<Figure size 640x480 with 1 Axes>"
            ],
            "image/png": "[encoded data removed]"
          },
          "metadata": {}
        }
      ],
      "source": [
        "# Celda 2.3 - \"season\"=3 escriba su código y hallazgos \n",
        "\n",
        "bikes_season3 = bikes[bikes.season == 3]\n",
        "\n",
        "\n",
        "bikes_season3.groupby('hour').total.mean().plot(label='Season3')\n",
        "\n",
        "plt.xlabel('Hour of Day')\n",
        "plt.ylabel('Average Number of Bikes Rented')\n",
        "plt.title('Average Number of Bikes Rented by Hour of Day and Season')\n",
        "plt.legend()\n",
        "plt.show()"
      ]
    },
    {
      "cell_type": "code",
      "source": [
        "bikes_season1.groupby('hour').total.mean().plot(label='Season1')\n",
        "bikes_season3.groupby('hour').total.mean().plot(label='Season3')\n",
        "\n",
        "plt.xlabel('Hour of Day')\n",
        "plt.ylabel('Average Number of Bikes Rented')\n",
        "plt.title('Average Number of Bikes Rented by Hour of Day and Season')\n",
        "plt.legend()\n",
        "plt.show()"
      ],
      "metadata": {
        "colab": {
          "base_uri": "https://localhost:8080/",
          "height": 472
        },
        "id": "bKY8G90pRLwO",
        "outputId": "9d7297d4-d8de-46d5-83da-faf30ee099c3"
      },
      "execution_count": 12,
      "outputs": [
        {
          "output_type": "display_data",
          "data": {
            "text/plain": [
              "<Figure size 640x480 with 1 Axes>"
            ],
            "image/png": "[encoded data removed]"
          },
          "metadata": {}
        }
      ]
    },
    {
      "cell_type": "markdown",
      "source": [
        "En la grafica final podemos encontrar que si comparamos las dos grafcias creadas en los puntos anteriores para la season 1 y 3, vamos a encontrar que en la temporada 3 o en la estacion 3 se renta un mayor numero de bicicletas, especial mente entre las 15 y 20 horas, tambien podemos concluir que al rededor de las 9 de la manan tambien se presenta un pico de rentas, pero en general siendo la temporada tres con mas actividad el comportamiento durante el dia es muy parecido al comparar las dos estaciones."
      ],
      "metadata": {
        "id": "5x011v7bOaIG"
      }
    },
    {
      "cell_type": "markdown",
      "metadata": {
        "id": "TBB3NpC6AiYx"
      },
      "source": [
        "### Punto 3 - Regresión lineal\n",
        "En la celda 3 ajuste un modelo de regresión lineal a todo el conjunto de datos, utilizando \"total\" como variable de respuesta y \"season\" y \"hour\" como las únicas variables predictoras, teniendo en cuenta que la variable \"season\" es categórica. Luego, imprima los coeficientes e interprételos. ¿Cuáles son las limitaciones de la regresión lineal en este caso?"
      ]
    },
    {
      "cell_type": "code",
      "execution_count": 13,
      "metadata": {
        "id": "tM_ZzFTKAiYx",
        "colab": {
          "base_uri": "https://localhost:8080/"
        },
        "outputId": "10b9d6bb-fdad-488f-f15b-fc0ecac7d510"
      },
      "outputs": [
        {
          "output_type": "stream",
          "name": "stdout",
          "text": [
            "69.53671247143535 [ 10.54520609 -75.96697493  24.35025698  43.50057501   8.11614294] 0.22339339904452493\n"
          ]
        }
      ],
      "source": [
        "# Celda 3\n",
        "\n",
        "#teiendo en cuenta que la variable season contiene tres categorias, creamos variables dummies para cada una de las 4 estaciones y la anadimos  a la base original \n",
        "season_d = pd.get_dummies(bikes['season'], prefix='season')\n",
        "bikes_sd = pd.concat([bikes, season_d], axis=1)\n",
        "X = bikes_sd[['hour', 'season_1', 'season_2', 'season_3', 'season_4']]\n",
        "y = bikes_sd['total']\n",
        "#una vez identificada la variable de respuesta total como Y y las varaibles predictorias en el set X, procedomos a calcular la regresion linear del set de datos\n",
        "\n",
        "bikes_lr = LinearRegression()\n",
        "bikes_lr.fit(X, y)\n",
        "\n",
        "print(bikes_lr.intercept_, bikes_lr.coef_, bikes_lr.score(X, y))\n",
        "\n",
        "\n",
        "\n"
      ]
    },
    {
      "cell_type": "code",
      "source": [
        "#regresion lineal con stats model\n",
        "\n",
        "import statsmodels.api as sm\n",
        "\n",
        "X = sm.add_constant(X)\n",
        "\n",
        "#fit linear regression model\n",
        "model = sm.OLS(y, X).fit()\n",
        "\n",
        "#view model summary\n",
        "print(model.summary())"
      ],
      "metadata": {
        "colab": {
          "base_uri": "https://localhost:8080/"
        },
        "id": "RU6SYNNBJZHp",
        "outputId": "4978bcbd-896e-48d6-eba7-ac190ebe6e19"
      },
      "execution_count": 14,
      "outputs": [
        {
          "output_type": "stream",
          "name": "stdout",
          "text": [
            "                            OLS Regression Results                            \n",
            "==============================================================================\n",
            "Dep. Variable:                  total   R-squared:                       0.223\n",
            "Model:                            OLS   Adj. R-squared:                  0.223\n",
            "Method:                 Least Squares   F-statistic:                     782.5\n",
            "Date:                Mon, 03 Apr 2023   Prob (F-statistic):               0.00\n",
            "Time:                        03:52:28   Log-Likelihood:                -70669.\n",
            "No. Observations:               10886   AIC:                         1.413e+05\n",
            "Df Residuals:                   10881   BIC:                         1.414e+05\n",
            "Df Model:                           4                                         \n",
            "Covariance Type:            nonrobust                                         \n",
            "==============================================================================\n",
            "                 coef    std err          t      P>|t|      [0.025      0.975]\n",
            "------------------------------------------------------------------------------\n",
            "const         55.6294      2.382     23.354      0.000      50.960      60.299\n",
            "hour          10.5452      0.221     47.653      0.000      10.111      10.979\n",
            "season_1     -62.0596      2.734    -22.695      0.000     -67.420     -56.700\n",
            "season_2      38.2576      2.711     14.113      0.000      32.944      43.571\n",
            "season_3      57.4079      2.711     21.176      0.000      52.094      62.722\n",
            "season_4      22.0235      2.710      8.126      0.000      16.711      27.336\n",
            "==============================================================================\n",
            "Omnibus:                     2248.215   Durbin-Watson:                   0.479\n",
            "Prob(Omnibus):                  0.000   Jarque-Bera (JB):             4420.137\n",
            "Skew:                           1.250   Prob(JB):                         0.00\n",
            "Kurtosis:                       4.871   Cond. No.                     1.03e+16\n",
            "==============================================================================\n",
            "\n",
            "Notes:\n",
            "[1] Standard Errors assume that the covariance matrix of the errors is correctly specified.\n",
            "[2] The smallest eigenvalue is 1.88e-26. This might indicate that there are\n",
            "strong multicollinearity problems or that the design matrix is singular.\n"
          ]
        }
      ]
    },
    {
      "cell_type": "markdown",
      "source": [
        "LAs limitaciones que se presentan esque realmente el modelo no tiene unos estimadores generales del modelos coansiderando als variables obtenidas que expliquen los resultados del modelo, por loq ue sus predicciones no serian acertadas respecto a lo esperado."
      ],
      "metadata": {
        "id": "tD_3ysxSPKiB"
      }
    },
    {
      "cell_type": "markdown",
      "metadata": {
        "id": "f4_DzKHSAiYx"
      },
      "source": [
        "### Punto 4 - Árbol de decisión manual\n",
        "En la celda 4 cree un árbol de decisiones para pronosticar la variable \"total\" iterando **manualmente** sobre las variables \"hour\" y  \"season\". El árbol debe tener al menos 6 nodos finales."
      ]
    },
    {
      "cell_type": "code",
      "execution_count": 15,
      "metadata": {
        "id": "dMjR0kDxAiYx"
      },
      "outputs": [],
      "source": [
        "# Celda 4\n",
        "\n",
        "# Definición de parámetros y criterios de parada\n",
        "max_depth = None\n",
        "num_pct = 10\n",
        "max_features = None\n",
        "min_gain=0.001\n",
        "\n",
        "\n",
        "# Definición de la función que calcula el gini index\n",
        "def gini(y):\n",
        "    if y.shape[0] == 0:\n",
        "        return 0\n",
        "    else:\n",
        "        return 1 - (y.mean()**2 + (1 - y.mean())**2)\n",
        "\n",
        "def gini_impurity(X_col, y, split):\n",
        "    \n",
        "    filter_l = X_col < split\n",
        "    y_l = y.loc[filter_l]\n",
        "    y_r = y.loc[~filter_l]\n",
        "    \n",
        "    n_l = y_l.shape[0]\n",
        "    n_r = y_r.shape[0]\n",
        "    \n",
        "    gini_y = gini(y)\n",
        "    gini_l = gini(y_l)\n",
        "    gini_r = gini(y_r)\n",
        "    \n",
        "    gini_impurity_ = gini_y - (n_l / (n_l + n_r) * gini_l + n_r / (n_l + n_r) * gini_r)\n",
        "    \n",
        "    return gini_impurity_"
      ]
    },
    {
      "cell_type": "code",
      "source": [
        "def best_split(X, y, num_pct=10):\n",
        "    \n",
        "    features = range(X.shape[1])\n",
        "    \n",
        "    best_split = [0, 0, 0]  # j, split, gain\n",
        "    \n",
        "    # Para todas las varibles \n",
        "    for j in features:\n",
        "        \n",
        "        splits = np.percentile(X.iloc[:, j], np.arange(0, 100, 100.0 / (num_pct+1)).tolist())\n",
        "        splits = np.unique(splits)[1:]\n",
        "        \n",
        "        # Para cada partición\n",
        "        for split in splits:\n",
        "            gain = gini_impurity(X.iloc[:, j], y, split)\n",
        "                        \n",
        "            if gain > best_split[2]:\n",
        "                best_split = [j, split, gain]\n",
        "    \n",
        "    return best_split"
      ],
      "metadata": {
        "id": "SVIUW3ZzOOa-"
      },
      "execution_count": 16,
      "outputs": []
    },
    {
      "cell_type": "code",
      "source": [
        "j, split, gain = best_split(X, y, 6)\n",
        "j, split, gain"
      ],
      "metadata": {
        "colab": {
          "base_uri": "https://localhost:8080/"
        },
        "id": "Qop6fdD9OWDB",
        "outputId": "d4a1b7c8-2e0c-46fb-c528-e891c39fb7a7"
      },
      "execution_count": 17,
      "outputs": [
        {
          "output_type": "execute_result",
          "data": {
            "text/plain": [
              "(1, 6.0, 18120.937290485905)"
            ]
          },
          "metadata": {},
          "execution_count": 17
        }
      ]
    },
    {
      "cell_type": "code",
      "source": [
        "# División de las observaciones usando la mejor variable 'j' y su punto de corte 'split'\n",
        "filter_l = X.iloc[:, j] < split\n",
        "\n",
        "y_l = y.loc[filter_l]\n",
        "y_r = y.loc[~filter_l]"
      ],
      "metadata": {
        "id": "GEM3dp9UPGBZ"
      },
      "execution_count": 18,
      "outputs": []
    },
    {
      "cell_type": "code",
      "source": [
        "y.shape[0], y_l.shape[0], y_r.shape[0]"
      ],
      "metadata": {
        "colab": {
          "base_uri": "https://localhost:8080/"
        },
        "id": "uweSMI8xPJNh",
        "outputId": "4654d7e5-fc8a-44e9-bc59-13d043bd16d1"
      },
      "execution_count": 19,
      "outputs": [
        {
          "output_type": "execute_result",
          "data": {
            "text/plain": [
              "(10886, 2684, 8202)"
            ]
          },
          "metadata": {},
          "execution_count": 19
        }
      ]
    },
    {
      "cell_type": "code",
      "source": [
        "y.mean(), y_l.mean(), y_r.mean()"
      ],
      "metadata": {
        "colab": {
          "base_uri": "https://localhost:8080/"
        },
        "id": "bMz7SbciPM1v",
        "outputId": "3d7685f5-0810-4840-9d39-dc17a7eed960"
      },
      "execution_count": 20,
      "outputs": [
        {
          "output_type": "execute_result",
          "data": {
            "text/plain": [
              "(191.57413191254824, 25.177719821162444, 246.025237746891)"
            ]
          },
          "metadata": {},
          "execution_count": 20
        }
      ]
    },
    {
      "cell_type": "code",
      "source": [
        "# Definición de la función tree_grow para hacer un crecimiento recursivo del árbol\n",
        "def tree_grow(X, y, level=0, min_gain=0.001, max_depth=None, num_pct=10):\n",
        "    \n",
        "    # Si solo es una observación\n",
        "    if X.shape[0] == 1:\n",
        "        tree = dict(y_pred=y.iloc[:1].values[0], y_prob=0.5, level=level, split=-1, n_samples=1, gain=0)\n",
        "        return tree\n",
        "    \n",
        "    # Calcular la mejor división\n",
        "    j, split, gain = best_split(X, y, num_pct)\n",
        "    \n",
        "    # Guardar el árbol y estimar la predicción\n",
        "    y_pred = int(y.mean() >= 0.5) \n",
        "    y_prob = (y.sum() + 1.0) / (y.shape[0] + 2.0)  # Corrección Laplace \n",
        "    \n",
        "    tree = dict(y_pred=y_pred, y_prob=y_prob, level=level, split=-1, n_samples=X.shape[0], gain=gain)\n",
        "    # Revisar el criterio de parada \n",
        "    if gain < min_gain:\n",
        "        return tree\n",
        "    if max_depth is not None:\n",
        "        if level >= max_depth:\n",
        "            return tree   \n",
        "    \n",
        "    # Continuar creando la partición\n",
        "    filter_l = X.iloc[:, j] < split\n",
        "    X_l, y_l = X.loc[filter_l], y.loc[filter_l]\n",
        "    X_r, y_r = X.loc[~filter_l], y.loc[~filter_l]\n",
        "    tree['split'] = [j, split]\n",
        "\n",
        "    # Siguiente iteración para cada partición\n",
        "    \n",
        "    tree['sl'] = tree_grow(X_l, y_l, level + 1, min_gain=min_gain, max_depth=max_depth, num_pct=num_pct)\n",
        "    tree['sr'] = tree_grow(X_r, y_r, level + 1, min_gain=min_gain, max_depth=max_depth, num_pct=num_pct)\n",
        "    \n",
        "    return tree"
      ],
      "metadata": {
        "id": "xl9Hr5SdPUkq"
      },
      "execution_count": 21,
      "outputs": []
    },
    {
      "cell_type": "code",
      "source": [
        "# Aplicación de la función tree_grow\n",
        "tree_grow(X, y, level=0, min_gain=0.001, max_depth=1, num_pct=10)"
      ],
      "metadata": {
        "colab": {
          "base_uri": "https://localhost:8080/"
        },
        "id": "zTrWN8AuPbIr",
        "outputId": "0342dcca-6040-43ff-95e3-1eaa8117acb1"
      },
      "execution_count": 22,
      "outputs": [
        {
          "output_type": "execute_result",
          "data": {
            "text/plain": [
              "{'y_pred': 1,\n",
              " 'y_prob': 191.53903379867745,\n",
              " 'level': 0,\n",
              " 'split': [1, 8.0],\n",
              " 'n_samples': 10886,\n",
              " 'gain': 18268.811823533004,\n",
              " 'sl': {'y_pred': 1,\n",
              "  'y_prob': 55.40711902113459,\n",
              "  'level': 1,\n",
              "  'split': -1,\n",
              "  'n_samples': 3594,\n",
              "  'gain': 7207.700659959655},\n",
              " 'sr': {'y_pred': 1,\n",
              "  'y_prob': 258.6007677543186,\n",
              "  'level': 1,\n",
              "  'split': -1,\n",
              "  'n_samples': 7292,\n",
              "  'gain': 7392.920792160614}}"
            ]
          },
          "metadata": {},
          "execution_count": 22
        }
      ]
    },
    {
      "cell_type": "code",
      "source": [
        "tree = tree_grow(X, y, level=0, min_gain=0.001, max_depth=6, num_pct=10)\n",
        "tree"
      ],
      "metadata": {
        "colab": {
          "base_uri": "https://localhost:8080/"
        },
        "id": "lGiGKwQsPgFm",
        "outputId": "06d8efba-d206-4aa6-f0ff-dbbc4725de07"
      },
      "execution_count": 23,
      "outputs": [
        {
          "output_type": "execute_result",
          "data": {
            "text/plain": [
              "{'y_pred': 1,\n",
              " 'y_prob': 191.53903379867745,\n",
              " 'level': 0,\n",
              " 'split': [1, 8.0],\n",
              " 'n_samples': 10886,\n",
              " 'gain': 18268.811823533004,\n",
              " 'sl': {'y_pred': 1,\n",
              "  'y_prob': 55.40711902113459,\n",
              "  'level': 1,\n",
              "  'split': [1, 7.0],\n",
              "  'n_samples': 3594,\n",
              "  'gain': 7207.700659959655,\n",
              "  'sl': {'y_pred': 1,\n",
              "   'y_prob': 32.561604584527224,\n",
              "   'level': 2,\n",
              "   'split': [1, 6.0],\n",
              "   'n_samples': 3139,\n",
              "   'gain': 646.8008927589567,\n",
              "   'sl': {'y_pred': 1,\n",
              "    'y_prob': 25.15934475055845,\n",
              "    'level': 3,\n",
              "    'split': [1, 2.0],\n",
              "    'n_samples': 2684,\n",
              "    'gain': 382.8088308604629,\n",
              "    'sl': {'y_pred': 1,\n",
              "     'y_prob': 44.41383095499451,\n",
              "     'level': 4,\n",
              "     'split': [2, 1.0],\n",
              "     'n_samples': 909,\n",
              "     'gain': 291.4004681825131,\n",
              "     'sl': {'y_pred': 1,\n",
              "      'y_prob': 51.3051094890511,\n",
              "      'level': 5,\n",
              "      'split': [1, 1.0],\n",
              "      'n_samples': 683,\n",
              "      'gain': 316.1751143186211,\n",
              "      'sl': {'y_pred': 1,\n",
              "       'y_prob': 63.63953488372093,\n",
              "       'level': 6,\n",
              "       'split': -1,\n",
              "       'n_samples': 342,\n",
              "       'gain': 136.1111111111113},\n",
              "      'sr': {'y_pred': 1,\n",
              "       'y_prob': 38.63848396501458,\n",
              "       'level': 6,\n",
              "       'split': -1,\n",
              "       'n_samples': 341,\n",
              "       'gain': 35.32457179717221}},\n",
              "     'sr': {'y_pred': 1,\n",
              "      'y_prob': 23.32456140350877,\n",
              "      'level': 5,\n",
              "      'split': [1, 1.0],\n",
              "      'n_samples': 226,\n",
              "      'gain': 45.41972746495435,\n",
              "      'sl': {'y_pred': 1,\n",
              "       'y_prob': 27.808695652173913,\n",
              "       'level': 6,\n",
              "       'split': -1,\n",
              "       'n_samples': 113,\n",
              "       'gain': 0},\n",
              "      'sr': {'y_pred': 1,\n",
              "       'y_prob': 18.443478260869565,\n",
              "       'level': 6,\n",
              "       'split': -1,\n",
              "       'n_samples': 113,\n",
              "       'gain': 0}}},\n",
              "    'sr': {'y_pred': 1,\n",
              "     'y_prob': 15.260551491277434,\n",
              "     'level': 4,\n",
              "     'split': [1, 3.0],\n",
              "     'n_samples': 1775,\n",
              "     'gain': 39.229899273669275,\n",
              "     'sl': {'y_pred': 1,\n",
              "      'y_prob': 22.8,\n",
              "      'level': 5,\n",
              "      'split': [2, 1.0],\n",
              "      'n_samples': 448,\n",
              "      'gain': 58.9740013202146,\n",
              "      'sl': {'y_pred': 1,\n",
              "       'y_prob': 25.793002915451893,\n",
              "       'level': 6,\n",
              "       'split': -1,\n",
              "       'n_samples': 341,\n",
              "       'gain': 32.96215531347252},\n",
              "      'sr': {'y_pred': 1,\n",
              "       'y_prob': 12.972477064220184,\n",
              "       'level': 6,\n",
              "       'split': -1,\n",
              "       'n_samples': 107,\n",
              "       'gain': 0}},\n",
              "     'sr': {'y_pred': 1,\n",
              "      'y_prob': 12.685477802859292,\n",
              "      'level': 5,\n",
              "      'split': [1, 5.0],\n",
              "      'n_samples': 1327,\n",
              "      'gain': 51.55182386612603,\n",
              "      'sl': {'y_pred': 1,\n",
              "       'y_prob': 9.035347776510832,\n",
              "       'level': 6,\n",
              "       'split': -1,\n",
              "       'n_samples': 875,\n",
              "       'gain': 14.311158670464266},\n",
              "      'sr': {'y_pred': 1,\n",
              "       'y_prob': 19.68281938325991,\n",
              "       'level': 6,\n",
              "       'split': -1,\n",
              "       'n_samples': 452,\n",
              "       'gain': 57.661438120649336}}}},\n",
              "   'sr': {'y_pred': 1,\n",
              "    'y_prob': 75.92778993435448,\n",
              "    'level': 3,\n",
              "    'split': [2, 1.0],\n",
              "    'n_samples': 455,\n",
              "    'gain': 743.095592335012,\n",
              "    'sl': {'y_pred': 1,\n",
              "     'y_prob': 86.83430232558139,\n",
              "     'level': 4,\n",
              "     'split': [4, 1.0],\n",
              "     'n_samples': 342,\n",
              "     'gain': 89.1423087445728,\n",
              "     'sl': {'y_pred': 1,\n",
              "      'y_prob': 81.90434782608696,\n",
              "      'level': 5,\n",
              "      'split': [3, 1.0],\n",
              "      'n_samples': 228,\n",
              "      'gain': 0.2650430901830987,\n",
              "      'sl': {'y_pred': 1,\n",
              "       'y_prob': 80.84482758620689,\n",
              "       'level': 6,\n",
              "       'split': -1,\n",
              "       'n_samples': 114,\n",
              "       'gain': 0},\n",
              "      'sr': {'y_pred': 1,\n",
              "       'y_prob': 81.5603448275862,\n",
              "       'level': 6,\n",
              "       'split': -1,\n",
              "       'n_samples': 114,\n",
              "       'gain': 0}},\n",
              "     'sr': {'y_pred': 1,\n",
              "      'y_prob': 95.12068965517241,\n",
              "      'level': 5,\n",
              "      'split': -1,\n",
              "      'n_samples': 114,\n",
              "      'gain': 0}},\n",
              "    'sr': {'y_pred': 1,\n",
              "     'y_prob': 41.99130434782609,\n",
              "     'level': 4,\n",
              "     'split': -1,\n",
              "     'n_samples': 113,\n",
              "     'gain': 0}}},\n",
              "  'sr': {'y_pred': 1,\n",
              "   'y_prob': 212.18599562363238,\n",
              "   'level': 2,\n",
              "   'split': [2, 1.0],\n",
              "   'n_samples': 455,\n",
              "   'gain': 5197.1071057533845,\n",
              "   'sl': {'y_pred': 1,\n",
              "    'y_prob': 241.01162790697674,\n",
              "    'level': 3,\n",
              "    'split': [4, 1.0],\n",
              "    'n_samples': 342,\n",
              "    'gain': 467.29291918881063,\n",
              "    'sl': {'y_pred': 1,\n",
              "     'y_prob': 229.6,\n",
              "     'level': 4,\n",
              "     'split': [3, 1.0],\n",
              "     'n_samples': 228,\n",
              "     'gain': 0.8541474300000118,\n",
              "     'sl': {'y_pred': 1,\n",
              "      'y_prob': 226.98275862068965,\n",
              "      'level': 5,\n",
              "      'split': -1,\n",
              "      'n_samples': 114,\n",
              "      'gain': 0},\n",
              "     'sr': {'y_pred': 1,\n",
              "      'y_prob': 228.26724137931035,\n",
              "      'level': 5,\n",
              "      'split': -1,\n",
              "      'n_samples': 114,\n",
              "      'gain': 0}},\n",
              "    'sr': {'y_pred': 1,\n",
              "     'y_prob': 259.4913793103448,\n",
              "     'level': 4,\n",
              "     'split': -1,\n",
              "     'n_samples': 114,\n",
              "     'gain': 0}},\n",
              "   'sr': {'y_pred': 1,\n",
              "    'y_prob': 122.27826086956522,\n",
              "    'level': 3,\n",
              "    'split': -1,\n",
              "    'n_samples': 113,\n",
              "    'gain': 0}}},\n",
              " 'sr': {'y_pred': 1,\n",
              "  'y_prob': 258.6007677543186,\n",
              "  'level': 1,\n",
              "  'split': [1, 21.0],\n",
              "  'n_samples': 7292,\n",
              "  'gain': 7392.920792160614,\n",
              "  'sl': {'y_pred': 1,\n",
              "   'y_prob': 287.7910901113736,\n",
              "   'level': 2,\n",
              "   'split': [2, 1.0],\n",
              "   'n_samples': 5924,\n",
              "   'gain': 8304.11949599313,\n",
              "   'sl': {'y_pred': 1,\n",
              "    'y_prob': 324.8943345323741,\n",
              "    'level': 3,\n",
              "    'split': [1, 16.0],\n",
              "    'n_samples': 4446,\n",
              "    'gain': 7126.654106105911,\n",
              "    'sl': {'y_pred': 1,\n",
              "     'y_prob': 277.645726807889,\n",
              "     'level': 4,\n",
              "     'split': [1, 9.0],\n",
              "     'n_samples': 2736,\n",
              "     'gain': 4188.375695612398,\n",
              "     'sl': {'y_pred': 1,\n",
              "      'y_prob': 396.6075581395349,\n",
              "      'level': 5,\n",
              "      'split': [3, 1.0],\n",
              "      'n_samples': 342,\n",
              "      'gain': 76.23025888297707,\n",
              "      'sl': {'y_pred': 1,\n",
              "       'y_prob': 399.7869565217391,\n",
              "       'level': 6,\n",
              "       'split': -1,\n",
              "       'n_samples': 228,\n",
              "       'gain': 0.09618344099726528},\n",
              "      'sr': {'y_pred': 1,\n",
              "       'y_prob': 383.4741379310345,\n",
              "       'level': 6,\n",
              "       'split': -1,\n",
              "       'n_samples': 114,\n",
              "       'gain': 0}},\n",
              "     'sr': {'y_pred': 1,\n",
              "      'y_prob': 260.3347245409015,\n",
              "      'level': 5,\n",
              "      'split': [1, 12.0],\n",
              "      'n_samples': 2394,\n",
              "      'gain': 1622.4360912724806,\n",
              "      'sl': {'y_pred': 1,\n",
              "       'y_prob': 227.22178988326849,\n",
              "       'level': 6,\n",
              "       'split': -1,\n",
              "       'n_samples': 1026,\n",
              "       'gain': 267.829494545309},\n",
              "      'sr': {'y_pred': 1,\n",
              "       'y_prob': 284.8021897810219,\n",
              "       'level': 6,\n",
              "       'split': -1,\n",
              "       'n_samples': 1368,\n",
              "       'gain': 168.18373655568575}}},\n",
              "    'sr': {'y_pred': 1,\n",
              "     'y_prob': 400.08002336448595,\n",
              "     'level': 4,\n",
              "     'split': [1, 19.0],\n",
              "     'n_samples': 1710,\n",
              "     'gain': 10357.058249717928,\n",
              "     'sl': {'y_pred': 1,\n",
              "      'y_prob': 458.41147859922177,\n",
              "      'level': 5,\n",
              "      'split': [1, 17.0],\n",
              "      'n_samples': 1026,\n",
              "      'gain': 10070.885409185605,\n",
              "      'sl': {'y_pred': 1,\n",
              "       'y_prob': 356.8662790697674,\n",
              "       'level': 6,\n",
              "       'split': -1,\n",
              "       'n_samples': 342,\n",
              "       'gain': 158.30348654292175},\n",
              "      'sr': {'y_pred': 1,\n",
              "       'y_prob': 507.99708454810497,\n",
              "       'level': 6,\n",
              "       'split': -1,\n",
              "       'n_samples': 684,\n",
              "       'gain': 2829.337849680276}},\n",
              "     'sr': {'y_pred': 1,\n",
              "      'y_prob': 311.50291545189503,\n",
              "      'level': 5,\n",
              "      'split': [1, 20.0],\n",
              "      'n_samples': 684,\n",
              "      'gain': 4838.748401217395,\n",
              "      'sl': {'y_pred': 1,\n",
              "       'y_prob': 359.5,\n",
              "       'level': 6,\n",
              "       'split': -1,\n",
              "       'n_samples': 342,\n",
              "       'gain': 3873.788481926109},\n",
              "      'sr': {'y_pred': 1,\n",
              "       'y_prob': 261.69767441860466,\n",
              "       'level': 6,\n",
              "       'split': -1,\n",
              "       'n_samples': 342,\n",
              "       'gain': 2368.159852604207}}}},\n",
              "   'sr': {'y_pred': 1,\n",
              "    'y_prob': 175.89256756756757,\n",
              "    'level': 3,\n",
              "    'split': [1, 16.0],\n",
              "    'n_samples': 1478,\n",
              "    'gain': 1134.7125713419155,\n",
              "    'sl': {'y_pred': 1,\n",
              "     'y_prob': 156.91318681318683,\n",
              "     'level': 4,\n",
              "     'split': [1, 9.0],\n",
              "     'n_samples': 908,\n",
              "     'gain': 2624.6681854894996,\n",
              "     'sl': {'y_pred': 1,\n",
              "      'y_prob': 248.94782608695652,\n",
              "      'level': 5,\n",
              "      'split': -1,\n",
              "      'n_samples': 113,\n",
              "      'gain': 0},\n",
              "     'sr': {'y_pred': 1,\n",
              "      'y_prob': 143.2409033877039,\n",
              "      'level': 5,\n",
              "      'split': [1, 12.0],\n",
              "      'n_samples': 795,\n",
              "      'gain': 439.6561657092534,\n",
              "      'sl': {'y_pred': 1,\n",
              "       'y_prob': 125.66568914956012,\n",
              "       'level': 6,\n",
              "       'split': -1,\n",
              "       'n_samples': 339,\n",
              "       'gain': 786.1489632008015},\n",
              "      'sr': {'y_pred': 1,\n",
              "       'y_prob': 155.70305676855895,\n",
              "       'level': 6,\n",
              "       'split': -1,\n",
              "       'n_samples': 456,\n",
              "       'gain': 4.874220914134639}}},\n",
              "    'sr': {'y_pred': 1,\n",
              "     'y_prob': 205.4737762237762,\n",
              "     'level': 4,\n",
              "     'split': [1, 19.0],\n",
              "     'n_samples': 570,\n",
              "     'gain': 4157.134528572889,\n",
              "     'sl': {'y_pred': 1,\n",
              "      'y_prob': 242.00581395348837,\n",
              "      'level': 5,\n",
              "      'split': [1, 17.0],\n",
              "      'n_samples': 342,\n",
              "      'gain': 3000.6049382716155,\n",
              "      'sl': {'y_pred': 1,\n",
              "       'y_prob': 185.39655172413794,\n",
              "       'level': 6,\n",
              "       'split': -1,\n",
              "       'n_samples': 114,\n",
              "       'gain': 0},\n",
              "      'sr': {'y_pred': 1,\n",
              "       'y_prob': 268.45652173913044,\n",
              "       'level': 6,\n",
              "       'split': -1,\n",
              "       'n_samples': 228,\n",
              "       'gain': 320.00061557401204}},\n",
              "     'sr': {'y_pred': 1,\n",
              "      'y_prob': 149.05217391304348,\n",
              "      'level': 5,\n",
              "      'split': [1, 20.0],\n",
              "      'n_samples': 228,\n",
              "      'gain': 1347.89785318559,\n",
              "      'sl': {'y_pred': 1,\n",
              "       'y_prob': 173.2844827586207,\n",
              "       'level': 6,\n",
              "       'split': -1,\n",
              "       'n_samples': 114,\n",
              "       'gain': 0},\n",
              "      'sr': {'y_pred': 1,\n",
              "       'y_prob': 122.25862068965517,\n",
              "       'level': 6,\n",
              "       'split': -1,\n",
              "       'n_samples': 114,\n",
              "       'gain': 0}}}}},\n",
              "  'sr': {'y_pred': 1,\n",
              "   'y_prob': 131.95985401459853,\n",
              "   'level': 2,\n",
              "   'split': [2, 1.0],\n",
              "   'n_samples': 1368,\n",
              "   'gain': 2478.289069001301,\n",
              "   'sl': {'y_pred': 1,\n",
              "    'y_prob': 152.17996108949416,\n",
              "    'level': 3,\n",
              "    'split': [1, 23.0],\n",
              "    'n_samples': 1026,\n",
              "    'gain': 2327.263104696969,\n",
              "    'sl': {'y_pred': 1,\n",
              "     'y_prob': 176.08309037900875,\n",
              "     'level': 4,\n",
              "     'split': [1, 22.0],\n",
              "     'n_samples': 684,\n",
              "     'gain': 1039.5200061557407,\n",
              "     'sl': {'y_pred': 1,\n",
              "      'y_prob': 198.23837209302326,\n",
              "      'level': 5,\n",
              "      'split': [4, 1.0],\n",
              "      'n_samples': 342,\n",
              "      'gain': 1341.2299938442593,\n",
              "      'sl': {'y_pred': 1,\n",
              "       'y_prob': 179.51304347826087,\n",
              "       'level': 6,\n",
              "       'split': -1,\n",
              "       'n_samples': 228,\n",
              "       'gain': 662.9270929516642},\n",
              "      'sr': {'y_pred': 1,\n",
              "       'y_prob': 231.95689655172413,\n",
              "       'level': 6,\n",
              "       'split': -1,\n",
              "       'n_samples': 114,\n",
              "       'gain': 0}},\n",
              "     'sr': {'y_pred': 1,\n",
              "      'y_prob': 152.90697674418604,\n",
              "      'level': 5,\n",
              "      'split': [5, 1.0],\n",
              "      'n_samples': 342,\n",
              "      'gain': 749.9910741766653,\n",
              "      'sl': {'y_pred': 1,\n",
              "       'y_prob': 166.0391304347826,\n",
              "       'level': 6,\n",
              "       'split': -1,\n",
              "       'n_samples': 228,\n",
              "       'gain': 353.68667282239767},\n",
              "      'sr': {'y_pred': 1,\n",
              "       'y_prob': 124.24137931034483,\n",
              "       'level': 6,\n",
              "       'split': -1,\n",
              "       'n_samples': 114,\n",
              "       'gain': 0}}},\n",
              "    'sr': {'y_pred': 1,\n",
              "     'y_prob': 103.63081395348837,\n",
              "     'level': 4,\n",
              "     'split': [4, 1.0],\n",
              "     'n_samples': 342,\n",
              "     'gain': 305.738517834543,\n",
              "     'sl': {'y_pred': 1,\n",
              "      'y_prob': 94.66521739130435,\n",
              "      'level': 5,\n",
              "      'split': [3, 1.0],\n",
              "      'n_samples': 228,\n",
              "      'gain': 76.70606340412633,\n",
              "      'sl': {'y_pred': 1,\n",
              "       'y_prob': 87.76724137931035,\n",
              "       'level': 6,\n",
              "       'split': -1,\n",
              "       'n_samples': 114,\n",
              "       'gain': 0},\n",
              "      'sr': {'y_pred': 1,\n",
              "       'y_prob': 99.9396551724138,\n",
              "       'level': 6,\n",
              "       'split': -1,\n",
              "       'n_samples': 114,\n",
              "       'gain': 0}},\n",
              "     'sr': {'y_pred': 1,\n",
              "      'y_prob': 119.62931034482759,\n",
              "      'level': 5,\n",
              "      'split': -1,\n",
              "      'n_samples': 114,\n",
              "      'gain': 0}}},\n",
              "   'sr': {'y_pred': 1,\n",
              "    'y_prob': 70.7703488372093,\n",
              "    'level': 3,\n",
              "    'split': [1, 23.0],\n",
              "    'n_samples': 342,\n",
              "    'gain': 668.1166854758721,\n",
              "    'sl': {'y_pred': 1,\n",
              "     'y_prob': 83.37826086956522,\n",
              "     'level': 4,\n",
              "     'split': [1, 22.0],\n",
              "     'n_samples': 228,\n",
              "     'gain': 250.5657125269281,\n",
              "     'sl': {'y_pred': 1,\n",
              "      'y_prob': 93.66379310344827,\n",
              "      'level': 5,\n",
              "      'split': -1,\n",
              "      'n_samples': 114,\n",
              "      'gain': 0},\n",
              "     'sr': {'y_pred': 1,\n",
              "      'y_prob': 71.66379310344827,\n",
              "      'level': 5,\n",
              "      'split': -1,\n",
              "      'n_samples': 114,\n",
              "      'gain': 0}},\n",
              "    'sr': {'y_pred': 1,\n",
              "     'y_prob': 44.560344827586206,\n",
              "     'level': 4,\n",
              "     'split': -1,\n",
              "     'n_samples': 114,\n",
              "     'gain': 0}}}}}"
            ]
          },
          "metadata": {},
          "execution_count": 23
        }
      ]
    },
    {
      "cell_type": "code",
      "source": [
        "# Definición de la función tree_predict para hacer predicciones según las variables 'X' y el árbol 'tree'\n",
        "\n",
        "def tree_predict(X, tree, proba=False):\n",
        "    \n",
        "    predicted = np.ones(X.shape[0])\n",
        "\n",
        "    # Revisar si es el nodo final\n",
        "    if tree['split'] == -1:\n",
        "        if not proba:\n",
        "            predicted = predicted * tree['y_pred']\n",
        "        else:\n",
        "            predicted = predicted * tree['y_prob']\n",
        "            \n",
        "    else:\n",
        "        \n",
        "        j, split = tree['split']\n",
        "        filter_l = (X.iloc[:, j] < split)\n",
        "        X_l = X.loc[filter_l]\n",
        "        X_r = X.loc[~filter_l]\n",
        "\n",
        "        if X_l.shape[0] == 0:  # Si el nodo izquierdo está vacio solo continua con el derecho \n",
        "            predicted[~filter_l] = tree_predict(X_r, tree['sr'], proba)\n",
        "        elif X_r.shape[0] == 0:  #  Si el nodo derecho está vacio solo continua con el izquierdo\n",
        "            predicted[filter_l] = tree_predict(X_l, tree['sl'], proba)\n",
        "        else:\n",
        "            predicted[filter_l] = tree_predict(X_l, tree['sl'], proba)\n",
        "            predicted[~filter_l] = tree_predict(X_r, tree['sr'], proba)\n",
        "\n",
        "    return predicted\n"
      ],
      "metadata": {
        "id": "GF5ibF7_PmSg"
      },
      "execution_count": 24,
      "outputs": []
    },
    {
      "cell_type": "code",
      "source": [
        "# Ejecución de función tree_predict\n",
        "tree_predict(X, tree)"
      ],
      "metadata": {
        "colab": {
          "base_uri": "https://localhost:8080/"
        },
        "id": "h1Huk3lbPr47",
        "outputId": "5cd69f89-0912-416f-ea48-5dea277c0845"
      },
      "execution_count": 25,
      "outputs": [
        {
          "output_type": "execute_result",
          "data": {
            "text/plain": [
              "array([1., 1., 1., ..., 1., 1., 1.])"
            ]
          },
          "metadata": {},
          "execution_count": 25
        }
      ]
    },
    {
      "cell_type": "markdown",
      "metadata": {
        "id": "zS7cgUnLAiYy"
      },
      "source": [
        "### Punto 5 - Árbol de decisión con librería\n",
        "En la celda 5 entrene un árbol de decisiones con la **librería sklearn**, usando las variables predictoras \"season\" y \"hour\" y calibre los parámetros que considere conveniente para obtener un mejor desempeño. Recuerde dividir los datos en conjuntos de entrenamiento y validación para esto. Comente el desempeño del modelo con alguna métrica de desempeño de modelos de regresión y compare desempeño con el modelo del punto 3."
      ]
    },
    {
      "cell_type": "code",
      "execution_count": 26,
      "metadata": {
        "id": "vOwIzrqTAiYy",
        "colab": {
          "base_uri": "https://localhost:8080/",
          "height": 467
        },
        "outputId": "dd2c9cc1-d506-4fd4-f410-a5f80ae036d8"
      },
      "outputs": [
        {
          "output_type": "execute_result",
          "data": {
            "text/plain": [
              "Text(0, 0.5, 'Accuracy')"
            ]
          },
          "metadata": {},
          "execution_count": 26
        },
        {
          "output_type": "display_data",
          "data": {
            "text/plain": [
              "<Figure size 640x480 with 1 Axes>"
            ],
            "image/png": "[encoded data removed]"
          },
          "metadata": {}
        }
      ],
      "source": [
        "# Celda 5\n",
        "\n",
        "# Lista de valores para calibrar el criterio de parada de máxima profundidad (max_depth)\n",
        "max_depth_range = range(1, 21)\n",
        "\n",
        "# Lista para guardar los valores del RMSE para cada valor de máxima profundidad (max_depth)\n",
        "accuracy_scores = []\n",
        "\n",
        "# Importación de modelos de sklearn \n",
        "from sklearn.model_selection import cross_val_score\n",
        "from sklearn.tree import DecisionTreeClassifier\n",
        "\n",
        "# Loop para obtener el desempeño del modelo de acuerdo con la máxima profundidad\n",
        "for depth in max_depth_range:\n",
        "    # Definición del árbol de decisión usando DecisionTreeClassifier de la libreria sklearn\n",
        "    clf = DecisionTreeClassifier(max_depth=depth, random_state=1)\n",
        "    accuracy_scores.append(cross_val_score(clf, X, y, cv=10, scoring='accuracy').mean())\n",
        "\n",
        "# Gráfica max_depth versus RMSE (error del modelo)\n",
        "plt.plot(max_depth_range, accuracy_scores)\n",
        "plt.xlabel('max_depth')\n",
        "plt.ylabel('Accuracy')\n"
      ]
    },
    {
      "cell_type": "code",
      "source": [
        "# Mejor accuracy (desempeño del modelo) y su correspondiente max_depth\n",
        "sorted(zip(accuracy_scores, max_depth_range))[::-1][0]"
      ],
      "metadata": {
        "colab": {
          "base_uri": "https://localhost:8080/"
        },
        "id": "YpEMKpA4e8BV",
        "outputId": "b716357a-8cd7-4856-8837-fd4d064e60e2"
      },
      "execution_count": 27,
      "outputs": [
        {
          "output_type": "execute_result",
          "data": {
            "text/plain": [
              "(0.025261134067952253, 4)"
            ]
          },
          "metadata": {},
          "execution_count": 27
        }
      ]
    },
    {
      "cell_type": "code",
      "source": [
        "# max_depth=4 fue el mejor, se ajusta un árbol usando este valor \n",
        "clf = DecisionTreeClassifier(max_depth=2, random_state=1)\n",
        "clf.fit(X, y)"
      ],
      "metadata": {
        "colab": {
          "base_uri": "https://localhost:8080/",
          "height": 75
        },
        "id": "pxt33XKcez86",
        "outputId": "284bd878-bcf1-4ceb-f4b5-688e149e73eb"
      },
      "execution_count": 28,
      "outputs": [
        {
          "output_type": "execute_result",
          "data": {
            "text/plain": [
              "DecisionTreeClassifier(max_depth=2, random_state=1)"
            ],
            "text/html": [
              "<style>#sk-container-id-1 {color: black;background-color: white;}#sk-container-id-1 pre{padding: 0;}#sk-container-id-1 div.sk-toggleable {background-color: white;}#sk-container-id-1 label.sk-toggleable__label {cursor: pointer;display: block;width: 100%;margin-bottom: 0;padding: 0.3em;box-sizing: border-box;text-align: center;}#sk-container-id-1 label.sk-toggleable__label-arrow:before {content: \"▸\";float: left;margin-right: 0.25em;color: #696969;}#sk-container-id-1 label.sk-toggleable__label-arrow:hover:before {color: black;}#sk-container-id-1 div.sk-estimator:hover label.sk-toggleable__label-arrow:before {color: black;}#sk-container-id-1 div.sk-toggleable__content {max-height: 0;max-width: 0;overflow: hidden;text-align: left;background-color: #f0f8ff;}#sk-container-id-1 div.sk-toggleable__content pre {margin: 0.2em;color: black;border-radius: 0.25em;background-color: #f0f8ff;}#sk-container-id-1 input.sk-toggleable__control:checked~div.sk-toggleable__content {max-height: 200px;max-width: 100%;overflow: auto;}#sk-container-id-1 input.sk-toggleable__control:checked~label.sk-toggleable__label-arrow:before {content: \"▾\";}#sk-container-id-1 div.sk-estimator input.sk-toggleable__control:checked~label.sk-toggleable__label {background-color: #d4ebff;}#sk-container-id-1 div.sk-label input.sk-toggleable__control:checked~label.sk-toggleable__label {background-color: #d4ebff;}#sk-container-id-1 input.sk-hidden--visually {border: 0;clip: rect(1px 1px 1px 1px);clip: rect(1px, 1px, 1px, 1px);height: 1px;margin: -1px;overflow: hidden;padding: 0;position: absolute;width: 1px;}#sk-container-id-1 div.sk-estimator {font-family: monospace;background-color: #f0f8ff;border: 1px dotted black;border-radius: 0.25em;box-sizing: border-box;margin-bottom: 0.5em;}#sk-container-id-1 div.sk-estimator:hover {background-color: #d4ebff;}#sk-container-id-1 div.sk-parallel-item::after {content: \"\";width: 100%;border-bottom: 1px solid gray;flex-grow: 1;}#sk-container-id-1 div.sk-label:hover label.sk-toggleable__label {background-color: #d4ebff;}#sk-container-id-1 div.sk-serial::before {content: \"\";position: absolute;border-left: 1px solid gray;box-sizing: border-box;top: 0;bottom: 0;left: 50%;z-index: 0;}#sk-container-id-1 div.sk-serial {display: flex;flex-direction: column;align-items: center;background-color: white;padding-right: 0.2em;padding-left: 0.2em;position: relative;}#sk-container-id-1 div.sk-item {position: relative;z-index: 1;}#sk-container-id-1 div.sk-parallel {display: flex;align-items: stretch;justify-content: center;background-color: white;position: relative;}#sk-container-id-1 div.sk-item::before, #sk-container-id-1 div.sk-parallel-item::before {content: \"\";position: absolute;border-left: 1px solid gray;box-sizing: border-box;top: 0;bottom: 0;left: 50%;z-index: -1;}#sk-container-id-1 div.sk-parallel-item {display: flex;flex-direction: column;z-index: 1;position: relative;background-color: white;}#sk-container-id-1 div.sk-parallel-item:first-child::after {align-self: flex-end;width: 50%;}#sk-container-id-1 div.sk-parallel-item:last-child::after {align-self: flex-start;width: 50%;}#sk-container-id-1 div.sk-parallel-item:only-child::after {width: 0;}#sk-container-id-1 div.sk-dashed-wrapped {border: 1px dashed gray;margin: 0 0.4em 0.5em 0.4em;box-sizing: border-box;padding-bottom: 0.4em;background-color: white;}#sk-container-id-1 div.sk-label label {font-family: monospace;font-weight: bold;display: inline-block;line-height: 1.2em;}#sk-container-id-1 div.sk-label-container {text-align: center;}#sk-container-id-1 div.sk-container {/* jupyter's `normalize.less` sets `[hidden] { display: none; }` but bootstrap.min.css set `[hidden] { display: none !important; }` so we also need the `!important` here to be able to override the default hidden behavior on the sphinx rendered scikit-learn.org. See: https://github.com/scikit-learn/scikit-learn/issues/21755 */display: inline-block !important;position: relative;}#sk-container-id-1 div.sk-text-repr-fallback {display: none;}</style><div id=\"sk-container-id-1\" class=\"sk-top-container\"><div class=\"sk-text-repr-fallback\"><pre>DecisionTreeClassifier(max_depth=2, random_state=1)</pre><b>In a Jupyter environment, please rerun this cell to show the HTML representation or trust the notebook. <br />On GitHub, the HTML representation is unable to render, please try loading this page with nbviewer.org.</b></div><div class=\"sk-container\" hidden><div class=\"sk-item\"><div class=\"sk-estimator sk-toggleable\"><input class=\"sk-toggleable__control sk-hidden--visually\" id=\"sk-estimator-id-1\" type=\"checkbox\" checked><label for=\"sk-estimator-id-1\" class=\"sk-toggleable__label sk-toggleable__label-arrow\">DecisionTreeClassifier</label><div class=\"sk-toggleable__content\"><pre>DecisionTreeClassifier(max_depth=2, random_state=1)</pre></div></div></div></div></div>"
            ]
          },
          "metadata": {},
          "execution_count": 28
        }
      ]
    },
    {
      "cell_type": "code",
      "source": [
        "pd.Series(cross_val_score(clf, X, y, cv=10)).describe()"
      ],
      "metadata": {
        "colab": {
          "base_uri": "https://localhost:8080/"
        },
        "id": "Ptqw1-z8fJbo",
        "outputId": "dc7ab95d-670e-4c0f-e4da-8dfcbbbbf007"
      },
      "execution_count": 29,
      "outputs": [
        {
          "output_type": "execute_result",
          "data": {
            "text/plain": [
              "count    10.000000\n",
              "mean      0.017545\n",
              "std       0.005895\n",
              "min       0.007353\n",
              "25%       0.015611\n",
              "50%       0.018382\n",
              "75%       0.020895\n",
              "max       0.024793\n",
              "dtype: float64"
            ]
          },
          "metadata": {},
          "execution_count": 29
        }
      ]
    },
    {
      "cell_type": "markdown",
      "metadata": {
        "id": "dd7GkGQMAiYy"
      },
      "source": [
        "## Parte B - Métodos de ensamblajes\n",
        "En esta parte del taller se usará el conjunto de datos de Popularidad de Noticias Online. El objetivo es predecir si la notica es popular o no, la popularidad está dada por la cantidad de reacciones en redes sociales. Para más detalles puede visitar el siguiente enlace: [datos](https://archive.ics.uci.edu/ml/datasets/online+news+popularity)."
      ]
    },
    {
      "cell_type": "markdown",
      "metadata": {
        "id": "_w5EnbN0AiYy"
      },
      "source": [
        "### Datos popularidad de noticias"
      ]
    },
    {
      "cell_type": "code",
      "execution_count": 30,
      "metadata": {
        "id": "Xih9twW2AiYy",
        "colab": {
          "base_uri": "https://localhost:8080/",
          "height": 386
        },
        "outputId": "e08e86d4-26d5-430c-ecb9-dd26356e1b17"
      },
      "outputs": [
        {
          "output_type": "execute_result",
          "data": {
            "text/plain": [
              "                                                 url  timedelta  \\\n",
              "0  http://mashable.com/2014/12/10/cia-torture-rep...       28.0   \n",
              "1  http://mashable.com/2013/10/18/bitlock-kicksta...      447.0   \n",
              "2  http://mashable.com/2013/07/24/google-glass-po...      533.0   \n",
              "3  http://mashable.com/2013/11/21/these-are-the-m...      413.0   \n",
              "4  http://mashable.com/2014/02/11/parking-ticket-...      331.0   \n",
              "\n",
              "   n_tokens_title  n_tokens_content  n_unique_tokens  n_non_stop_words  \\\n",
              "0             9.0             188.0         0.732620               1.0   \n",
              "1             7.0             297.0         0.653199               1.0   \n",
              "2            11.0             181.0         0.660377               1.0   \n",
              "3            12.0             781.0         0.497409               1.0   \n",
              "4             8.0             177.0         0.685714               1.0   \n",
              "\n",
              "   n_non_stop_unique_tokens  num_hrefs  num_self_hrefs  num_imgs  ...  \\\n",
              "0                  0.844262        5.0             1.0       1.0  ...   \n",
              "1                  0.815789        9.0             4.0       1.0  ...   \n",
              "2                  0.775701        4.0             3.0       1.0  ...   \n",
              "3                  0.677350       10.0             3.0       1.0  ...   \n",
              "4                  0.830357        3.0             2.0       1.0  ...   \n",
              "\n",
              "   min_positive_polarity  max_positive_polarity  avg_negative_polarity  \\\n",
              "0               0.200000                   0.80              -0.487500   \n",
              "1               0.160000                   0.50              -0.135340   \n",
              "2               0.136364                   1.00               0.000000   \n",
              "3               0.100000                   1.00              -0.195701   \n",
              "4               0.100000                   0.55              -0.175000   \n",
              "\n",
              "   min_negative_polarity  max_negative_polarity  title_subjectivity  \\\n",
              "0                  -0.60              -0.250000                 0.9   \n",
              "1                  -0.40              -0.050000                 0.1   \n",
              "2                   0.00               0.000000                 0.3   \n",
              "3                  -0.40              -0.071429                 0.0   \n",
              "4                  -0.25              -0.100000                 0.0   \n",
              "\n",
              "   title_sentiment_polarity  abs_title_subjectivity  \\\n",
              "0                       0.8                     0.4   \n",
              "1                      -0.1                     0.4   \n",
              "2                       1.0                     0.2   \n",
              "3                       0.0                     0.5   \n",
              "4                       0.0                     0.5   \n",
              "\n",
              "   abs_title_sentiment_polarity  Popular  \n",
              "0                           0.8        1  \n",
              "1                           0.1        0  \n",
              "2                           1.0        0  \n",
              "3                           0.0        0  \n",
              "4                           0.0        0  \n",
              "\n",
              "[5 rows x 61 columns]"
            ],
            "text/html": [
              "\n",
              "  <div id=\"df-ead80660-6c75-4922-9faf-483707ce61c5\">\n",
              "    <div class=\"colab-df-container\">\n",
              "      <div>\n",
              "<style scoped>\n",
              "    .dataframe tbody tr th:only-of-type {\n",
              "        vertical-align: middle;\n",
              "    }\n",
              "\n",
              "    .dataframe tbody tr th {\n",
              "        vertical-align: top;\n",
              "    }\n",
              "\n",
              "    .dataframe thead th {\n",
              "        text-align: right;\n",
              "    }\n",
              "</style>\n",
              "<table border=\"1\" class=\"dataframe\">\n",
              "  <thead>\n",
              "    <tr style=\"text-align: right;\">\n",
              "      <th></th>\n",
              "      <th>url</th>\n",
              "      <th>timedelta</th>\n",
              "      <th>n_tokens_title</th>\n",
              "      <th>n_tokens_content</th>\n",
              "      <th>n_unique_tokens</th>\n",
              "      <th>n_non_stop_words</th>\n",
              "      <th>n_non_stop_unique_tokens</th>\n",
              "      <th>num_hrefs</th>\n",
              "      <th>num_self_hrefs</th>\n",
              "      <th>num_imgs</th>\n",
              "      <th>...</th>\n",
              "      <th>min_positive_polarity</th>\n",
              "      <th>max_positive_polarity</th>\n",
              "      <th>avg_negative_polarity</th>\n",
              "      <th>min_negative_polarity</th>\n",
              "      <th>max_negative_polarity</th>\n",
              "      <th>title_subjectivity</th>\n",
              "      <th>title_sentiment_polarity</th>\n",
              "      <th>abs_title_subjectivity</th>\n",
              "      <th>abs_title_sentiment_polarity</th>\n",
              "      <th>Popular</th>\n",
              "    </tr>\n",
              "  </thead>\n",
              "  <tbody>\n",
              "    <tr>\n",
              "      <th>0</th>\n",
              "      <td>http://mashable.com/2014/12/10/cia-torture-rep...</td>\n",
              "      <td>28.0</td>\n",
              "      <td>9.0</td>\n",
              "      <td>188.0</td>\n",
              "      <td>0.732620</td>\n",
              "      <td>1.0</td>\n",
              "      <td>0.844262</td>\n",
              "      <td>5.0</td>\n",
              "      <td>1.0</td>\n",
              "      <td>1.0</td>\n",
              "      <td>...</td>\n",
              "      <td>0.200000</td>\n",
              "      <td>0.80</td>\n",
              "      <td>-0.487500</td>\n",
              "      <td>-0.60</td>\n",
              "      <td>-0.250000</td>\n",
              "      <td>0.9</td>\n",
              "      <td>0.8</td>\n",
              "      <td>0.4</td>\n",
              "      <td>0.8</td>\n",
              "      <td>1</td>\n",
              "    </tr>\n",
              "    <tr>\n",
              "      <th>1</th>\n",
              "      <td>http://mashable.com/2013/10/18/bitlock-kicksta...</td>\n",
              "      <td>447.0</td>\n",
              "      <td>7.0</td>\n",
              "      <td>297.0</td>\n",
              "      <td>0.653199</td>\n",
              "      <td>1.0</td>\n",
              "      <td>0.815789</td>\n",
              "      <td>9.0</td>\n",
              "      <td>4.0</td>\n",
              "      <td>1.0</td>\n",
              "      <td>...</td>\n",
              "      <td>0.160000</td>\n",
              "      <td>0.50</td>\n",
              "      <td>-0.135340</td>\n",
              "      <td>-0.40</td>\n",
              "      <td>-0.050000</td>\n",
              "      <td>0.1</td>\n",
              "      <td>-0.1</td>\n",
              "      <td>0.4</td>\n",
              "      <td>0.1</td>\n",
              "      <td>0</td>\n",
              "    </tr>\n",
              "    <tr>\n",
              "      <th>2</th>\n",
              "      <td>http://mashable.com/2013/07/24/google-glass-po...</td>\n",
              "      <td>533.0</td>\n",
              "      <td>11.0</td>\n",
              "      <td>181.0</td>\n",
              "      <td>0.660377</td>\n",
              "      <td>1.0</td>\n",
              "      <td>0.775701</td>\n",
              "      <td>4.0</td>\n",
              "      <td>3.0</td>\n",
              "      <td>1.0</td>\n",
              "      <td>...</td>\n",
              "      <td>0.136364</td>\n",
              "      <td>1.00</td>\n",
              "      <td>0.000000</td>\n",
              "      <td>0.00</td>\n",
              "      <td>0.000000</td>\n",
              "      <td>0.3</td>\n",
              "      <td>1.0</td>\n",
              "      <td>0.2</td>\n",
              "      <td>1.0</td>\n",
              "      <td>0</td>\n",
              "    </tr>\n",
              "    <tr>\n",
              "      <th>3</th>\n",
              "      <td>http://mashable.com/2013/11/21/these-are-the-m...</td>\n",
              "      <td>413.0</td>\n",
              "      <td>12.0</td>\n",
              "      <td>781.0</td>\n",
              "      <td>0.497409</td>\n",
              "      <td>1.0</td>\n",
              "      <td>0.677350</td>\n",
              "      <td>10.0</td>\n",
              "      <td>3.0</td>\n",
              "      <td>1.0</td>\n",
              "      <td>...</td>\n",
              "      <td>0.100000</td>\n",
              "      <td>1.00</td>\n",
              "      <td>-0.195701</td>\n",
              "      <td>-0.40</td>\n",
              "      <td>-0.071429</td>\n",
              "      <td>0.0</td>\n",
              "      <td>0.0</td>\n",
              "      <td>0.5</td>\n",
              "      <td>0.0</td>\n",
              "      <td>0</td>\n",
              "    </tr>\n",
              "    <tr>\n",
              "      <th>4</th>\n",
              "      <td>http://mashable.com/2014/02/11/parking-ticket-...</td>\n",
              "      <td>331.0</td>\n",
              "      <td>8.0</td>\n",
              "      <td>177.0</td>\n",
              "      <td>0.685714</td>\n",
              "      <td>1.0</td>\n",
              "      <td>0.830357</td>\n",
              "      <td>3.0</td>\n",
              "      <td>2.0</td>\n",
              "      <td>1.0</td>\n",
              "      <td>...</td>\n",
              "      <td>0.100000</td>\n",
              "      <td>0.55</td>\n",
              "      <td>-0.175000</td>\n",
              "      <td>-0.25</td>\n",
              "      <td>-0.100000</td>\n",
              "      <td>0.0</td>\n",
              "      <td>0.0</td>\n",
              "      <td>0.5</td>\n",
              "      <td>0.0</td>\n",
              "      <td>0</td>\n",
              "    </tr>\n",
              "  </tbody>\n",
              "</table>\n",
              "<p>5 rows × 61 columns</p>\n",
              "</div>\n",
              "      <button class=\"colab-df-convert\" onclick=\"convertToInteractive('df-ead80660-6c75-4922-9faf-483707ce61c5')\"\n",
              "              title=\"Convert this dataframe to an interactive table.\"\n",
              "              style=\"display:none;\">\n",
              "        \n",
              "  <svg xmlns=\"http://www.w3.org/2000/svg\" height=\"24px\"viewBox=\"0 0 24 24\"\n",
              "       width=\"24px\">\n",
              "    <path d=\"M0 0h24v24H0V0z\" fill=\"none\"/>\n",
              "    <path d=\"M18.56 5.44l.94 2.06.94-2.06 2.06-.94-2.06-.94-.94-2.06-.94 2.06-2.06.94zm-11 1L8.5 8.5l.94-2.06 2.06-.94-2.06-.94L8.5 2.5l-.94 2.06-2.06.94zm10 10l.94 2.06.94-2.06 2.06-.94-2.06-.94-.94-2.06-.94 2.06-2.06.94z\"/><path d=\"M17.41 7.96l-1.37-1.37c-.4-.4-.92-.59-1.43-.59-.52 0-1.04.2-1.43.59L10.3 9.45l-7.72 7.72c-.78.78-.78 2.05 0 2.83L4 21.41c.39.39.9.59 1.41.59.51 0 1.02-.2 1.41-.59l7.78-7.78 2.81-2.81c.8-.78.8-2.07 0-2.86zM5.41 20L4 18.59l7.72-7.72 1.47 1.35L5.41 20z\"/>\n",
              "  </svg>\n",
              "      </button>\n",
              "      \n",
              "  <style>\n",
              "    .colab-df-container {\n",
              "      display:flex;\n",
              "      flex-wrap:wrap;\n",
              "      gap: 12px;\n",
              "    }\n",
              "\n",
              "    .colab-df-convert {\n",
              "      background-color: #E8F0FE;\n",
              "      border: none;\n",
              "      border-radius: 50%;\n",
              "      cursor: pointer;\n",
              "      display: none;\n",
              "      fill: #1967D2;\n",
              "      height: 32px;\n",
              "      padding: 0 0 0 0;\n",
              "      width: 32px;\n",
              "    }\n",
              "\n",
              "    .colab-df-convert:hover {\n",
              "      background-color: #E2EBFA;\n",
              "      box-shadow: 0px 1px 2px rgba(60, 64, 67, 0.3), 0px 1px 3px 1px rgba(60, 64, 67, 0.15);\n",
              "      fill: #174EA6;\n",
              "    }\n",
              "\n",
              "    [theme=dark] .colab-df-convert {\n",
              "      background-color: #3B4455;\n",
              "      fill: #D2E3FC;\n",
              "    }\n",
              "\n",
              "    [theme=dark] .colab-df-convert:hover {\n",
              "      background-color: #434B5C;\n",
              "      box-shadow: 0px 1px 3px 1px rgba(0, 0, 0, 0.15);\n",
              "      filter: drop-shadow(0px 1px 2px rgba(0, 0, 0, 0.3));\n",
              "      fill: #FFFFFF;\n",
              "    }\n",
              "  </style>\n",
              "\n",
              "      <script>\n",
              "        const buttonEl =\n",
              "          document.querySelector('#df-ead80660-6c75-4922-9faf-483707ce61c5 button.colab-df-convert');\n",
              "        buttonEl.style.display =\n",
              "          google.colab.kernel.accessAllowed ? 'block' : 'none';\n",
              "\n",
              "        async function convertToInteractive(key) {\n",
              "          const element = document.querySelector('#df-ead80660-6c75-4922-9faf-483707ce61c5');\n",
              "          const dataTable =\n",
              "            await google.colab.kernel.invokeFunction('convertToInteractive',\n",
              "                                                     [key], {});\n",
              "          if (!dataTable) return;\n",
              "\n",
              "          const docLinkHtml = 'Like what you see? Visit the ' +\n",
              "            '<a target=\"_blank\" href=https://colab.research.google.com/notebooks/data_table.ipynb>data table notebook</a>'\n",
              "            + ' to learn more about interactive tables.';\n",
              "          element.innerHTML = '';\n",
              "          dataTable['output_type'] = 'display_data';\n",
              "          await google.colab.output.renderOutput(dataTable, element);\n",
              "          const docLink = document.createElement('div');\n",
              "          docLink.innerHTML = docLinkHtml;\n",
              "          element.appendChild(docLink);\n",
              "        }\n",
              "      </script>\n",
              "    </div>\n",
              "  </div>\n",
              "  "
            ]
          },
          "metadata": {},
          "execution_count": 30
        }
      ],
      "source": [
        "# Lectura de la información de archivo .csv\n",
        "df = pd.read_csv('https://raw.githubusercontent.com/davidzarruk/MIAD_ML_NLP_2023/main/datasets/mashable.csv', index_col=0)\n",
        "df.head()"
      ]
    },
    {
      "cell_type": "code",
      "execution_count": 31,
      "metadata": {
        "id": "rrNtkuIXAiYy",
        "colab": {
          "base_uri": "https://localhost:8080/"
        },
        "outputId": "81a75890-0b37-44f4-85e7-f7b79e70bd25"
      },
      "outputs": [
        {
          "output_type": "execute_result",
          "data": {
            "text/plain": [
              "0.5"
            ]
          },
          "metadata": {},
          "execution_count": 31
        }
      ],
      "source": [
        "# Definición variable de interes y variables predictoras\n",
        "X = df.drop(['url', 'Popular'], axis=1)\n",
        "y = df['Popular']\n",
        "y.mean()"
      ]
    },
    {
      "cell_type": "code",
      "execution_count": 32,
      "metadata": {
        "id": "0e6cK3oCAiYy"
      },
      "outputs": [],
      "source": [
        "# División de la muestra en set de entrenamiento y prueba\n",
        "from sklearn.model_selection import train_test_split\n",
        "X_train, X_test, y_train, y_test = train_test_split(X, y, random_state=1)"
      ]
    },
    {
      "cell_type": "markdown",
      "metadata": {
        "id": "30cx6D7BAiYy"
      },
      "source": [
        "### Punto 6 - Árbol de decisión y regresión logística\n",
        "En la celda 6 construya un árbol de decisión y una regresión logística. Para el árbol calibre al menos un parámetro y evalúe el desempeño de cada modelo usando las métricas de Accuracy y F1-Score."
      ]
    },
    {
      "cell_type": "code",
      "execution_count": 33,
      "metadata": {
        "id": "yZc1pYr_AiYy"
      },
      "outputs": [],
      "source": [
        "# Celda 6\n",
        "from sklearn.linear_model import LogisticRegression\n",
        "from sklearn.tree import DecisionTreeRegressor\n",
        "from sklearn.naive_bayes import GaussianNB\n",
        "from sklearn.neighbors import KNeighborsRegressor\n",
        "from sklearn.metrics import accuracy_score\n",
        "from sklearn.metrics import f1_score\n",
        "\n",
        "# Definición de 4 modelos diferentes: regresión logística, árbol de decisión,Navie Bayes y k vecinos más cercanos\n",
        "models = {'logr': LogisticRegression(),\n",
        "          'dt': DecisionTreeRegressor()}"
      ]
    },
    {
      "cell_type": "code",
      "source": [
        "# Entrenamiento (fit) de cada modelo\n",
        "for model in models.keys():\n",
        "    models[model].fit(X_train, y_train)"
      ],
      "metadata": {
        "id": "k-dUbUASi6at"
      },
      "execution_count": 34,
      "outputs": []
    },
    {
      "cell_type": "code",
      "source": [
        "# Predicción de las observaciones del set de test para cada modelo\n",
        "y_pred = pd.DataFrame(index=y_test, columns=models.keys())\n",
        "for model in models.keys():\n",
        "    y_pred[model] = models[model].predict(X_test)"
      ],
      "metadata": {
        "id": "fCzVAip0WngS"
      },
      "execution_count": 35,
      "outputs": []
    },
    {
      "cell_type": "code",
      "source": [
        "# Evaluación del error de cada modelo\n",
        "from sklearn.metrics import mean_squared_error\n",
        "\n",
        "for model in models.keys():\n",
        "    print(model,np.sqrt(mean_squared_error(y_pred[model], y_test)))"
      ],
      "metadata": {
        "colab": {
          "base_uri": "https://localhost:8080/"
        },
        "id": "zKqtygRLkP4e",
        "outputId": "881c01e3-5f81-4f07-e97e-99d288d0679e"
      },
      "execution_count": 36,
      "outputs": [
        {
          "output_type": "stream",
          "name": "stdout",
          "text": [
            "logr 0.621825270205921\n",
            "dt 0.6801960501698512\n"
          ]
        }
      ]
    },
    {
      "cell_type": "code",
      "source": [
        "#Modelo de regresión logística\n",
        "#Se entrena el modelo\n",
        "clfRegLog= LogisticRegression(random_state=0,max_iter=10000)\n",
        "clfRegLog.fit(X_train,y_train)\n",
        "#Se hacen las predicciones \n",
        "prediccionesRegLog=clfRegLog.predict(X_test)\n",
        "prediccionesProbRegLog=clfRegLog.predict_proba(X_test)\n",
        "#se grafica la curva ROC y se calcula el AUC\n",
        "fpr, tpr, thresholds = metrics.roc_curve(y_test, prediccionesProbRegLog[:,1], pos_label=1)\n",
        "AUCRegLog=metrics.auc(fpr, tpr)\n",
        "plt.title('Receiver Operating Characteristic')\n",
        "plt.plot(fpr, tpr, 'b', label = 'AUC = %0.2f' % AUCRegLog)\n",
        "plt.legend(loc = 'lower right')\n",
        "plt.plot([0, 1], [0, 1],'r--')\n",
        "plt.xlim([-0.01, 1])\n",
        "plt.ylim([0, 1.05])\n",
        "plt.ylabel('True Positive Rate')\n",
        "plt.xlabel('False Positive Rate')\n",
        "plt.show()"
      ],
      "metadata": {
        "colab": {
          "base_uri": "https://localhost:8080/",
          "height": 472
        },
        "id": "GEkhK--u3zzk",
        "outputId": "a386d99d-62ef-44bf-99b4-76f97bdd434f"
      },
      "execution_count": 37,
      "outputs": [
        {
          "output_type": "display_data",
          "data": {
            "text/plain": [
              "<Figure size 640x480 with 1 Axes>"
            ],
            "image/png": "[encoded data removed]"
          },
          "metadata": {}
        }
      ]
    },
    {
      "cell_type": "code",
      "source": [
        "y_pred = clfRegLog.predict(X_test)\n",
        "\n",
        "# Matriz de confusión\n",
        "print(' ')\n",
        "print('Matriz de confusión: ')\n",
        "print(confusion_matrix(y_true=y_test, y_pred=y_pred))\n",
        "\n",
        "\n",
        "#accuracy\n",
        "accuracyLR = accuracy_score(y_true=y_test, y_pred=y_pred)\n",
        "print('Accuracy: ' + str(accuracyLR))\n",
        "\n",
        "#precision\n",
        "precisionLR = precision_score(y_true=y_test, y_pred=y_pred)\n",
        "print('Precision: '+ str(precisionLR))\n",
        "\n",
        "#F1-Score\n",
        "F1ScoreLR = f1_score(y_true=y_test, y_pred=y_pred)\n",
        "print('Precision: '+ str(F1ScoreLR))\n",
        "\n",
        "\n",
        "#mean_squared_error\n",
        "msqeLR = mean_squared_error(y_true=y_test, y_pred=y_pred)\n",
        "print('mean_squared_error: '+ str(msqeLR))\n",
        "\n",
        "\n",
        "\n"
      ],
      "metadata": {
        "colab": {
          "base_uri": "https://localhost:8080/"
        },
        "id": "riKKX7CA5N9S",
        "outputId": "b4f68cca-4c9d-471e-ca8a-5e0e22491145"
      },
      "execution_count": 38,
      "outputs": [
        {
          "output_type": "stream",
          "name": "stdout",
          "text": [
            " \n",
            "Matriz de confusión: \n",
            "[[493 251]\n",
            " [311 445]]\n",
            "Accuracy: 0.6253333333333333\n",
            "Precision: 0.639367816091954\n",
            "Precision: 0.6129476584022039\n",
            "mean_squared_error: 0.37466666666666665\n"
          ]
        }
      ]
    },
    {
      "cell_type": "code",
      "source": [
        "#Modelo de regresión logística\n",
        "#Se entrena el modelo\n",
        "clfArbol= DecisionTreeRegressor(random_state = 0) \n",
        "clfArbol.fit(X_train,y_train)\n",
        "#Se hacen las predicciones \n",
        "prediccionesArbol=clfArbol.predict(X_test)\n"
      ],
      "metadata": {
        "id": "MSNVqafO76Kx"
      },
      "execution_count": 39,
      "outputs": []
    },
    {
      "cell_type": "code",
      "source": [
        "y_pred = clfArbol.predict(X_test)\n",
        "\n",
        "# Matriz de confusión\n",
        "print(' ')\n",
        "print('Matriz de confusión: ')\n",
        "print(confusion_matrix(y_true=y_test, y_pred=y_pred))\n",
        "\n",
        "\n",
        "#accuracy\n",
        "accuracyArbol = accuracy_score(y_true=y_test, y_pred=y_pred)\n",
        "print('Accuracy: ' + str(accuracyArbol))\n",
        "\n",
        "#precision\n",
        "precisionArbol = precision_score(y_true=y_test, y_pred=y_pred)\n",
        "print('Precision: '+ str(precisionLR))\n",
        "\n",
        "#F1-Score\n",
        "F1_ScoreArbol = f1_score(y_true=y_test, y_pred=y_pred)\n",
        "print('F1-Score: '+ str(F1_ScoreArbol))\n",
        "\n",
        "\n",
        "#mean_squared_error\n",
        "msqeArbol = mean_squared_error(y_true=y_test, y_pred=y_pred)\n",
        "print('mean_squared_error: '+ str(msqeArbol))\n",
        "\n"
      ],
      "metadata": {
        "colab": {
          "base_uri": "https://localhost:8080/"
        },
        "id": "WUCEKp84AjpY",
        "outputId": "79e02949-1ef1-4b61-b4dc-a4e8d33f84b5"
      },
      "execution_count": 40,
      "outputs": [
        {
          "output_type": "stream",
          "name": "stdout",
          "text": [
            " \n",
            "Matriz de confusión: \n",
            "[[399 345]\n",
            " [347 409]]\n",
            "Accuracy: 0.5386666666666666\n",
            "Precision: 0.639367816091954\n",
            "F1-Score: 0.5417218543046358\n",
            "mean_squared_error: 0.4613333333333333\n"
          ]
        }
      ]
    },
    {
      "cell_type": "markdown",
      "metadata": {
        "id": "KooBJuSrAiYz"
      },
      "source": [
        "### Punto 7 - Votación Mayoritaria\n",
        "En la celda 7 elabore un esamble con la metodología de **Votación mayoritaria** compuesto por 300 muestras bagged para cada uno de los siguientes escenarios:\n",
        "\n",
        "-100 árboles de decisión donde max_depth tome un valor de su elección\\\n",
        "-100 árboles de decisión donde min_samples_leaf tome un valor de su elección\\\n",
        "-100 regresiones logísticas\n",
        "\n",
        "Evalúe cada uno de los tres modelos de manera independiente utilizando las métricas de Accuracy y F1-Score, luego evalúe el ensamble de modelos y compare los resultados. "
      ]
    },
    {
      "cell_type": "code",
      "execution_count": 41,
      "metadata": {
        "id": "0TcdN0FzAiYz"
      },
      "outputs": [],
      "source": [
        "# Celda 7\n",
        "n_estimators = 300\n",
        "np.random.seed(123)\n",
        "\n",
        "n_samples = X_train.shape[0]\n",
        "samples = [np.random.choice(a=n_samples, size=n_samples, replace=True) for _ in range(n_estimators)]"
      ]
    },
    {
      "cell_type": "code",
      "source": [
        "\n",
        "from sklearn.tree import DecisionTreeClassifier\n",
        "\n",
        "np.random.seed(123) \n",
        "seeds = np.random.randint(1, 10000, size=n_estimators)\n",
        "\n",
        "trees = {}\n",
        "for i in range(n_estimators):\n",
        "    trees[i] = DecisionTreeClassifier(max_features=\"sqrt\", max_depth=5, random_state=seeds[i])\n",
        "    trees[i].fit(X_train.iloc[samples[i]], y_train.iloc[samples[i]])\n",
        "\n",
        "y_pred_df = pd.DataFrame(index=X_test.index, columns=list(range(n_estimators)))\n",
        "for i in range(n_estimators):\n",
        "    y_pred_df.iloc[:, i] = trees[i].predict(X_test)\n",
        "\n",
        "y_pred_df.head()\n",
        "\n",
        "# Impresión de la cantidad de modelos que predijeron 1 para 10 observaciones\n",
        "y_pred_df.sum(axis=1)[:10]\n",
        "\n",
        "# Votación mayoritaria\n",
        "y_pred = (y_pred_df.sum(axis=1) >= (n_estimators / 2)).astype(np.int)\n"
      ],
      "metadata": {
        "id": "6uCuWVuECr4B"
      },
      "execution_count": 42,
      "outputs": []
    },
    {
      "cell_type": "code",
      "source": [
        "# Desempeño al hacer votación mayoritaria\n",
        "metrics.f1_score(y_pred, y_test)"
      ],
      "metadata": {
        "colab": {
          "base_uri": "https://localhost:8080/"
        },
        "id": "8tDobqzNDrfd",
        "outputId": "1bee0faf-3adb-405d-a4e8-c50da5d019c3"
      },
      "execution_count": 43,
      "outputs": [
        {
          "output_type": "execute_result",
          "data": {
            "text/plain": [
              "0.6603389830508474"
            ]
          },
          "metadata": {},
          "execution_count": 43
        }
      ]
    },
    {
      "cell_type": "code",
      "source": [
        "metrics.accuracy_score(y_pred, y_test)"
      ],
      "metadata": {
        "colab": {
          "base_uri": "https://localhost:8080/"
        },
        "id": "yO5fg4a9DruG",
        "outputId": "88395093-fb55-44a3-ea8b-60fc709601d9"
      },
      "execution_count": 44,
      "outputs": [
        {
          "output_type": "execute_result",
          "data": {
            "text/plain": [
              "0.666"
            ]
          },
          "metadata": {},
          "execution_count": 44
        }
      ]
    },
    {
      "cell_type": "code",
      "source": [
        "# Definición del modelo BaggingClassifier de la libreria sklearn\n",
        "from sklearn.ensemble import BaggingClassifier\n",
        "\n",
        "clf = BaggingClassifier(base_estimator=DecisionTreeClassifier(max_depth=5), n_estimators=300, bootstrap=True,\n",
        "                        random_state=42, n_jobs=-1, oob_score=True)\n",
        "\n",
        "clf.fit(X_train, y_train)\n",
        "y_pred = clf.predict(X_test)\n",
        "\n",
        "vmf1 = metrics.f1_score(y_pred, y_test)\n",
        "vmacc = metrics.accuracy_score(y_pred, y_test)\n",
        "                      \n",
        "print('f1-Score: '+ str(vmf1))\n",
        "print('accuracy: '+ str(vmacc))\n"
      ],
      "metadata": {
        "colab": {
          "base_uri": "https://localhost:8080/"
        },
        "id": "-NgSDM5dIy2e",
        "outputId": "f4fc3636-b0a5-4711-f1fa-dd3550bc35a2"
      },
      "execution_count": 45,
      "outputs": [
        {
          "output_type": "stream",
          "name": "stdout",
          "text": [
            "f1-Score: 0.653252850435949\n",
            "accuracy: 0.6553333333333333\n"
          ]
        }
      ]
    },
    {
      "cell_type": "code",
      "source": [
        "# Definición del modelo BaggingClassifier de la libreria sklearn\n",
        "from sklearn.ensemble import BaggingClassifier\n",
        "\n",
        "clf_l = BaggingClassifier(base_estimator=DecisionTreeClassifier(min_samples_leaf=3), n_estimators=300, bootstrap=True,\n",
        "                        random_state=42, n_jobs=-1, oob_score=True)\n",
        "\n",
        "clf_l.fit(X_train, y_train)\n",
        "y_pred_l = clf_l.predict(X_test)\n",
        "\n",
        "\n",
        "vmf1_l = metrics.f1_score(y_pred_l, y_test)\n",
        "vmacc_l = metrics.accuracy_score(y_pred_l, y_test)\n",
        "                      \n",
        "print('f1-Score: '+ str(vmf1_l))\n",
        "print('accuracy: '+ str(vmacc_l))"
      ],
      "metadata": {
        "colab": {
          "base_uri": "https://localhost:8080/"
        },
        "id": "vQBHUzLaKL_3",
        "outputId": "452e3bf7-ed3c-4e2d-dbab-da2618daca5a"
      },
      "execution_count": 46,
      "outputs": [
        {
          "output_type": "stream",
          "name": "stdout",
          "text": [
            "f1-Score: 0.6569920844327177\n",
            "accuracy: 0.6533333333333333\n"
          ]
        }
      ]
    },
    {
      "cell_type": "code",
      "source": [
        "# Definición del modelo BaggingClassifier de la libreria sklearn\n",
        "from sklearn.ensemble import BaggingClassifier\n",
        "\n",
        "clf_r = BaggingClassifier(base_estimator=LogisticRegression(random_state=0,max_iter=100), n_estimators=300, bootstrap=True,\n",
        "                        random_state=42, n_jobs=-1, oob_score=True)\n",
        "\n",
        "clf_r.fit(X_train, y_train)\n",
        "y_pred_r = clf_r.predict(X_test)\n",
        "\n",
        "\n",
        "vmf1_r = metrics.f1_score(y_pred_r, y_test)\n",
        "vmacc_r = metrics.accuracy_score(y_pred_r, y_test)\n",
        "                      \n",
        "print('f1-Score: '+ str(vmf1_r))\n",
        "print('accuracy: '+ str(vmacc_r))"
      ],
      "metadata": {
        "colab": {
          "base_uri": "https://localhost:8080/"
        },
        "id": "5SFLgVagLTHZ",
        "outputId": "257fb694-4807-40bc-9d9f-46c89b920b08"
      },
      "execution_count": 48,
      "outputs": [
        {
          "output_type": "stream",
          "name": "stdout",
          "text": [
            "f1-Score: 0.6125760649087221\n",
            "accuracy: 0.618\n"
          ]
        }
      ]
    },
    {
      "cell_type": "markdown",
      "metadata": {
        "id": "5hs8cRgEAiYz"
      },
      "source": [
        "### Punto 8 - Votación Ponderada\n",
        "En la celda 8 elabore un ensamble con la metodología de **Votación ponderada** compuesto por 300 muestras bagged para los mismos tres escenarios del punto 7. Evalúe los modelos utilizando las métricas de Accuracy y F1-Score"
      ]
    },
    {
      "cell_type": "code",
      "execution_count": 49,
      "metadata": {
        "id": "Js-bf2pAAiYz"
      },
      "outputs": [],
      "source": [
        "# Celda 8\n",
        "samples_oob = []\n",
        "# Obtención de las observaciones fuera de la bolsa \"out-of-bag\" para cada muestra\n",
        "for sample in samples:\n",
        "    samples_oob.append(sorted(set(range(n_samples)) - set(sample)))\n",
        "\n",
        "# Estimación de los errores OOB para cada clasificador\n",
        "errors = np.zeros(n_estimators)\n",
        "\n",
        "for i in range(n_estimators):\n",
        "    y_pred_ = trees[i].predict(X_train.iloc[samples_oob[i]])\n",
        "    errors[i] = 1 - metrics.accuracy_score(y_train.iloc[samples_oob[i]], y_pred_)"
      ]
    },
    {
      "cell_type": "code",
      "source": [
        "# Visualización de OOB para cada árbol\n",
        "%matplotlib inline\n",
        "import matplotlib.pyplot as plt\n",
        "plt.style.use('fivethirtyeight')\n",
        "\n",
        "plt.scatter(range(n_estimators), errors)\n",
        "plt.xlim([0, n_estimators])\n",
        "plt.title('OOB error of each tree')"
      ],
      "metadata": {
        "colab": {
          "base_uri": "https://localhost:8080/",
          "height": 496
        },
        "id": "UBHFzYvdE589",
        "outputId": "ec3e0b99-34f1-41da-cc5d-419042bc3be2"
      },
      "execution_count": 50,
      "outputs": [
        {
          "output_type": "execute_result",
          "data": {
            "text/plain": [
              "Text(0.5, 1.0, 'OOB error of each tree')"
            ]
          },
          "metadata": {},
          "execution_count": 50
        },
        {
          "output_type": "display_data",
          "data": {
            "text/plain": [
              "<Figure size 640x480 with 1 Axes>"
            ],
            "image/png": "[encoded data removed]"
          },
          "metadata": {}
        }
      ]
    },
    {
      "cell_type": "code",
      "source": [
        "# Obtención de los pesos alpha de cada modelo de acuerdo al error OOB\n",
        "alpha = (1 - errors) / (1 - errors).sum()"
      ],
      "metadata": {
        "id": "Q0HM9RkbE--P"
      },
      "execution_count": 51,
      "outputs": []
    },
    {
      "cell_type": "code",
      "source": [
        "# Ponderación de las predicciones con los pesos alpha\n",
        "weighted_sum_1 = ((y_pred_df) * alpha).sum(axis=1)\n",
        "weighted_sum_1.head(20)"
      ],
      "metadata": {
        "colab": {
          "base_uri": "https://localhost:8080/"
        },
        "id": "6VAR-E_FFBcb",
        "outputId": "0126e818-9779-4a92-b031-f52efa376b09"
      },
      "execution_count": 52,
      "outputs": [
        {
          "output_type": "execute_result",
          "data": {
            "text/plain": [
              "1483    0.892323\n",
              "2185    0.855757\n",
              "2520    0.768492\n",
              "3721    0.890961\n",
              "3727    0.082843\n",
              "4524    0.609491\n",
              "234     0.049816\n",
              "4735    0.176096\n",
              "5839    0.340335\n",
              "2939    0.642539\n",
              "3053    0.835483\n",
              "867     0.847309\n",
              "276     0.953874\n",
              "5798    0.036227\n",
              "3512    0.908706\n",
              "5789    0.059910\n",
              "3198    0.755884\n",
              "5908    0.956919\n",
              "5718    0.105532\n",
              "2687    0.105969\n",
              "dtype: float64"
            ]
          },
          "metadata": {},
          "execution_count": 52
        }
      ]
    },
    {
      "cell_type": "code",
      "source": [
        "# Desempeño al hacer votación ponderada\n",
        "y_pred = (weighted_sum_1 >= 0.5).astype(np.int)\n",
        "metrics.f1_score(y_pred, y_test), metrics.accuracy_score(y_pred, y_test)"
      ],
      "metadata": {
        "colab": {
          "base_uri": "https://localhost:8080/"
        },
        "id": "ALG04CeCFG97",
        "outputId": "f492b16c-d376-490b-90be-0f16e286b238"
      },
      "execution_count": 53,
      "outputs": [
        {
          "output_type": "execute_result",
          "data": {
            "text/plain": [
              "(0.6594301221166894, 0.6653333333333333)"
            ]
          },
          "metadata": {},
          "execution_count": 53
        }
      ]
    },
    {
      "cell_type": "code",
      "source": [
        "# Obtención de los pesos alpha de cada modelo de acuerdo al error OOB\n",
        "errors = np.zeros(clf.n_estimators)\n",
        "y_pred_all_ = np.zeros((X_test.shape[0], clf.n_estimators))\n",
        "\n",
        "for i in range(clf.n_estimators):\n",
        "    oob_sample = ~clf.estimators_samples_[i]\n",
        "    y_pred_ = clf.estimators_[i].predict(X_train.values[oob_sample])\n",
        "    errors[i] = metrics.accuracy_score(y_pred_, y_train.values[oob_sample])\n",
        "    y_pred_all_[:, i] = clf.estimators_[i].predict(X_test)\n",
        "    \n",
        "alpha = (1 - errors) / (1 - errors).sum()\n",
        "y_pred = (np.sum(y_pred_all_ * alpha, axis=1) >= 0.5).astype(np.int)"
      ],
      "metadata": {
        "id": "5Il3xal3REXF"
      },
      "execution_count": 54,
      "outputs": []
    },
    {
      "cell_type": "code",
      "source": [
        "metrics.f1_score(y_pred, y_test), metrics.accuracy_score(y_pred, y_test)"
      ],
      "metadata": {
        "colab": {
          "base_uri": "https://localhost:8080/"
        },
        "id": "pEf7_6CZRM_3",
        "outputId": "71df87db-c51f-44ea-d729-27f5157650a0"
      },
      "execution_count": 55,
      "outputs": [
        {
          "output_type": "execute_result",
          "data": {
            "text/plain": [
              "(0.6563758389261746, 0.6586666666666666)"
            ]
          },
          "metadata": {},
          "execution_count": 55
        }
      ]
    },
    {
      "cell_type": "code",
      "source": [
        "errors = np.zeros(clf_l.n_estimators)\n",
        "y_pred_all_l = np.zeros((X_test.shape[0], clf_l.n_estimators))\n",
        "\n",
        "for i in range(clf_l.n_estimators):\n",
        "    oob_sample = ~clf_l.estimators_samples_[i]\n",
        "    y_pred__l = clf_l.estimators_[i].predict(X_train.values[oob_sample])\n",
        "    errors[i] = metrics.accuracy_score(y_pred__l, y_train.values[oob_sample])\n",
        "    y_pred_all_l[:, i] = clf_l.estimators_[i].predict(X_test)\n",
        "    \n",
        "alpha = (1 - errors) / (1 - errors).sum()\n",
        "y_pred_l = (np.sum(y_pred_all_l * alpha, axis=1) >= 0.5).astype(np.int)"
      ],
      "metadata": {
        "id": "BnbXwwhsRdfd"
      },
      "execution_count": 57,
      "outputs": []
    },
    {
      "cell_type": "code",
      "source": [
        "metrics.f1_score(y_pred_l, y_test), metrics.accuracy_score(y_pred_l, y_test)"
      ],
      "metadata": {
        "colab": {
          "base_uri": "https://localhost:8080/"
        },
        "id": "ufjNvE98SNQ3",
        "outputId": "ab76189e-dbe5-4ef8-a1be-077eecd1f15d"
      },
      "execution_count": 58,
      "outputs": [
        {
          "output_type": "execute_result",
          "data": {
            "text/plain": [
              "(0.6495263870094723, 0.6546666666666666)"
            ]
          },
          "metadata": {},
          "execution_count": 58
        }
      ]
    },
    {
      "cell_type": "code",
      "source": [
        "errors = np.zeros(clf_r.n_estimators)\n",
        "y_pred_all_r = np.zeros((X_test.shape[0], clf_r.n_estimators))\n",
        "\n",
        "for i in range(clf_r.n_estimators):\n",
        "    oob_sample = ~clf_r.estimators_samples_[i]\n",
        "    y_pred__r = clf_r.estimators_[i].predict(X_train.values[oob_sample])\n",
        "    errors[i] = metrics.accuracy_score(y_pred__r, y_train.values[oob_sample])\n",
        "    y_pred_all_r[:, i] = clf_r.estimators_[i].predict(X_test)\n",
        "    \n",
        "alpha = (1 - errors) / (1 - errors).sum()\n",
        "y_pred_r = (np.sum(y_pred_all_r * alpha, axis=1) >= 0.5).astype(np.int)"
      ],
      "metadata": {
        "id": "mkaV_1VfSV-p"
      },
      "execution_count": 59,
      "outputs": []
    },
    {
      "cell_type": "code",
      "source": [
        "metrics.f1_score(y_pred_r, y_test), metrics.accuracy_score(y_pred_r, y_test)"
      ],
      "metadata": {
        "colab": {
          "base_uri": "https://localhost:8080/"
        },
        "id": "wwaCldmeSui6",
        "outputId": "6cbfb0b3-ac38-418e-f22c-e8920a6d1b48"
      },
      "execution_count": 60,
      "outputs": [
        {
          "output_type": "execute_result",
          "data": {
            "text/plain": [
              "(0.6129905277401894, 0.6186666666666667)"
            ]
          },
          "metadata": {},
          "execution_count": 60
        }
      ]
    },
    {
      "cell_type": "markdown",
      "metadata": {
        "id": "3hKvLWOrAiYz"
      },
      "source": [
        "### Punto 9 - Comparación y análisis de resultados\n",
        "En la celda 9 comente sobre los resultados obtenidos con las metodologías usadas en los puntos 7 y 8, compare los resultados y enuncie posibles ventajas o desventajas de cada una de ellas."
      ]
    },
    {
      "cell_type": "code",
      "execution_count": null,
      "metadata": {
        "id": "z9u7gBOmAiYz"
      },
      "outputs": [],
      "source": [
        "# Celda 9"
      ]
    },
    {
      "cell_type": "markdown",
      "source": [
        "\n",
        "En General los resultados tanto de F1 Score como de accuracy obtenidos para el punto ocho son mejores comparados con los que resltaron de los calculos en el siete, es posble que computacionalmente la votacion ponderada consuma mas recursos, finalmente algo que se presenta comun en tanto en la ponderada como en la mayoritaria, con respecto a los calculos con el estimador de regrecion logistica son peores comparadas con los de arboles de decision."
      ],
      "metadata": {
        "id": "8ImD1mOTTHn4"
      }
    }
  ],
  "metadata": {
    "kernelspec": {
      "display_name": "Python 3 (ipykernel)",
      "language": "python",
      "name": "python3"
    },
    "language_info": {
      "codemirror_mode": {
        "name": "ipython",
        "version": 3
      },
      "file_extension": ".py",
      "mimetype": "text/x-python",
      "name": "python",
      "nbconvert_exporter": "python",
      "pygments_lexer": "ipython3",
      "version": "3.9.12"
    },
    "colab": {
      "provenance": []
    }
  },
  "nbformat": 4,
  "nbformat_minor": 0
}