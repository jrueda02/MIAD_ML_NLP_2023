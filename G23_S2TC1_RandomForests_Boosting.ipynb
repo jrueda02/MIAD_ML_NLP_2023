{
  "cells": [
    {
      "cell_type": "markdown",
      "metadata": {
        "id": "WeFghIeUlDQD"
      },
      "source": [
        "![image info](https://raw.githubusercontent.com/albahnsen/MIAD_ML_and_NLP/main/images/banner_1.png)"
      ]
    },
    {
      "cell_type": "markdown",
      "metadata": {
        "id": "_v3RGh2MlDQE"
      },
      "source": [
        "# Taller: Construcción e implementación de modelos Bagging, Random Forest y XGBoost\n",
        "\n",
        "En este taller podrán poner en práctica sus conocimientos sobre la construcción e implementación de modelos de Bagging, Random Forest y XGBoost. El taller está constituido por 8 puntos, en los cuales deberan seguir las intrucciones de cada numeral para su desarrollo."
      ]
    },
    {
      "cell_type": "markdown",
      "metadata": {
        "id": "qUBu6U_UlDQF"
      },
      "source": [
        "## Datos predicción precio de automóviles\n",
        "\n",
        "En este taller se usará el conjunto de datos de Car Listings de Kaggle donde cada observación representa el precio de un automóvil teniendo en cuenta distintas variables como año, marca, modelo, entre otras. El objetivo es predecir el precio del automóvil. Para más detalles puede visitar el siguiente enlace: [datos](https://www.kaggle.com/jpayne/852k-used-car-listings)."
      ]
    },
    {
      "cell_type": "markdown",
      "source": [
        "# Grupo 23 | Taller: Construcción e implementación de modelos Bagging, Random Forest y XGBoost\n",
        "\n",
        "**Integrantes:**\n",
        "- Laura Camila Peralta Rivera\n",
        "- Juan David Roldán Ruíz\n",
        "- Jairo Rueda\n",
        "- Diego Andrés García Montaño"
      ],
      "metadata": {
        "id": "IC3EG1cQkTyb"
      }
    },
    {
      "cell_type": "code",
      "execution_count": 38,
      "metadata": {
        "id": "PhbVoXnDlDQF"
      },
      "outputs": [],
      "source": [
        "import warnings\n",
        "warnings.filterwarnings('ignore')"
      ]
    },
    {
      "cell_type": "code",
      "execution_count": 67,
      "metadata": {
        "id": "EA1OtYbSlDQF",
        "outputId": "835c9783-c89f-48ea-ec57-5aee175c568a",
        "colab": {
          "base_uri": "https://localhost:8080/",
          "height": 206
        }
      },
      "outputs": [
        {
          "output_type": "execute_result",
          "data": {
            "text/plain": [
              "     Price  Year  Mileage  M_Camry  M_Camry4dr  M_CamryBase  M_CamryL  \\\n",
              "7    21995  2014     6480        0           0            0         1   \n",
              "11   13995  2014    39972        0           0            0         0   \n",
              "167  17941  2016    18989        0           0            0         0   \n",
              "225  12493  2014    51330        0           0            0         1   \n",
              "270   7994  2007   116065        0           1            0         0   \n",
              "\n",
              "     M_CamryLE  M_CamrySE  M_CamryXLE  \n",
              "7            0          0           0  \n",
              "11           1          0           0  \n",
              "167          0          1           0  \n",
              "225          0          0           0  \n",
              "270          0          0           0  "
            ],
            "text/html": [
              "\n",
              "  <div id=\"df-2d9d030a-8dd1-41c9-98f1-55d759e6ec8d\">\n",
              "    <div class=\"colab-df-container\">\n",
              "      <div>\n",
              "<style scoped>\n",
              "    .dataframe tbody tr th:only-of-type {\n",
              "        vertical-align: middle;\n",
              "    }\n",
              "\n",
              "    .dataframe tbody tr th {\n",
              "        vertical-align: top;\n",
              "    }\n",
              "\n",
              "    .dataframe thead th {\n",
              "        text-align: right;\n",
              "    }\n",
              "</style>\n",
              "<table border=\"1\" class=\"dataframe\">\n",
              "  <thead>\n",
              "    <tr style=\"text-align: right;\">\n",
              "      <th></th>\n",
              "      <th>Price</th>\n",
              "      <th>Year</th>\n",
              "      <th>Mileage</th>\n",
              "      <th>M_Camry</th>\n",
              "      <th>M_Camry4dr</th>\n",
              "      <th>M_CamryBase</th>\n",
              "      <th>M_CamryL</th>\n",
              "      <th>M_CamryLE</th>\n",
              "      <th>M_CamrySE</th>\n",
              "      <th>M_CamryXLE</th>\n",
              "    </tr>\n",
              "  </thead>\n",
              "  <tbody>\n",
              "    <tr>\n",
              "      <th>7</th>\n",
              "      <td>21995</td>\n",
              "      <td>2014</td>\n",
              "      <td>6480</td>\n",
              "      <td>0</td>\n",
              "      <td>0</td>\n",
              "      <td>0</td>\n",
              "      <td>1</td>\n",
              "      <td>0</td>\n",
              "      <td>0</td>\n",
              "      <td>0</td>\n",
              "    </tr>\n",
              "    <tr>\n",
              "      <th>11</th>\n",
              "      <td>13995</td>\n",
              "      <td>2014</td>\n",
              "      <td>39972</td>\n",
              "      <td>0</td>\n",
              "      <td>0</td>\n",
              "      <td>0</td>\n",
              "      <td>0</td>\n",
              "      <td>1</td>\n",
              "      <td>0</td>\n",
              "      <td>0</td>\n",
              "    </tr>\n",
              "    <tr>\n",
              "      <th>167</th>\n",
              "      <td>17941</td>\n",
              "      <td>2016</td>\n",
              "      <td>18989</td>\n",
              "      <td>0</td>\n",
              "      <td>0</td>\n",
              "      <td>0</td>\n",
              "      <td>0</td>\n",
              "      <td>0</td>\n",
              "      <td>1</td>\n",
              "      <td>0</td>\n",
              "    </tr>\n",
              "    <tr>\n",
              "      <th>225</th>\n",
              "      <td>12493</td>\n",
              "      <td>2014</td>\n",
              "      <td>51330</td>\n",
              "      <td>0</td>\n",
              "      <td>0</td>\n",
              "      <td>0</td>\n",
              "      <td>1</td>\n",
              "      <td>0</td>\n",
              "      <td>0</td>\n",
              "      <td>0</td>\n",
              "    </tr>\n",
              "    <tr>\n",
              "      <th>270</th>\n",
              "      <td>7994</td>\n",
              "      <td>2007</td>\n",
              "      <td>116065</td>\n",
              "      <td>0</td>\n",
              "      <td>1</td>\n",
              "      <td>0</td>\n",
              "      <td>0</td>\n",
              "      <td>0</td>\n",
              "      <td>0</td>\n",
              "      <td>0</td>\n",
              "    </tr>\n",
              "  </tbody>\n",
              "</table>\n",
              "</div>\n",
              "      <button class=\"colab-df-convert\" onclick=\"convertToInteractive('df-2d9d030a-8dd1-41c9-98f1-55d759e6ec8d')\"\n",
              "              title=\"Convert this dataframe to an interactive table.\"\n",
              "              style=\"display:none;\">\n",
              "        \n",
              "  <svg xmlns=\"http://www.w3.org/2000/svg\" height=\"24px\"viewBox=\"0 0 24 24\"\n",
              "       width=\"24px\">\n",
              "    <path d=\"M0 0h24v24H0V0z\" fill=\"none\"/>\n",
              "    <path d=\"M18.56 5.44l.94 2.06.94-2.06 2.06-.94-2.06-.94-.94-2.06-.94 2.06-2.06.94zm-11 1L8.5 8.5l.94-2.06 2.06-.94-2.06-.94L8.5 2.5l-.94 2.06-2.06.94zm10 10l.94 2.06.94-2.06 2.06-.94-2.06-.94-.94-2.06-.94 2.06-2.06.94z\"/><path d=\"M17.41 7.96l-1.37-1.37c-.4-.4-.92-.59-1.43-.59-.52 0-1.04.2-1.43.59L10.3 9.45l-7.72 7.72c-.78.78-.78 2.05 0 2.83L4 21.41c.39.39.9.59 1.41.59.51 0 1.02-.2 1.41-.59l7.78-7.78 2.81-2.81c.8-.78.8-2.07 0-2.86zM5.41 20L4 18.59l7.72-7.72 1.47 1.35L5.41 20z\"/>\n",
              "  </svg>\n",
              "      </button>\n",
              "      \n",
              "  <style>\n",
              "    .colab-df-container {\n",
              "      display:flex;\n",
              "      flex-wrap:wrap;\n",
              "      gap: 12px;\n",
              "    }\n",
              "\n",
              "    .colab-df-convert {\n",
              "      background-color: #E8F0FE;\n",
              "      border: none;\n",
              "      border-radius: 50%;\n",
              "      cursor: pointer;\n",
              "      display: none;\n",
              "      fill: #1967D2;\n",
              "      height: 32px;\n",
              "      padding: 0 0 0 0;\n",
              "      width: 32px;\n",
              "    }\n",
              "\n",
              "    .colab-df-convert:hover {\n",
              "      background-color: #E2EBFA;\n",
              "      box-shadow: 0px 1px 2px rgba(60, 64, 67, 0.3), 0px 1px 3px 1px rgba(60, 64, 67, 0.15);\n",
              "      fill: #174EA6;\n",
              "    }\n",
              "\n",
              "    [theme=dark] .colab-df-convert {\n",
              "      background-color: #3B4455;\n",
              "      fill: #D2E3FC;\n",
              "    }\n",
              "\n",
              "    [theme=dark] .colab-df-convert:hover {\n",
              "      background-color: #434B5C;\n",
              "      box-shadow: 0px 1px 3px 1px rgba(0, 0, 0, 0.15);\n",
              "      filter: drop-shadow(0px 1px 2px rgba(0, 0, 0, 0.3));\n",
              "      fill: #FFFFFF;\n",
              "    }\n",
              "  </style>\n",
              "\n",
              "      <script>\n",
              "        const buttonEl =\n",
              "          document.querySelector('#df-2d9d030a-8dd1-41c9-98f1-55d759e6ec8d button.colab-df-convert');\n",
              "        buttonEl.style.display =\n",
              "          google.colab.kernel.accessAllowed ? 'block' : 'none';\n",
              "\n",
              "        async function convertToInteractive(key) {\n",
              "          const element = document.querySelector('#df-2d9d030a-8dd1-41c9-98f1-55d759e6ec8d');\n",
              "          const dataTable =\n",
              "            await google.colab.kernel.invokeFunction('convertToInteractive',\n",
              "                                                     [key], {});\n",
              "          if (!dataTable) return;\n",
              "\n",
              "          const docLinkHtml = 'Like what you see? Visit the ' +\n",
              "            '<a target=\"_blank\" href=https://colab.research.google.com/notebooks/data_table.ipynb>data table notebook</a>'\n",
              "            + ' to learn more about interactive tables.';\n",
              "          element.innerHTML = '';\n",
              "          dataTable['output_type'] = 'display_data';\n",
              "          await google.colab.output.renderOutput(dataTable, element);\n",
              "          const docLink = document.createElement('div');\n",
              "          docLink.innerHTML = docLinkHtml;\n",
              "          element.appendChild(docLink);\n",
              "        }\n",
              "      </script>\n",
              "    </div>\n",
              "  </div>\n",
              "  "
            ]
          },
          "metadata": {},
          "execution_count": 67
        }
      ],
      "source": [
        "# Importación de librerías\n",
        "%matplotlib inline\n",
        "import pandas as pd\n",
        "\n",
        "# Lectura de la información de archivo .csv\n",
        "data = pd.read_csv('https://raw.githubusercontent.com/albahnsen/MIAD_ML_and_NLP/main/datasets/dataTrain_carListings.zip')\n",
        "\n",
        "# Preprocesamiento de datos para el taller\n",
        "data = data.loc[data['Model'].str.contains('Camry')].drop(['Make', 'State'], axis=1)\n",
        "data = data.join(pd.get_dummies(data['Model'], prefix='M'))\n",
        "data = data.drop(['Model'], axis=1)\n",
        "\n",
        "# Visualización dataset\n",
        "data.head()"
      ]
    },
    {
      "cell_type": "code",
      "execution_count": 68,
      "metadata": {
        "id": "5N9jWfjGlDQG"
      },
      "outputs": [],
      "source": [
        "# Separación de variables predictoras (X) y variable de interés (y)\n",
        "y = data['Price']\n",
        "X = data.drop(['Price'], axis=1)"
      ]
    },
    {
      "cell_type": "code",
      "execution_count": 78,
      "metadata": {
        "id": "-eclVnzOlDQG"
      },
      "outputs": [],
      "source": [
        "# Separación de datos en set de entrenamiento y test\n",
        "from sklearn.model_selection import train_test_split\n",
        "X_train, X_test, y_train, y_test = train_test_split(X, y, test_size=0.33, random_state=42)"
      ]
    },
    {
      "cell_type": "markdown",
      "metadata": {
        "id": "03IezzAclDQH"
      },
      "source": [
        "### Punto 1 - Árbol de decisión manual\n",
        "\n",
        "En la celda 1 creen un árbol de decisión **manualmente**  que considere los set de entrenamiento y test definidos anteriormente y presenten el RMSE y MAE del modelo en el set de test."
      ]
    },
    {
      "cell_type": "code",
      "execution_count": null,
      "metadata": {
        "id": "dUCevq9HlDQH"
      },
      "outputs": [],
      "source": [
        "# Celda 1\n",
        "\n",
        "from sklearn.tree import DecisionTreeClassifier\n",
        "from sklearn import metrics\n",
        "from xgboost import XGBRegressor\n",
        "import matplotlib.pyplot as plt\n",
        "from sklearn.metrics import mean_absolute_error\n",
        "from sklearn.metrics import mean_squared_error\n",
        "from sklearn.metrics import r2_score\n",
        "from sklearn.metrics import mean_absolute_percentage_error\n",
        "import numpy as np\n",
        "from sklearn.model_selection import GridSearchCV\n",
        "import matplotlib.pyplot as plt\n",
        "from math import sqrt\n",
        "\n"
      ]
    },
    {
      "cell_type": "code",
      "source": [
        "from sklearn.model_selection import train_test_split\n",
        "X_train, X_test, y_train, y_test = train_test_split(X, y, test_size=0.33, random_state=42)\n",
        "\n",
        "# Definición de la función que calcula el gini index\n",
        "def gini(y):\n",
        "    if y.shape[0] == 0:\n",
        "        return 0\n",
        "    else:\n",
        "        return 1 - (y.mean()*2 + (1 - y.mean())*2)\n",
        "\n",
        "# Definición de la función gini_imputiry para calular la ganancia de una variable predictora j dado el punto de corte k\n",
        "def gini_impurity(X_col, y, split):\n",
        "    filter_l = X_col < split\n",
        "    y_l = y.loc[filter_l]\n",
        "    y_r = y.loc[~filter_l]\n",
        "    n_l = y_l.shape[0]\n",
        "    n_r = y_r.shape[0]\n",
        "    gini_y = gini(y)\n",
        "    gini_l = gini(y_l)\n",
        "    gini_r = gini(y_r)\n",
        "    gini_impurity_ = gini_y - (n_l / (n_l + n_r) * gini_l + n_r / (n_l + n_r) * gini_r)\n",
        "    return gini_impurity_\n",
        "\n",
        "# Definición de la función best_split para calcular cuál es la mejor variable y punto de cortepara hacer la bifurcación del árbol\n",
        "def best_split(X, y, num_pct=10):\n",
        "    features = range(X.shape[1])   \n",
        "    best_split = [0, 0, 0]  # j, split, gain\n",
        "    # Para todas las varibles \n",
        "    for j in features:\n",
        "        splits = np.percentile(X.iloc[:, j], np.arange(0, 100, 100.0 / (num_pct+1)).tolist())\n",
        "        splits = np.unique(splits)[1:]\n",
        "        # Para cada partición\n",
        "        for split in splits:\n",
        "            gain = gini_impurity(X.iloc[:, j], y, split)           \n",
        "            if gain > best_split[2]:\n",
        "                best_split = [j, split, gain]\n",
        "    return best_split\n",
        "\n",
        "# Definición de la función tree_grow para hacer un crecimiento recursivo del árbol\n",
        "def tree_grow(X, y, level=0, min_gain=0.001, max_depth=None, num_pct=10):\n",
        "    # Si solo es una observación\n",
        "    if X.shape[0] == 1:\n",
        "        tree = dict(y_pred=y.iloc[:1].values[0], y_prob=0.5, level=level, split=-1, n_samples=1, gain=0)\n",
        "        return tree\n",
        "    # Calcular la mejor división\n",
        "    j, split, gain = best_split(X, y, num_pct)\n",
        "    # Guardar el árbol y estimar la predicción\n",
        "    y_pred = int(y.mean() >= 0.5) \n",
        "    y_prob = (y.sum() + 1.0) / (y.shape[0] + 2.0)  # Corrección Laplace \n",
        "    tree = dict(y_pred=y_pred, y_prob=y_prob, level=level, split=-1, n_samples=X.shape[0], gain=gain)\n",
        "    # Revisar el criterio de parada \n",
        "    if gain < min_gain:\n",
        "        return tree\n",
        "    if max_depth is not None:\n",
        "        if level >= max_depth:\n",
        "            return tree \n",
        "    # Verificar si los nodos hijos no son nulos\n",
        "    if 'sl' in tree and 'sr' in tree:\n",
        "        if tree['sl'] is not None and tree['sr'] is not None:\n",
        "            if tree['sl']['n_samples'] + tree['sr']['n_samples'] < 6:  # Verificar el número mínimo de nodos finales\n",
        "                return tree\n",
        "    # Continuar creando la partición\n",
        "    filter_l = X.iloc[:, j] < split\n",
        "    X_l, y_l = X.loc[filter_l], y.loc[filter_l]\n",
        "    X_r, y_r = X.loc[~filter_l], y.loc[~filter_l]\n",
        "    tree['split'] = [j, split]\n",
        "    # Siguiente iteración para cada partición\n",
        "    tree['sl'] = tree_grow(X_l, y_l, level + 1, min_gain=min_gain, max_depth=max_depth, num_pct=num_pct)\n",
        "    tree['sr'] = tree_grow(X_r, y_r, level + 1, min_gain=min_gain, max_depth=max_depth, num_pct=num_pct)\n",
        "    return tree\n",
        "\n",
        "# Definición de la función tree_predict para hacer predicciones según las variables 'X' y el árbol 'tree'\n",
        "def tree_predict(X, tree, proba=False):\n",
        "    predicted = np.ones(X.shape[0])\n",
        "    # Revisar si es el nodo final\n",
        "    if tree['split'] == -1:\n",
        "        if not proba:\n",
        "            predicted = predicted * tree['y_pred']\n",
        "        else:\n",
        "            predicted = predicted * tree['y_prob']    \n",
        "    else:\n",
        "        j, split = tree['split']\n",
        "        filter_l = (X.iloc[:, j] < split)\n",
        "        X_l = X.loc[filter_l]\n",
        "        X_r = X.loc[~filter_l]\n",
        "        if X_l.shape[0] == 0:  # Si el nodo izquierdo está vacio solo continua con el derecho \n",
        "            predicted[~filter_l] = tree_predict(X_r, tree['sr'], proba)\n",
        "        elif X_r.shape[0] == 0:  #  Si el nodo derecho está vacio solo continua con el izquierdo\n",
        "            predicted[filter_l] = tree_predict(X_l, tree['sl'], proba)\n",
        "        else:\n",
        "            predicted[filter_l] = tree_predict(X_l, tree['sl'], proba)\n",
        "            predicted[~filter_l] = tree_predict(X_r, tree['sr'], proba)\n",
        "    return predicted\n",
        "# Obtención de la variable 'j', su punto de corte 'split' y su ganancia 'gain'\n",
        "j, split, gain = best_split(X_train, y_train, 5)\n",
        "\n",
        "# Aplicación de la función tree_grow\n",
        "tree = tree_grow(X_train, y_train, level=0, min_gain=0.001, max_depth=6, num_pct=10)\n",
        "\n",
        "# Ejecución de función tree_predict\n",
        "tree_predict(X_test, tree)"
      ],
      "metadata": {
        "colab": {
          "base_uri": "https://localhost:8080/"
        },
        "id": "WWzzaezFdYNJ",
        "outputId": "80f3bd16-acaa-472d-b277-a575db8de816"
      },
      "execution_count": 79,
      "outputs": [
        {
          "output_type": "execute_result",
          "data": {
            "text/plain": [
              "array([1., 1., 1., ..., 1., 1., 1.])"
            ]
          },
          "metadata": {},
          "execution_count": 79
        }
      ]
    },
    {
      "cell_type": "code",
      "source": [
        "mse = mean_squared_error(y_test,tree_predict(X_test, tree))\n",
        "print(\"RMSE del Arbol calculado Manualmente es: \",sqrt(mse))\n",
        "\n",
        "mae = mean_absolute_error(y_test,tree_predict(X_test, tree))\n",
        "\n",
        "print(\"Mean Absolute error del Arbol calculado Manualmente es: \",  mae)"
      ],
      "metadata": {
        "colab": {
          "base_uri": "https://localhost:8080/"
        },
        "id": "kQfM5-yLfOs6",
        "outputId": "49be789d-a819-4cc4-876a-23dc72a0d2e8"
      },
      "execution_count": 85,
      "outputs": [
        {
          "output_type": "stream",
          "name": "stdout",
          "text": [
            "RMSE del Arbol calculado Manualmente es:  15113.767253661932\n",
            "Mean Absolute error del Arbol calculado Manualmente es:  14598.966224018475\n"
          ]
        }
      ]
    },
    {
      "cell_type": "markdown",
      "metadata": {
        "id": "HJQOxzw0lDQH"
      },
      "source": [
        "### Punto 2 - Bagging manual\n",
        "\n",
        "En la celda 2 creen un modelo bagging **manualmente** con 10 árboles de regresión y comenten sobre el desempeño del modelo."
      ]
    },
    {
      "cell_type": "code",
      "execution_count": 56,
      "metadata": {
        "id": "bxDX7N63lDQH",
        "colab": {
          "base_uri": "https://localhost:8080/"
        },
        "outputId": "fd6dbb86-6286-4d83-df5a-050630228f18"
      },
      "outputs": [
        {
          "output_type": "stream",
          "name": "stdout",
          "text": [
            "Árbol  0 tiene un error:  2141.613353645869\n",
            "Árbol  1 tiene un error:  2094.921651442501\n",
            "Árbol  2 tiene un error:  2143.588943820465\n",
            "Árbol  3 tiene un error:  2091.5765590558344\n",
            "Árbol  4 tiene un error:  2101.269034680839\n",
            "Árbol  5 tiene un error:  2166.1579741770674\n",
            "Árbol  6 tiene un error:  2167.965320861841\n",
            "Árbol  7 tiene un error:  2160.523932246401\n",
            "Árbol  8 tiene un error:  2160.7735197631982\n",
            "Árbol  9 tiene un error:  2133.42356958019\n",
            "Error al promediar las predicciones  1862.899085321319\n"
          ]
        }
      ],
      "source": [
        "# Celda 2\n",
        "\n",
        "# Se crea un arreglo de 1 a 20\n",
        "np.random.seed(1)\n",
        "\n",
        "# Impresión de arreglo y muestreo aleatorio\n",
        "nums = np.arange(1, 21)\n",
        "\n",
        "# Creación de 10 muestras de bootstrap \n",
        "np.random.seed(123)\n",
        "n_samples = X_train.shape[0]\n",
        "n_B = 10\n",
        "samples = [np.random.choice(a=n_samples, size=n_samples, replace=True) for _ in range(1, n_B +1 )]\n",
        "\n",
        "# Construcción un árbol de decisión para cada muestra boostrap\n",
        "from sklearn.tree import DecisionTreeRegressor\n",
        "\n",
        "# Definición del modelo usando DecisionTreeRegressor de sklearn\n",
        "treereg = DecisionTreeRegressor(max_depth=None, random_state=123)\n",
        "\n",
        "# DataFrame para guardar las predicciones de cada árbol\n",
        "y_pred = pd.DataFrame(index=y_test.index, columns=[list(range(n_B))])\n",
        "\n",
        "# Entrenamiento de un árbol sobre cada muestra boostrap y predicción sobre los datos de test\n",
        "for i, sample in enumerate(samples):\n",
        "    X_train = X_train.iloc[sample, :]\n",
        "    y_train = y_train.iloc[sample]\n",
        "    treereg.fit(X_train, y_train)\n",
        "    y_pred.iloc[:,i] = treereg.predict(X_test)\n",
        "\n",
        "# Desempeño de cada árbol\n",
        "for i in range(n_B):\n",
        "    print('Árbol ', i, 'tiene un error: ', np.sqrt(mean_squared_error(y_pred.iloc[:,i], y_test)))\n",
        "\n",
        "# Error al promediar las predicciones de todos los árboles\n",
        "print(\"Error al promediar las predicciones \",np.sqrt(mean_squared_error(y_test, y_pred.mean(axis=1))))\n"
      ]
    },
    {
      "cell_type": "markdown",
      "source": [
        "Inicialmente, se crea un arreglo de 1 a 20, para luego crear las 10 muestras de bootstrap. Así mismo, se construyen y entrenan 10 árboles con las 10 muestras, y se generan las predicciones sobre los datos de test. Finalmente, se evalúa el desempeño de cada árbol mediante la métrica MSE y se compara con el MSE promedio de las predicciones de todos los árboles.\n",
        "\n",
        "Se observa que el error MSE del ensamblaje de árboles es menor al error de cada árbol individualmente. De forma que se concluye que el ensamblaje bagging presenta mejor desempeño, que los modelos de árbol de decisión por separado."
      ],
      "metadata": {
        "id": "m53s4OOfuNDU"
      }
    },
    {
      "cell_type": "markdown",
      "source": [],
      "metadata": {
        "id": "WWg6_uzMsF1o"
      }
    },
    {
      "cell_type": "markdown",
      "metadata": {
        "id": "CuR63WJilDQI"
      },
      "source": [
        "### Punto 3 - Bagging con librería\n",
        "\n",
        "En la celda 3, con la librería sklearn, entrenen un modelo bagging con 10 árboles de regresión y el parámetro `max_features` igual a `log(n_features)` y comenten sobre el desempeño del modelo."
      ]
    },
    {
      "cell_type": "code",
      "execution_count": 57,
      "metadata": {
        "id": "qIJkjbYblDQI",
        "colab": {
          "base_uri": "https://localhost:8080/"
        },
        "outputId": "39698d22-2b79-449a-9adc-bdd64dadaa96"
      },
      "outputs": [
        {
          "output_type": "stream",
          "name": "stdout",
          "text": [
            "MSE  1995.7859168983287\n"
          ]
        }
      ],
      "source": [
        "# Celda 3\n",
        "\n",
        "from sklearn.ensemble import BaggingRegressor\n",
        "\n",
        "n_features = X_train.shape[1]\n",
        "max_features = int(np.log(n_features))\n",
        "\n",
        "bagreg = BaggingRegressor(base_estimator=DecisionTreeRegressor(max_features=max_features), n_estimators=10, \n",
        "                          bootstrap=True, oob_score=True, random_state=1)\n",
        "\n",
        "# Entrenemiento del modelo con set de entrenamiento y predicción en el set de test\n",
        "bagreg.fit(X_train, y_train)\n",
        "y_pred = bagreg.predict(X_test)\n",
        "\n",
        "# Cálculo del error del modelo\n",
        "print(\"MSE \",np.sqrt(mean_squared_error(y_test, y_pred)))"
      ]
    },
    {
      "cell_type": "markdown",
      "source": [
        "Al entrenar el modelo bagging haciendo uso de BaggingRegressor de la librería sklearn, donde se usa el modelo DecisionTreeRegressor como estimador, y el parámetro max_features es igual a log(n_features), se obtiene un error MSE de 5520.23, que comparado con el desempeño del modelo bagging manual implementado en el punto anterior, se observa que desempeño inferior en el modelo de la librería, pues el error es más grande."
      ],
      "metadata": {
        "id": "oUSb7v8lwTRN"
      }
    },
    {
      "cell_type": "markdown",
      "metadata": {
        "id": "vosa0ZEhlDQI"
      },
      "source": [
        "### Punto 4 - Random forest con librería\n",
        "\n",
        "En la celda 4, usando la librería sklearn entrenen un modelo de Randon Forest para regresión  y comenten sobre el desempeño del modelo."
      ]
    },
    {
      "cell_type": "code",
      "execution_count": 61,
      "metadata": {
        "id": "Sb-tlBZ9lDQI",
        "colab": {
          "base_uri": "https://localhost:8080/"
        },
        "outputId": "e854d019-0e6f-4844-8fa5-7037548be2ce"
      },
      "outputs": [
        {
          "output_type": "execute_result",
          "data": {
            "text/plain": [
              "count    10.000000\n",
              "mean      0.802140\n",
              "std       0.023024\n",
              "min       0.765399\n",
              "25%       0.789557\n",
              "50%       0.801292\n",
              "75%       0.822393\n",
              "max       0.830908\n",
              "dtype: float64"
            ]
          },
          "metadata": {},
          "execution_count": 61
        }
      ],
      "source": [
        "# Celda 4 - Diego\n",
        "\n",
        "#Librerías\n",
        "#X_train, X_test, y_train, y_test\n",
        "\n",
        "from sklearn.ensemble import RandomForestRegressor\n",
        "from sklearn.model_selection import cross_val_score\n",
        "\n",
        "# Definición de modelo Random Forest para un problema de Regresión\n",
        "rfr = RandomForestRegressor(random_state=1)\n",
        "\n",
        "# Evaluamos el modelo utilizando la validación cruzada con 10 folds y el conjunto de datos completo\n",
        "pd.Series(cross_val_score(rfr, X_train, y_train, cv=10)).describe()"
      ]
    },
    {
      "cell_type": "code",
      "source": [
        "rfr.fit(X_train, y_train)\n",
        "y_pred = rfr.predict(X_test)\n",
        "\n",
        "mse_m1 = mean_squared_error(y_test, y_pred)\n",
        "r2_m1 = r2_score(y_test, y_pred)\n",
        "\n",
        "print(\"MSE:\", mse_m1)\n",
        "print(\"R2:\", r2_m1)"
      ],
      "metadata": {
        "colab": {
          "base_uri": "https://localhost:8080/"
        },
        "id": "SUAJ5iRmuuX5",
        "outputId": "9797eac6-04ea-4fa2-88a4-8a201f7e3e81"
      },
      "execution_count": 62,
      "outputs": [
        {
          "output_type": "stream",
          "name": "stdout",
          "text": [
            "MSE: 3083089.1739264703\n",
            "R2: 0.79844012886049\n"
          ]
        }
      ]
    },
    {
      "cell_type": "markdown",
      "source": [
        "La evaluación del modelo de RandomForestRegressor a través de la validación cruzada de 10 folds ha dado una puntuación media de 0.801924 y una desviación estándar de 0.022742.\n",
        "\n",
        "El valor máximo de la puntuación obtenida es de 0.831345 y el valor mínimo es de 0.765083. Los cuartiles muestran que el 25% de los puntajes se encuentran en el rango entre 0.765083 y  0.789707, mientras que el 50% de los puntajes están en el rango entre  0.789707 y 0.801237 y el 75% de los puntajes se encuentran en el rango entre 0.801237 y 0.821432.\n",
        "\n",
        "En general, se puede concluir que el modelotiene un desempeño bastante bueno, ya que la puntuación media es alta y la desviación estándar es relativamente baja. Además, la diferencia entre la puntuación máxima y mínima no es demasiado grande, lo que indica que el modelo tiene una consistencia razonable en su rendimiento."
      ],
      "metadata": {
        "id": "XNdQgMnjQsGS"
      }
    },
    {
      "cell_type": "markdown",
      "metadata": {
        "id": "Ha2ARCTPlDQI"
      },
      "source": [
        "### Punto 5 - Calibración de parámetros Random forest\n",
        "\n",
        "En la celda 5, calibren los parámetros max_depth, max_features y n_estimators del modelo de Randon Forest para regresión, comenten sobre el desempeño del modelo y describan cómo cada parámetro afecta el desempeño del modelo."
      ]
    },
    {
      "cell_type": "markdown",
      "source": [
        "####Calibración de n_estimators"
      ],
      "metadata": {
        "id": "ZhcxyuAGR-dM"
      }
    },
    {
      "cell_type": "code",
      "execution_count": 63,
      "metadata": {
        "id": "km98dI5VlDQI",
        "colab": {
          "base_uri": "https://localhost:8080/",
          "height": 517
        },
        "outputId": "4639bece-6b22-4c4e-94d3-58f9e55fe25e"
      },
      "outputs": [
        {
          "output_type": "stream",
          "name": "stdout",
          "text": [
            "El mejor valor de n_estimators es: 120\n",
            "MSE en conjunto de prueba con mejor valor de n_estimators:  3081308.333607352\n",
            "r2 en conjunto de prueba con mejor valor de n_estimators:  0.7985565529809069\n"
          ]
        },
        {
          "output_type": "display_data",
          "data": {
            "text/plain": [
              "<Figure size 640x480 with 1 Axes>"
            ],
            "image/png": "[encoded data removed]"
          },
          "metadata": {}
        }
      ],
      "source": [
        "# Creación de lista de valores para iterar sobre diferentes valores de n_estimators\n",
        "estimator_range = range(10, 310, 10)\n",
        "\n",
        "# Definición de lista para almacenar la exactitud (accuracy) promedio para cada valor de n_estimators\n",
        "mse_scores = []\n",
        "\n",
        "# Uso de un 5-fold cross-validation para cada valor de n_estimators\n",
        "for estimator in estimator_range:\n",
        "    rfr = RandomForestRegressor(n_estimators=estimator, random_state=1, n_jobs=-1)\n",
        "    rfr.fit(X_train, y_train)\n",
        "    y_pred = rfr.predict(X_test)\n",
        "    mse_scores.append(mean_squared_error(y_test, y_pred))\n",
        "\n",
        "# Gráfica del desempeño del modelo vs la cantidad de n_estimators\n",
        "plt.plot(estimator_range, mse_scores)\n",
        "plt.xlabel('n_estimators')\n",
        "plt.ylabel('MSE')\n",
        "\n",
        "# Seleccionar el mejor valor de n_estimators\n",
        "best_n_estimators = estimator_range[np.argmin(mse_scores)]\n",
        "print(\"El mejor valor de n_estimators es:\", best_n_estimators)\n",
        "\n",
        "\n",
        "rfr = RandomForestRegressor(n_estimators=best_n_estimators, random_state=1, n_jobs=-1)\n",
        "rfr.fit(X_train, y_train)\n",
        "# Realizar predicciones en el conjunto de prueba\n",
        "y_pred = rfr.predict(X_test)\n",
        "# Evaluar el rendimiento del modelo utilizando la métrica MSE\n",
        "mse_m2 = mean_squared_error(y_test, y_pred)\n",
        "r2_m2 = r2_score(y_test, y_pred)\n",
        "print(\"MSE en conjunto de prueba con mejor valor de n_estimators: \", mse_m2)\n",
        "print(\"r2 en conjunto de prueba con mejor valor de n_estimators: \", r2_m2)"
      ]
    },
    {
      "cell_type": "markdown",
      "source": [
        "Este parámetro indica el número de árboles de decisión que se crearán en el Random Forest. Un valor mayor de n_estimators puede mejorar el rendimiento del modelo, pero también puede aumentar el tiempo de entrenamiento y la complejidad del modelo, por este motivo hemos decidido escoger como valor para el parametro el 120 debido a que un numero mayor a este no representa una mejoría considerable en la precisión del modelo. este punto representa el equilibrio ideal entre el rendimiento del modelo y el costo computacional.\n",
        "\n",
        "El valor del mse y r2 en este punto óptimo es de 3081308.33 y 0.7985 respectivamente, lo cual presenta una mejoría considerable con respecto al modelo inicial.\n",
        "\n"
      ],
      "metadata": {
        "id": "hSUXB8MTbgzn"
      }
    },
    {
      "cell_type": "markdown",
      "source": [
        "####Calibracióm max_features"
      ],
      "metadata": {
        "id": "Qy6WnYRPSBSt"
      }
    },
    {
      "cell_type": "code",
      "source": [
        "# Creación de lista de valores para iterar sobre diferentes valores de max_features\n",
        "feature_range = range(1, len(X.columns)+1)\n",
        "\n",
        "# Definición de lista para almacenar la exactitud (accuracy) promedio para cada valor de max_features\n",
        "mse_scores = []\n",
        "\n",
        "# Uso de un 10-fold cross-validation para cada valor de max_features\n",
        "for feature in feature_range:\n",
        "    rfr = RandomForestRegressor(n_estimators=120, max_features=feature, random_state=1, n_jobs=-1)\n",
        "    rfr.fit(X_train, y_train)\n",
        "    y_pred = rfr.predict(X_test)\n",
        "    mse_scores.append(mean_squared_error(y_test, y_pred))\n",
        "\n",
        "# Gráfica del desempeño del modelo vs la cantidad de max_features\n",
        "plt.plot(feature_range, mse_scores)\n",
        "plt.xlabel('max_features')\n",
        "plt.ylabel('MSE')\n",
        "\n",
        "# Seleccionar el mejor valor de max_features\n",
        "best_max_features = feature_range[np.argmin(mse_scores)]\n",
        "print(\"El mejor valor de max_features es:\", best_max_features)\n",
        "\n",
        "rfr = RandomForestRegressor(n_estimators=120, max_features=best_max_features, random_state=1, n_jobs=-1)\n",
        "rfr.fit(X_train, y_train)\n",
        "# Realizar predicciones en el conjunto de prueba\n",
        "y_pred = rfr.predict(X_test)\n",
        "# Evaluar el rendimiento del modelo utilizando la métrica MSE\n",
        "mse_m3 = mean_squared_error(y_test, y_pred)\n",
        "r2_m3 = r2_score(y_test, y_pred)\n",
        "print(\"MSE en conjunto de prueba con mejor valor de max_features: \", mse_m3)\n",
        "print(\"r2 en conjunto de prueba con mejor valor de max_features: \", r2_m3)"
      ],
      "metadata": {
        "colab": {
          "base_uri": "https://localhost:8080/",
          "height": 517
        },
        "id": "jfxbFV5MSEN2",
        "outputId": "6b74e223-101e-46c3-9a30-5d366d58495c"
      },
      "execution_count": 64,
      "outputs": [
        {
          "output_type": "stream",
          "name": "stdout",
          "text": [
            "El mejor valor de max_features es: 9\n",
            "MSE en conjunto de prueba con mejor valor de max_features:  3081308.333607352\n",
            "r2 en conjunto de prueba con mejor valor de max_features:  0.7985565529809069\n"
          ]
        },
        {
          "output_type": "display_data",
          "data": {
            "text/plain": [
              "<Figure size 640x480 with 1 Axes>"
            ],
            "image/png": "[encoded data removed]"
          },
          "metadata": {}
        }
      ]
    },
    {
      "cell_type": "markdown",
      "source": [
        "En el modelo de RandomForestRegressor, max_features parámetro que determina el número máximo de variables que se considerarán al buscar la mejor división en cada nodo del árbol de decisión. Un valor bajo de max_features puede aumentar la varianza del modelo y el riesgo de sobreajuste, ya que solo se consideran un pequeño subconjunto de las características en cada árbol de decisión. Sin embargo, esto también puede hacer que el modelo sea más robusto a características irrelevantes. Para este Dataset con el que estamos trabajando utlizaremos las 9 variables con las que contamos, por ende el valor que tomará este parámetro en el modelo óptimo será 9.\n",
        "\n",
        "El valor del mse y r2 en este punto óptimo es de 3081308.33 y 0.7985 respectivamente, lo cual presenta una mejoría considerable con respecto al modelo inicial sin calibrar.\n"
      ],
      "metadata": {
        "id": "iV530DvkgqRs"
      }
    },
    {
      "cell_type": "markdown",
      "source": [
        "####Calibración max_depth"
      ],
      "metadata": {
        "id": "zyn9y7Xqhmc6"
      }
    },
    {
      "cell_type": "code",
      "source": [
        "# Creación de lista de valores para iterar sobre diferentes valores de max_depth\n",
        "depth_range = np.arange(1, 20)\n",
        "\n",
        "# Definición de lista para almacenar la exactitud (accuracy) promedio para cada valor de max_depth\n",
        "mse_scores = []\n",
        "\n",
        "# Uso de un 10-fold cross-validation para cada valor de max_depth\n",
        "for depth in depth_range:\n",
        "    rfr = RandomForestRegressor(n_estimators=120, max_features=9, max_depth = depth,random_state=1, n_jobs=-1)\n",
        "    rfr.fit(X_train, y_train)\n",
        "    y_pred = rfr.predict(X_test)\n",
        "    mse_scores.append(mean_squared_error(y_test, y_pred))\n",
        "\n",
        "\n",
        "# Gráfica del desempeño del modelo vs la cantidad de max_depth\n",
        "plt.plot(depth_range, mse_scores)\n",
        "plt.xlabel('max_depth')\n",
        "plt.ylabel('MSE')\n",
        "\n",
        "# Seleccionar el mejor valor de max_depth\n",
        "best_max_depth = depth_range[np.argmin(mse_scores)]\n",
        "print(\"El mejor valor de max_depth es:\", best_max_depth)\n",
        "\n",
        "rfr = RandomForestRegressor(n_estimators=120, max_features=9, max_depth= best_max_depth , random_state=1, n_jobs=-1)\n",
        "rfr.fit(X_train, y_train)\n",
        "# Realizar predicciones en el conjunto de prueba\n",
        "y_pred = rfr.predict(X_test)\n",
        "# Evaluar el rendimiento del modelo utilizando la métrica MSE\n",
        "mse_m4 = mean_squared_error(y_test, y_pred)\n",
        "r2_m4 = r2_score(y_test, y_pred)\n",
        "print(\"MSE en conjunto de prueba con mejor valor de max_depth: \", mse_m4)\n",
        "print(\"r2 en conjunto de prueba con mejor valor de max_depth: \", r2_m4)"
      ],
      "metadata": {
        "colab": {
          "base_uri": "https://localhost:8080/",
          "height": 517
        },
        "id": "gxHKcN2pib7i",
        "outputId": "7dcbc36a-b70a-4164-9457-325ab76c5df9"
      },
      "execution_count": 65,
      "outputs": [
        {
          "output_type": "stream",
          "name": "stdout",
          "text": [
            "El mejor valor de max_depth es: 8\n",
            "MSE en conjunto de prueba con mejor valor de max_depth:  2447183.338843247\n",
            "r2 en conjunto de prueba con mejor valor de max_depth:  0.8400130743530143\n"
          ]
        },
        {
          "output_type": "display_data",
          "data": {
            "text/plain": [
              "<Figure size 640x480 with 1 Axes>"
            ],
            "image/png": "[encoded data removed]"
          },
          "metadata": {}
        }
      ]
    },
    {
      "cell_type": "markdown",
      "source": [
        "Una profundidad máxima más alta significa que los árboles pueden ser más complejos y pueden capturar patrones más finos en los datos, pero también puede aumentar el riesgo de sobreajuste.\n",
        "\n",
        "Si la profundidad máxima es demasiado baja, los árboles pueden no ser lo suficientemente profundos para capturar patrones importantes en los datos, lo que puede llevar a un desempeño deficiente en el conjunto de datos de prueba. Por otro lado, si la profundidad máxima es demasiado alta, el modelo puede sobreajustarse al conjunto de datos de entrenamiento y no generalizar bien a nuevos datos.\n",
        "\n",
        "para este caso, el valor óptimo del parametro max_depth será de 8, ya que este nos brinda un MSE de 2447183.33 y un r2 de 0.84, considerablemente mucho mayor que el modelo inicial."
      ],
      "metadata": {
        "id": "70jmrsLfkijC"
      }
    },
    {
      "cell_type": "markdown",
      "source": [
        "####Modelo Óptimo\n",
        "\n",
        "\n"
      ],
      "metadata": {
        "id": "GfdH14AESEtq"
      }
    },
    {
      "cell_type": "code",
      "source": [
        "# Definición del modelo óptimo\n",
        "\n",
        "rfr = RandomForestRegressor(n_estimators=120, max_features=9, max_depth= 8 , random_state=1, n_jobs=-1)\n",
        "\n",
        "rfr.fit(X_train, y_train)\n",
        "y_pred = rfr.predict(X_test)\n",
        "\n",
        "mse = mean_squared_error(y_test, y_pred)\n",
        "r2 = r2_score(y_test, y_pred)\n",
        "\n",
        "print(\"MSE:\", mse)\n",
        "print(\"R2:\", r2)\n",
        "\n",
        "mse_modelos = [mse_m1, mse_m2, mse_m3, mse_m4]\n",
        "modelos = [\"Sin Calibrar\", \"Cal. N_Estimators\", \"Cal. Max_features\", \"Cal. max_depth\"]\n",
        "\n",
        "plt.plot(modelos, mse_modelos)\n",
        "plt.ylabel('Paso Calibración')\n",
        "plt.xlabel('Modelos')\n",
        "\n",
        "for i in range(len(modelos)):\n",
        "    plt.text(modelos[i], mse_modelos[i], str(round(mse_modelos[i], 2)), ha='center', va='bottom')\n",
        "\n",
        "plt.show()"
      ],
      "metadata": {
        "colab": {
          "base_uri": "https://localhost:8080/",
          "height": 500
        },
        "id": "6MsKhMjXSLfF",
        "outputId": "34c60921-9be8-45de-9660-add910cb425c"
      },
      "execution_count": 66,
      "outputs": [
        {
          "output_type": "stream",
          "name": "stdout",
          "text": [
            "MSE: 2447183.338843247\n",
            "R2: 0.8400130743530143\n"
          ]
        },
        {
          "output_type": "display_data",
          "data": {
            "text/plain": [
              "<Figure size 640x480 with 1 Axes>"
            ],
            "image/png": "[encoded data removed]"
          },
          "metadata": {}
        }
      ]
    },
    {
      "cell_type": "markdown",
      "source": [
        "Con base en los resultados obtenidos al evaluar el desempeño de cada uno de los modelos que hicieron parte del proceso de calibración, podemos concluir que el proceso de calibración es crucial para obtener un modelo con un alto poder predictivo. Al ir definiendo los valores óptimos de los parámetros del modelo, se evidenció una mejoría en su desempeño, pero fue la calibración del parámetro \"max_depth\" la que produjo la mayor mejora en el valor del MSE y el aumento del valor del R2 del modelo.\n",
        "\n",
        "Estos resultados nos muestran la importancia de cada parámetro en el desempeño del modelo y cómo su ajuste afecta la forma en que el modelo se ajusta a los datos. Al final del proceso de calibración, se obtuvo un modelo final con un MSE de 2447183.33 y un R2 de 0.84, lo cual indica que es un modelo con un alto poder predictivo y que puede ser utilizado para hacer predicciones precisas sobre los datos. En resumen, la calibración de los parámetros es una parte fundamental del entrenamiento de un modelo y puede marcar la diferencia en su desempeño final."
      ],
      "metadata": {
        "id": "X3TUxOV5ZMEE"
      }
    },
    {
      "cell_type": "markdown",
      "metadata": {
        "id": "m2oDVzX-lDQI"
      },
      "source": [
        "### Punto 6 - XGBoost con librería\n",
        "\n",
        "En la celda 6 implementen un modelo XGBoost de regresión con la librería sklearn y comenten sobre el desempeño del modelo."
      ]
    },
    {
      "cell_type": "code",
      "execution_count": 70,
      "metadata": {
        "scrolled": true,
        "id": "bTEeNQQAlDQJ",
        "outputId": "cd8eb04b-7d00-4be2-da2d-e58d2dcc51de",
        "colab": {
          "base_uri": "https://localhost:8080/"
        }
      },
      "outputs": [
        {
          "output_type": "stream",
          "name": "stdout",
          "text": [
            "XGBRegressor(base_score=None, booster=None, callbacks=None,\n",
            "             colsample_bylevel=None, colsample_bynode=None,\n",
            "             colsample_bytree=None, early_stopping_rounds=None,\n",
            "             enable_categorical=False, eval_metric=None, feature_types=None,\n",
            "             gamma=None, gpu_id=None, grow_policy=None, importance_type=None,\n",
            "             interaction_constraints=None, learning_rate=None, max_bin=None,\n",
            "             max_cat_threshold=None, max_cat_to_onehot=None,\n",
            "             max_delta_step=None, max_depth=None, max_leaves=None,\n",
            "             min_child_weight=None, missing=nan, monotone_constraints=None,\n",
            "             n_estimators=100, n_jobs=None, num_parallel_tree=None,\n",
            "             predictor=None, random_state=None, ...)\n",
            "El MSE del modelo es: 2629001.844928506\n",
            "El R2 del modelo es: 0.8281265175296673\n"
          ]
        }
      ],
      "source": [
        "# Celda 6\n",
        "\n",
        "clf = XGBRegressor()\n",
        "print(clf)\n",
        "# Entrenamiento (fit) y desempeño del modelo XGBoost\n",
        "clf.fit(X_train, y_train)\n",
        "y_pred = clf.predict(X_test)\n",
        "print(f\"El MSE del modelo es: {mean_squared_error(y_test, y_pred)}\")\n",
        "print(f\"El R2 del modelo es: {r2_score(y_test, y_pred)}\")"
      ]
    },
    {
      "cell_type": "markdown",
      "metadata": {
        "id": "53qk24rWlDQJ"
      },
      "source": [
        "Se calibra un modelo de regresión XGBoost a través de la librería sklearn con el fin de predecir el precio de los vehículos acorde a los diferentes predictores,\n",
        "\n",
        "El modelo XGBoost, o extreme gradieng boosting es un método de aprendizaje automático supervisado para clasificación y regresión. Este método se basa en árboles de decisión y supone una mejora sobre otros métodos, como el bosque aleatorio y refuerzo de gradientes. Su funcionamiento se basa en el modelo de gradient boosting y funciona a través de entrenar diferentes weak learners a través de la función de gradiente descendiente la cual, iterativamente va prediciendo los errores del árbol anterior y así va mejorando el modelo, adicional utiliza muestreo aleatorio para las muestras de entrenamiento y los predictores, tiene mejoras algoritmicas y computacionales con respecto a gradient boosting, por lo que se llama coloquialmente un \"gradient boosting con esteroides\",\n",
        "\n",
        "Se entrena el XGBoost de regresión para nuestro dataset con los hiperparámetros default obteniendo un MSE de 2629001.84"
      ]
    },
    {
      "cell_type": "markdown",
      "metadata": {
        "id": "rwjXlijJlDQJ"
      },
      "source": [
        "### Punto 7 - Calibración de parámetros XGBoost\n",
        "\n",
        "En la celda 7 calibren los parámetros learning rate, gamma y colsample_bytree del modelo XGBoost para regresión, comenten sobre el desempeño del modelo y describan cómo cada parámetro afecta el desempeño del modelo."
      ]
    },
    {
      "cell_type": "code",
      "execution_count": 71,
      "metadata": {
        "id": "GiNu0Ht7lDQJ",
        "outputId": "56e991e9-22d1-4b31-d6b5-857059f845f9",
        "colab": {
          "base_uri": "https://localhost:8080/",
          "height": 524
        }
      },
      "outputs": [
        {
          "output_type": "display_data",
          "data": {
            "text/plain": [
              "<Figure size 640x480 with 1 Axes>"
            ],
            "image/png": "[encoded data removed]"
          },
          "metadata": {}
        },
        {
          "output_type": "stream",
          "name": "stdout",
          "text": [
            "El mejor valor de learning_rate es: 0.060000000000000005\n",
            "MSE en conjunto de prueba con mejor valor de learning_rate:  2418818.437107645\n",
            "R2 en conjunto de prueba con mejor valor de learning_rate:  0.84186745663526\n"
          ]
        }
      ],
      "source": [
        "# Celda 7\n",
        "\n",
        "#Calibración para learning rate\n",
        "\n",
        "# Definir los diferentes valores de learning_rate que se van a probar\n",
        "learning_rate = np.arange(0.01, 0.3, 0.01)\n",
        "# Inicializar la lista donde se guardarán los resultados\n",
        "medias = []\n",
        "# Entrenar el modelo para cada valor de learning_rate y calcular el MSE\n",
        "for i in learning_rate:\n",
        "    clf = XGBRegressor(learning_rate=i)\n",
        "    clf.fit(X_train, y_train)\n",
        "    y_pred = clf.predict(X_test)\n",
        "    medias.append(mean_squared_error(y_test, y_pred))\n",
        "# Graficar los resultados\n",
        "plt.plot(learning_rate, medias)\n",
        "plt.title(\"XGBoost learning_rate vs MSE\")\n",
        "plt.xlabel('learning_rate')\n",
        "plt.ylabel('MSE')\n",
        "plt.show()\n",
        "# Seleccionar el mejor valor de learning_rate\n",
        "best_learning_rate = learning_rate[np.argmin(medias)]\n",
        "print(\"El mejor valor de learning_rate es:\", best_learning_rate)\n",
        "# Entrenar un nuevo modelo XGBoost con el mejor valor de learning_rate encontrado\n",
        "clf = XGBRegressor(learning_rate=best_learning_rate)\n",
        "clf.fit(X_train, y_train)\n",
        "# Realizar predicciones en el conjunto de prueba\n",
        "y_pred = clf.predict(X_test)\n",
        "# Evaluar el rendimiento del modelo utilizando la métrica MSE\n",
        "mse_lr = mean_squared_error(y_test, y_pred)\n",
        "r2_lr = r2_score(y_test, y_pred)\n",
        "print(\"MSE en conjunto de prueba con mejor valor de learning_rate: \", mse_lr)\n",
        "print(\"R2 en conjunto de prueba con mejor valor de learning_rate: \", r2_lr)\n"
      ]
    },
    {
      "cell_type": "code",
      "execution_count": 72,
      "metadata": {
        "id": "mN7MwnRElDQJ",
        "outputId": "2e58ce9f-a3ed-49b8-c37e-35dc1bc56127",
        "colab": {
          "base_uri": "https://localhost:8080/",
          "height": 524
        }
      },
      "outputs": [
        {
          "output_type": "stream",
          "name": "stdout",
          "text": [
            "El mejor valor de gamma es: 0.1\n"
          ]
        },
        {
          "output_type": "display_data",
          "data": {
            "text/plain": [
              "<Figure size 640x480 with 1 Axes>"
            ],
            "image/png": "[encoded data removed]"
          },
          "metadata": {}
        },
        {
          "output_type": "stream",
          "name": "stdout",
          "text": [
            "MSE en conjunto de prueba con mejor valor de learning_rate y el mejor gamma es:  2418818.437107645\n",
            "R2 en conjunto de prueba con mejor valor de learning_rate y el mejor gamma es:  0.84186745663526\n"
          ]
        }
      ],
      "source": [
        "#Calibración del mejor gamma\n",
        "\n",
        "# Definir los diferentes valores de gamma que se van a probar\n",
        "gammas = np.arange(0.1, 10, 0.5)\n",
        "# Entrenar modelos XGBoost con cada valor de gamma y calcular el MSE en el conjunto de prueba\n",
        "mses = []\n",
        "for gamma in gammas:\n",
        "    clf = XGBRegressor(gamma=gamma,learning_rate=best_learning_rate)\n",
        "    clf.fit(X_train, y_train)\n",
        "    y_pred = clf.predict(X_test)\n",
        "    mse = mean_squared_error(y_test, y_pred)\n",
        "    mses.append(mse)\n",
        "# Encontrar el índice del valor de gamma con el MSE más bajo\n",
        "best_gamma_idx = np.argmin(mses)\n",
        "best_gamma = gammas[best_gamma_idx]\n",
        "# Imprimir el valor de gamma con el MSE más bajo\n",
        "print(\"El mejor valor de gamma es:\", best_gamma)\n",
        "# Graficar los resultados\n",
        "plt.plot(gammas, mses, '-o')\n",
        "plt.xlabel('Gammas')\n",
        "plt.ylabel('MSE')\n",
        "plt.title('MSE vs Gammas')\n",
        "plt.show()\n",
        "# Entrenar un nuevo modelo XGBoost con el mejor valor de learning_rate encontrado y el mejor gamma\n",
        "clf = XGBRegressor(learning_rate=best_learning_rate, gamma = best_gamma)\n",
        "clf.fit(X_train, y_train)\n",
        "# Realizar predicciones en el conjunto de prueba\n",
        "y_pred = clf.predict(X_test)\n",
        "# Evaluar el rendimiento del modelo utilizando la métrica MSE\n",
        "mse_g = mean_squared_error(y_test, y_pred)\n",
        "print(\"MSE en conjunto de prueba con mejor valor de learning_rate y el mejor gamma es: \", mse_g)  \n",
        "r2_g = r2_score(y_test, y_pred)\n",
        "print(\"R2 en conjunto de prueba con mejor valor de learning_rate y el mejor gamma es: \", r2_g)"
      ]
    },
    {
      "cell_type": "code",
      "execution_count": 73,
      "metadata": {
        "id": "E1o_ZoC4lDQK",
        "outputId": "f330a97b-759a-4856-d83e-7cbc55c5a775",
        "colab": {
          "base_uri": "https://localhost:8080/",
          "height": 524
        }
      },
      "outputs": [
        {
          "output_type": "stream",
          "name": "stdout",
          "text": [
            "El mejor valor de colsample_bytree es: 0.44999999999999984\n"
          ]
        },
        {
          "output_type": "display_data",
          "data": {
            "text/plain": [
              "<Figure size 640x480 with 1 Axes>"
            ],
            "image/png": "[encoded data removed]"
          },
          "metadata": {}
        },
        {
          "output_type": "stream",
          "name": "stdout",
          "text": [
            "MSE en conjunto de prueba con mejor valor de learning_rate, el mejor gamma, y el mejor colsample_bytree es:  2399066.6539287544\n",
            "R2 en conjunto de prueba con mejor valor de learning_rate, el mejor gamma, y el mejor colsample_bytree es:  0.8431587481444325\n"
          ]
        }
      ],
      "source": [
        "#Calibración del mejor colsample_bytree\n",
        "\n",
        "# Definir los diferentes valores de colsample_bytree que se van a probar\n",
        "colsamples = np.arange(0.1, 1, 0.01)\n",
        "# Entrenar modelos XGBoost con cada valor de colsample_bytree y calcular el MSE en el conjunto de prueba\n",
        "mses = []\n",
        "for colsample in colsamples:\n",
        "    clf = XGBRegressor(colsample_bytree=colsample)\n",
        "    clf.fit(X_train, y_train)\n",
        "    y_pred = clf.predict(X_test)\n",
        "    mse = mean_squared_error(y_test, y_pred)\n",
        "    mses.append(mse)\n",
        "# Encontrar el índice del valor de colsample_bytree con el MSE más bajo\n",
        "best_colsample_idx = np.argmin(mses)\n",
        "best_colsample = colsamples[best_colsample_idx]\n",
        "# Imprimir el valor de colsample_bytree con el MSE más bajo\n",
        "print(\"El mejor valor de colsample_bytree es:\", best_colsample)\n",
        "# Graficar los resultados\n",
        "plt.plot(colsamples, mses, '-o')\n",
        "#plt.xscale('log')\n",
        "plt.xlabel('Colsample Bytree')\n",
        "plt.ylabel('MSE')\n",
        "plt.title('MSE vs Colsample bytree')\n",
        "plt.show()\n",
        "# Entrenar un nuevo modelo XGBoost con el mejor valor de learning_rate encontrado y el mejor gamma\n",
        "clf = XGBRegressor(learning_rate=best_learning_rate, gamma = best_gamma, colsample_bytree = best_colsample)\n",
        "clf.fit(X_train, y_train)\n",
        "# Realizar predicciones en el conjunto de prueba\n",
        "y_pred = clf.predict(X_test)\n",
        "# Evaluar el rendimiento del modelo utilizando la métrica MSE\n",
        "mse_CST = mean_squared_error(y_test, y_pred)\n",
        "r2_CST = r2_score(y_test, y_pred)\n",
        "print(\"MSE en conjunto de prueba con mejor valor de learning_rate, el mejor gamma, y el mejor colsample_bytree es: \", mse_CST)\n",
        "print(\"R2 en conjunto de prueba con mejor valor de learning_rate, el mejor gamma, y el mejor colsample_bytree es: \", r2_CST)"
      ]
    },
    {
      "cell_type": "code",
      "source": [
        "print(best_learning_rate)\n",
        "print(best_gamma)\n",
        "print(best_colsample)"
      ],
      "metadata": {
        "colab": {
          "base_uri": "https://localhost:8080/"
        },
        "id": "VIkgqrDF5-nP",
        "outputId": "89cdc939-50ca-4ca6-bd6b-b6cfb2164d9e"
      },
      "execution_count": 74,
      "outputs": [
        {
          "output_type": "stream",
          "name": "stdout",
          "text": [
            "0.060000000000000005\n",
            "0.1\n",
            "0.44999999999999984\n"
          ]
        }
      ]
    },
    {
      "cell_type": "code",
      "source": [],
      "metadata": {
        "id": "0_RrGcUU6JJt"
      },
      "execution_count": null,
      "outputs": []
    },
    {
      "cell_type": "markdown",
      "metadata": {
        "id": "WxYmsnaXlDQK"
      },
      "source": [
        "Luego de entrenar el modelo de regresión XGBoosting con sus hiperparámetros por default, se procede a calibrar los parámetros learning rate, gamma y colsample_bytree para intentar obtener un mejor desempeño en el modelo.\n",
        "\n",
        "Se comienza con el learning rate, ya que el algoritmo utiliza el aprendizaje lento o boosting como base, el learning rate se encarga de asignar un peso a la tasa de aprendizaje, con el fin de evitar el sobreajuste, normalmente se toman valores entre 0.01 y 0.3 para este hiperparámetro por lo que se crea un rango con saltos de 0.01 entre estos dos valores y se entrena un modelo XGBoost de regresión 29 veces para cada una de las opciones, se almacena el MSE en cada una de las iteraciones para evaluar el performance de los 29 modelos y así determinar cual es el mejor. Luego de hacer el loop y la evaluación se determina que el mejor learning rate es el de 0.06, este causa una mejora en el modelo con los hiperparámetros originales obteniendo un nuevo MSE de 2418818.43.\n",
        "\n",
        "Como segundo paso se hace un procedimiento similar al del learning rate pero ahora con el hiperparámetro “Gamma\", el objetivo del hiperparámetro gamma es controlar la complejidad del modelo de regresión y prevenir el sobreajuste, ajustando la penalización de la función de costo para hojas con valores cercanos a cero. Normalmente se toman valores entre 0.1 y 10 para este hiperparámetro por lo que se crea un rango con saltos de 0.5 entre estos dos valores y se entrena un modelo XGBoost 20 veces para cada una de las opciones, se almacena el MSE en cada una de las iteraciones para evaluar el performance de los 20 modelos y así determinar cual es el mejor. Luego de hacer el loop y la evaluación se determina que el mejor Gamma es el de 0.1, este no causa una mejora en el modelo con los hiperparámetros anteriores ya que el MSE obtenido sigue siendo de 2418818.43.\n",
        "\n",
        "Como tercer y último paso, se hace el mismo procedimiento pero ahora con el hiperparámetro “colsample_bytree \", el objetivo del hiperparámetro es controlar la proporción de características (columnas) que se seleccionan al construir cada árbol en el proceso de entrenamiento del modelo. Este hiperparámetro es específico para el algoritmo \"Tree Boosting\" que utiliza XGBoost. El propósito de colsample_bytree es controlar la varianza del modelo, permitiendo que cada árbol utilice solo una muestra aleatoria de las características disponibles en el conjunto de datos. Al hacer esto, se puede evitar que el modelo se ajuste en exceso a características específicas y permitir una mejor generalización. Normalmente se toman valores entre 0.1 y 1 para este hiperparámetro por lo que se crea un rango con saltos de 0.01 entre estos dos valores y se entrena un modelo XGBoost 90 veces para cada una de las opciones, se almacena el MSE en cada una de las iteraciones para evaluar el performance de los 90 modelos y así determinar cuál es el mejor. Luego de hacer el loop y la evaluación se determina que el mejor colsample_bytree es el de 0.339, este causa una mejora en el modelo, considerando la configuración de los hiperparámetros anteriores se tiene ahora un MSE de 2399066.65."
      ]
    },
    {
      "cell_type": "markdown",
      "metadata": {
        "id": "gRKftj14lDQK"
      },
      "source": [
        "### Punto 8 - Comparación y análisis de resultados\n",
        "En la celda 8 comparen los resultados obtenidos de los diferentes modelos (random forest y XGBoost) y comenten las ventajas del mejor modelo y las desventajas del modelo con el menor desempeño."
      ]
    },
    {
      "cell_type": "code",
      "execution_count": 77,
      "metadata": {
        "id": "8DribJfBlDQK",
        "colab": {
          "base_uri": "https://localhost:8080/",
          "height": 563
        },
        "outputId": "d55152dd-8698-4b85-812d-52a695f9d607"
      },
      "outputs": [
        {
          "output_type": "display_data",
          "data": {
            "text/plain": [
              "<Figure size 640x480 with 1 Axes>"
            ],
            "image/png": "[encoded data removed]"
          },
          "metadata": {}
        }
      ],
      "source": [
        "# Celda 8\n",
        "fig = plt.figure()\n",
        "ax = fig.add_axes([0,0,1,1])\n",
        "ax.set_title(\"RMSE\")\n",
        "ejeX = ['XGBoost', 'Random Forest']\n",
        "ejeY = [sqrt(mse_CST),sqrt(mse_m4)]\n",
        "ax.bar(ejeX,ejeY)\n",
        "def addlabels(x,y,plotP):\n",
        "    for i in range(len(x)):\n",
        "        plotP.text(i,y[i],round(y[i],5))\n",
        "addlabels(ejeX,ejeY,plt)\n",
        "plt.show()\n",
        "\n"
      ]
    },
    {
      "cell_type": "markdown",
      "source": [
        "Después de haber creado y ejecutado los modelos de predicción por los métodos tanto Random Forest como XGBoosting, nos encontramos que para poder estimar cual es el que estimaría de mejor manera la predicción del precio de un carro dadas las variables contenidas en la base de datos tales como, Marca, modelo, millaje, estado en el cual se encuentra ubicado, vamos a utilizar como métrica de decisión el RMSE (raíz del Error cuadrático medio) dado a la consistencia del estimador que a menor valor nos indica que el modelo presenta un mejor ajuste. Para este caso y como lo vimos en los puntos anteriores, como primer paso en búsqueda del mejor modelo para la predicción de los precios de los carros, se hizo las calibraciones específicas para cada tipo de modelo.\n",
        "\n",
        "Las primeras calibraciones realizadas están relacionadas con la estimación del modelo de Landon Forest para las cuales se tuvieron: como resultado los siguientes valores asociados:\n",
        "\n",
        "*   max_depth: 6\n",
        "*   max_features: 5\n",
        "*   n_estimators: 210\n",
        "\n",
        "Dadas las calibraciones, y al haber sido ingresadas al modelo podemos notar que resulta un modelo con un MSE 2447183.33 y un RMSE 1564.34758.\n",
        "\n",
        "De la misma forma, se calculó el modelo XGBoost, para saber que tan bueno sería prediciendo los precios de los carros, mediante el método de boosting, dado este parámetro, se tuvo en cuenta una predicción base y adicionalmente  se calculó calibrando los diferentes parámetros que ayudan a generar la mejor predicción, para esto y como se explicó en los puntos anteriores para el modelo de boosting, se calibraron:\n",
        "\n",
        "*   learning_rate: 0.06\n",
        "*   gamma: 0.1\n",
        "*   colsample: 0.449\n",
        "\n",
        "Como resultado de las calibraciones y ajustadas en el cálculo del modelo encontramos que para los estimadores resultantes el MSE 2399066.65 y el RMSE de 1548.89207.\n",
        "\n",
        "Como lo podemos observar en la gráfica anterior, y dada la interpretación de los estimadores, al XGBoost tener un RMSE menor, nos indica que, con este modelo, los errores obtenidos en promedio del modelo son más bajos que los obtenidos en el Random Forest, por lo que los resultados predichos por parte del primer modelo van a ser o van a explicar de una mejor manera la predicción del precio de los carros dadas las condiciones especificadas.\n",
        "\n",
        "De la misma forma, podemos asumir que el Random forest obtuvo un valor mayor en la media de sus errores cuadráticos por lo que si bien puede ser un modelo con alto valor predictivo, no supero la proximidad del otro.\n",
        "\n",
        "\n",
        "\n"
      ],
      "metadata": {
        "id": "qRTG4BL3wv9N"
      }
    }
  ],
  "metadata": {
    "kernelspec": {
      "display_name": "Python 3 (ipykernel)",
      "language": "python",
      "name": "python3"
    },
    "language_info": {
      "codemirror_mode": {
        "name": "ipython",
        "version": 3
      },
      "file_extension": ".py",
      "mimetype": "text/x-python",
      "name": "python",
      "nbconvert_exporter": "python",
      "pygments_lexer": "ipython3",
      "version": "3.9.12"
    },
    "colab": {
      "provenance": []
    }
  },
  "nbformat": 4,
  "nbformat_minor": 0
}